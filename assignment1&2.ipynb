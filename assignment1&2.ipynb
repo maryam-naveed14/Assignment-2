{
 "cells": [
  {
   "cell_type": "markdown",
   "id": "8398d5b8-02ee-4a2d-ba36-3f0687b125d9",
   "metadata": {},
   "source": [
    "# <center>Python 2024 Online Summer Internship</center>"
   ]
  },
  {
   "cell_type": "markdown",
   "id": "3f74ba87-2f58-423c-81e3-21387b1bb9d4",
   "metadata": {},
   "source": [
    "##### **<center>ASSIGNMENT 1</center>**"
   ]
  },
  {
   "cell_type": "markdown",
   "id": "4d2e8170-fb40-49bb-a498-3dc988cbce56",
   "metadata": {},
   "source": [
    "Name: Maryam Naveed\n",
    "\n",
    "\n",
    "E-mail ID: maryam.naveed14@gmail.com"
   ]
  },
  {
   "cell_type": "markdown",
   "id": "6ad088f4-4d48-417e-9b18-d7cc2e433aae",
   "metadata": {},
   "source": [
    "## <center>Displaying Messages / Data on Output Screen</center>"
   ]
  },
  {
   "cell_type": "markdown",
   "id": "628806d1-bc4d-44cc-9382-df46d1cc3c66",
   "metadata": {},
   "source": [
    "Use\n",
    "\n",
    "\n",
    "* print() Function\n",
    "\n",
    "\n",
    "Purpose\n",
    "\n",
    "\n",
    "* Display messages/data on output screen\n",
    "\n",
    "\n",
    "### Example 1\n",
    "\n",
    "\n",
    "Task: Print the following message on the Output Screen\n",
    "\n",
    "\n",
    "Allah is One.\n",
    "\n",
    "\n",
    "**Step 1: Completely and Correctly Understand the Real-world Scenario**\n",
    "\n",
    "\n",
    "* The task is to display the phrase \"Allah is one.\" on the screen\n",
    "\n",
    "\n",
    "**Step 2: Extract Client Requirements**\n",
    "\n",
    "\n",
    "* The client requires the exact phrase \"Allah is One.\" to be displayed.\n",
    "\n",
    "\n",
    "**Step 3: Extract Input-Processing-Output**\n",
    "\n",
    "\n",
    "* Input\n",
    "\n",
    "\n",
    "    * Data: Allah is One.\n",
    "    * Instruction: Display on Output Screen\n",
    "\n",
    "\n",
    "* Processing\n",
    "\n",
    "\n",
    "    * print() function\n",
    "\n",
    "\n",
    "* Output\n",
    "\n",
    "\n",
    "    * Allah is One.\n",
    "\n",
    "\n",
    "\n",
    "**Step 4: Write down Pseudocode**\n",
    "\n",
    "\n",
    "1. Start\n",
    "2. Display \"Allah is One.\"\n",
    "3. End\n",
    "\n",
    "\n",
    "**Step 5: Draw Flowchart (if needed)**\n",
    "\n",
    "\n",
    " "
   ]
  },
  {
   "attachments": {
    "d4b01b67-5388-4eee-8e10-06a4c808a885.png": {
     "image/png": "[encoded data removed]"
    }
   },
   "cell_type": "markdown",
   "id": "ecdab979-7303-449d-a9d6-63e630588dd6",
   "metadata": {},
   "source": [
    "![flow.png](attachment:d4b01b67-5388-4eee-8e10-06a4c808a885.png)"
   ]
  },
  {
   "cell_type": "markdown",
   "id": "2aac4d19-1e9a-4802-b44a-640cc929b5fe",
   "metadata": {},
   "source": [
    "**Step 6: Select Most Suitable Programming Language, IDE, and Machine**\n",
    "\n",
    "\n",
    "* Programming language: Python\n",
    "* IDE: Jupyter Notebook\n",
    "* Machine: Any standard machine with Python and Jupyter Notebook installed can be used\n",
    "\n",
    "\n",
    "**Step 7: Write down Developer and System Information**\n",
    "\n",
    "\n",
    "* Developer: Maryam Naveed\n",
    "* System:\n",
    "    * 64-bit operating system\n",
    "    * Windows 10 Home, 22H2\n",
    "\n",
    "\n",
    "**Step 8: Transform Pseudocode (or Flowchart) into Code with Proper Comments**\n",
    "\n",
    "\n",
    "* ''' This code displays the phrase \"Allah is One.\" '''\n",
    "\n",
    "print(\"Allah is one.\")\n",
    "\n",
    "\n",
    "**Step 9: Test Your Code**\n",
    " \n"
   ]
  },
  {
   "cell_type": "code",
   "execution_count": 95,
   "id": "5970ae9e-e8c4-4aa5-a672-b3e7cebf9912",
   "metadata": {},
   "outputs": [
    {
     "name": "stdout",
     "output_type": "stream",
     "text": [
      "Allah is one.\n"
     ]
    }
   ],
   "source": [
    "print(\"Allah is one.\")"
   ]
  },
  {
   "cell_type": "markdown",
   "id": "9cf76c09-04c7-4f88-a22a-be8ca1e72bb8",
   "metadata": {},
   "source": [
    "**Step 10: Deploy Your Software for Client Usage**\n",
    "\n",
    "\n",
    "* Share Jupyter Notebook file with client."
   ]
  },
  {
   "cell_type": "markdown",
   "id": "0709f961-7bbb-4626-abf5-4294e728f544",
   "metadata": {},
   "source": [
    "### Example 2\n",
    "\n",
    "\n",
    "Task: Print the following message on the Output Screen\n",
    "\n",
    "\n",
    "Hazrat Muhammad (PBUH) is the last Messenger of Allah and role \n",
    "model for us in all walks of life.\n",
    "\n",
    "\n",
    "\n",
    "**Step 1: Completely and Correctly Understand the Real-world Scenario**\n",
    "\n",
    "\n",
    "* The task is to display the sentence \"Hazrat Muhammad (PBUH) is the last Messenger of Allah and role \n",
    "model for us in all walks of life.\" on the screen\n",
    "\n",
    "\n",
    "**Step 2: Extract Client Requirements**\n",
    "\n",
    "\n",
    "* The client requires the exact sentence \"Hazrat Muhammad (PBUH) is the last Messenger of Allah and role \n",
    "model for us in all walks of life.\" to be displayed.\n",
    "\n",
    "\n",
    "**Step 3: Extract Input-Processing-Output**\n",
    "\n",
    "\n",
    "* Input\n",
    "\n",
    "\n",
    "    * Data: Hazrat Muhammad (PBUH) is the last Messenger of Allah and role model for us in all walks of life.\n",
    "    * Instruction: Display on Output Screen\n",
    "\n",
    "\n",
    "* Processing\n",
    "\n",
    "\n",
    "    * print() function\n",
    "\n",
    "\n",
    "* Output\n",
    "\n",
    "\n",
    "    * Hazrat Muhammad (PBUH) is the last Messenger of Allah and role model for us in all walks of life.\n",
    "\n",
    "\n",
    "\n",
    "**Step 4: Write down Pseudocode**\n",
    "\n",
    "\n",
    "1. Start\n",
    "2. Display \"Hazrat Muhammad (PBUH) is the last Messenger of Allah and role model for us in all walks of life.\"\n",
    "3. End\n",
    "\n",
    "\n",
    "**Step 5: Draw Flowchart (if needed)**\n",
    "\n",
    "\n",
    "* Similar flowchart to example 1\n",
    "\n",
    "\n",
    "**Step 6: Select Most Suitable Programming Language, IDE, and Machine**\n",
    "\n",
    "\n",
    "* Programming language: Python\n",
    "* IDE: Jupyter Notebook\n",
    "* Machine: Any standard machine with Python and Jupyter Notebook installed can be used\n",
    "\n",
    "\n",
    "**Step 7: Write down Developer and System Information**\n",
    "\n",
    "\n",
    "* Developer: Maryam Naveed\n",
    "* System:\n",
    "    * 64-bit operating system\n",
    "    * Windows 10 Home, 22H2\n",
    "\n",
    "\n",
    "**Step 8: Transform Pseudocode (or Flowchart) into Code with Proper Comments**\n",
    "\n",
    "\n",
    "* ''' This code displays the sentence \"Hazrat Muhammad (PBUH) is the last Messenger of Allah and role model for us in all walks of life.\" '''\n",
    "\n",
    "print(\"Hazrat Muhammad (PBUH) is the last Messenger of Allah and role model for us in all walks of life.\")\n",
    "\n",
    "\n",
    "**Step 9: Test Your Code**"
   ]
  },
  {
   "cell_type": "code",
   "execution_count": 96,
   "id": "0f2b90e6-118e-4419-9f22-51fdb3cc0645",
   "metadata": {},
   "outputs": [
    {
     "name": "stdout",
     "output_type": "stream",
     "text": [
      "Hazrat Muhammad (PBUH) is the last Messenger of Allah and role model for us in all walks of life.\n"
     ]
    }
   ],
   "source": [
    "print(\"Hazrat Muhammad (PBUH) is the last Messenger of Allah and role model for us in all walks of life.\")"
   ]
  },
  {
   "cell_type": "markdown",
   "id": "ab0f66ed-ec5a-4f34-871a-b8fd98d810a0",
   "metadata": {},
   "source": [
    "**Step 10: Deploy Your Software for Client Usage**\n",
    "\n",
    "\n",
    "* Share Jupyter Notebook file with client."
   ]
  },
  {
   "cell_type": "markdown",
   "id": "25b98fe3-5566-4467-accb-4b8593e9f29f",
   "metadata": {},
   "source": [
    "### Example 3\n",
    "\n",
    "\n",
    "Task: Print the following integer and float data values on the Output Screen\n",
    "\n",
    "\n",
    "786\n",
    "\n",
    "\n",
    "3.86\n",
    "\n",
    "\n",
    "\n",
    "**Step 1: Completely and Correctly Understand the Real-world Scenario**\n",
    "\n",
    "\n",
    "* The task is to display the integer and float data values \"786\" and \"3.86\" on the screen\n",
    "\n",
    "\n",
    "**Step 2: Extract Client Requirements**\n",
    "\n",
    "\n",
    "* The client requires the the integer and float data values \"786\" and \"3.86\" to be displayed.\n",
    "\n",
    "\n",
    "**Step 3: Extract Input-Processing-Output**\n",
    "\n",
    "\n",
    "* Input\n",
    "\n",
    "\n",
    "    * Data:\n",
    "        * 786\n",
    "        * 3.86\n",
    "    * Instruction: Display on Output Screen\n",
    "\n",
    "\n",
    "* Processing\n",
    "\n",
    "\n",
    "    * print() function\n",
    "\n",
    "\n",
    "* Output\n",
    "\n",
    "\n",
    "    * 786\n",
    "      3.86\n",
    "\n",
    "\n",
    "\n",
    "**Step 4: Write down Pseudocode**\n",
    "\n",
    "\n",
    "1. Start\n",
    "2. Display \"786\"\n",
    "3. Display \"3.86\"\n",
    "4. End\n",
    "\n",
    "\n",
    "**Step 5: Draw Flowchart (if needed)**\n",
    "\n",
    "\n",
    "* Similar flowchart to example 1 (and example 2)\n",
    "\n",
    "\n",
    "**Step 6: Select Most Suitable Programming Language, IDE, and Machine**\n",
    "\n",
    "\n",
    "* Programming language: Python\n",
    "* IDE: Jupyter Notebook\n",
    "* Machine: Any standard machine with Python and Jupyter Notebook installed can be used\n",
    "\n",
    "\n",
    "**Step 7: Write down Developer and System Information**\n",
    "\n",
    "\n",
    "* Developer: Maryam Naveed\n",
    "* System:\n",
    "    * 64-bit operating system\n",
    "    * Windows 10 Home, 22H2\n",
    "\n",
    "\n",
    "**Step 8: Transform Pseudocode (or Flowchart) into Code with Proper Comments**\n",
    "\n",
    "\n",
    "* ''' This code displays the integer \"786\" and floating point number \"3.86\" '''\n",
    "\n",
    "print(786)\n",
    "\n",
    "\n",
    "print(3.86)\n",
    "\n",
    "\n",
    "**Step 9: Test Your Code**"
   ]
  },
  {
   "cell_type": "code",
   "execution_count": 97,
   "id": "4a9b63f4-5273-440e-904e-2b95b9adf928",
   "metadata": {},
   "outputs": [
    {
     "name": "stdout",
     "output_type": "stream",
     "text": [
      "786\n",
      "3.86\n"
     ]
    }
   ],
   "source": [
    "print(786)\n",
    "\n",
    "\n",
    "print(3.86)"
   ]
  },
  {
   "cell_type": "markdown",
   "id": "546a6b97-49b1-42f3-bf97-9983ef03bcdc",
   "metadata": {},
   "source": [
    "**Step 10: Deploy Your Software for Client Usage**\n",
    "\n",
    "\n",
    "* Share Jupyter Notebook file with client.\n"
   ]
  },
  {
   "cell_type": "markdown",
   "id": "62ddce23-0ef9-4808-83b0-4e804f325ee6",
   "metadata": {},
   "source": [
    "### TODO Task 1\n",
    "\n",
    "\n",
    "Print the following message on the Output Screen.\n",
    "Purpose of our lives is: Friendship of Allah.\n",
    "\n",
    "\n",
    "\n",
    "**Step 1: Completely and Correctly Understand the Real-world Scenario**\n",
    "\n",
    "\n",
    "* The task is to display \"Purpose of our lives is: Friendship of Allah.\" on the screen\n",
    "\n",
    "\n",
    "**Step 2: Extract Client Requirements**\n",
    "\n",
    "\n",
    "* The client requires \"Purpose of our lives is: Friendship of Allah.\" to be displayed.\n",
    "\n",
    "\n",
    "**Step 3: Extract Input-Processing-Output**\n",
    "\n",
    "\n",
    "* Input\n",
    "\n",
    "\n",
    "    * Data: Purpose of our lives is: Friendship of Allah.\n",
    "    * Instruction: Display on Output Screen\n",
    "\n",
    "\n",
    "* Processing\n",
    "\n",
    "\n",
    "    * print() function\n",
    "\n",
    "\n",
    "* Output\n",
    "\n",
    "\n",
    "   * Purpose of our lives is: Friendship of Allah. \n",
    "\n",
    "\n",
    "\n",
    "**Step 4: Write down Pseudocode**\n",
    "\n",
    "\n",
    "1. Start\n",
    "2. Display \"Purpose of our lives is: Friendship of Allah.\" \n",
    "3. End\n",
    "\n",
    "\n",
    "**Step 5: Draw Flowchart (if needed)**\n",
    "\n",
    "\n",
    "* Similar flowchart to example 1  \n",
    "\n",
    "\n",
    "**Step 6: Select Most Suitable Programming Language, IDE, and Machine**\n",
    "\n",
    "\n",
    "* Programming language: Python\n",
    "* IDE: Jupyter Notebook\n",
    "* Machine: Any standard machine with Python and Jupyter Notebook installed can be used\n",
    "\n",
    "\n",
    "**Step 7: Write down Developer and System Information**\n",
    "\n",
    "\n",
    "* Developer: Maryam Naveed\n",
    "* System:\n",
    "    * 64-bit operating system\n",
    "    * Windows 10 Home, 22H2\n",
    "\n",
    "\n",
    "**Step 8: Transform Pseudocode (or Flowchart) into Code with Proper Comments**\n",
    "\n",
    "\n",
    "* ''' This code displays \"Purpose of our lives is: Friendship of Allah.\" '''\n",
    "\n",
    "print(\"Purpose of our lives is: Friendship of Allah.\")\n",
    "\n",
    "\n",
    "\n",
    "**Step 9: Test Your Code**"
   ]
  },
  {
   "cell_type": "code",
   "execution_count": 7,
   "id": "49f676ff-2fb4-48cf-b5f2-9b68bcd9e654",
   "metadata": {},
   "outputs": [
    {
     "name": "stdout",
     "output_type": "stream",
     "text": [
      "Purpose of our lives is: Friendship of Allah.\n"
     ]
    }
   ],
   "source": [
    "print(\"Purpose of our lives is: Friendship of Allah.\")"
   ]
  },
  {
   "cell_type": "markdown",
   "id": "a4e4ce57-0d77-4eb2-9cda-9dd0a1dbf4ec",
   "metadata": {},
   "source": [
    "**Step 10: Deploy Your Software for Client Usage**\n",
    "\n",
    "\n",
    "* Share Jupyter Notebook file with client.\n"
   ]
  },
  {
   "cell_type": "markdown",
   "id": "7c10b722-7996-4ea1-8c94-0588fbf0dc1b",
   "metadata": {},
   "source": [
    "### TODO Task 2\n",
    "\n",
    "\n",
    "Print the following message on the Output Screen.\n",
    "Your name\n",
    "Your age\n",
    "Your marks (percentage) in FSc / A Levels\n",
    "\n",
    "\n",
    "\n",
    "**Step 1: Completely and Correctly Understand the Real-world Scenario**\n",
    "\n",
    "\n",
    "* The task is to display name, age and marks/percentage in FSc/Alevels on the screen\n",
    "\n",
    "\n",
    "**Step 2: Extract Client Requirements**\n",
    "\n",
    "\n",
    "* The client requires name, age and marks/percentage in FSc/Alevels to be displayed.\n",
    "\n",
    "\n",
    "**Step 3: Extract Input-Processing-Output**\n",
    "\n",
    "\n",
    "* Input\n",
    "\n",
    "\n",
    "    * Data:\n",
    "        * Maryam Naveed\n",
    "        * 20 years old\n",
    "        * 976/1100 (88%)\n",
    "    * Instruction: Display on Output Screen\n",
    "\n",
    "\n",
    "* Processing\n",
    "\n",
    "\n",
    "    * print() function\n",
    "\n",
    "\n",
    "* Output\n",
    "\n",
    "\n",
    "    * Maryam Naveed\n",
    "    * 20 years old\n",
    "    * 976/1100 (88%)\n",
    "\n",
    "\n",
    "\n",
    "**Step 4: Write down Pseudocode**\n",
    "\n",
    "\n",
    "1. Start\n",
    "2. Display \"Maryam Naveed\"\n",
    "3. Display \"20 years old\"\n",
    "4. Display \"976/1100 (88%)\" \n",
    "5. End\n",
    "\n",
    "\n",
    "**Step 5: Draw Flowchart (if needed)**\n",
    "\n",
    "\n",
    "* Similar flowchart to example 1  \n",
    "\n",
    "\n",
    "**Step 6: Select Most Suitable Programming Language, IDE, and Machine**\n",
    "\n",
    "\n",
    "* Programming language: Python\n",
    "* IDE: Jupyter Notebook\n",
    "* Machine: Any standard machine with Python and Jupyter Notebook installed can be used\n",
    "\n",
    "\n",
    "**Step 7: Write down Developer and System Information**\n",
    "\n",
    "\n",
    "* Developer: Maryam Naveed\n",
    "* System:\n",
    "    * 64-bit operating system\n",
    "    * Windows 10 Home, 22H2\n",
    "\n",
    "\n",
    "**Step 8: Transform Pseudocode (or Flowchart) into Code with Proper Comments**\n",
    "\n",
    "\n",
    "* ''' This code displays \"Maryam Naveed\", \"20 years old\" and \"976/1100 (88%)\" '''\n",
    "\n",
    "print(\"Maryam Naveed\")\n",
    "\n",
    "\n",
    "print(\"20 years old\")\n",
    "\n",
    "\n",
    "print(\"976/1100 (88%)\")\n",
    "\n",
    "\n",
    "\n",
    "**Step 9: Test Your Code**"
   ]
  },
  {
   "cell_type": "code",
   "execution_count": 8,
   "id": "a3af4b0e-ecb7-4bc4-8232-4267bb498c6e",
   "metadata": {},
   "outputs": [
    {
     "name": "stdout",
     "output_type": "stream",
     "text": [
      "Maryam Naveed\n",
      "20 years old\n",
      "976/1100 (88%)\n"
     ]
    }
   ],
   "source": [
    "print(\"Maryam Naveed\")\n",
    "print(\"20 years old\")\n",
    "print(\"976/1100 (88%)\")\n"
   ]
  },
  {
   "cell_type": "markdown",
   "id": "671cce1e-5937-4fe0-a649-412174d5d6a5",
   "metadata": {},
   "source": [
    "**Step 10: Deploy Your Software for Client Usage**\n",
    "\n",
    "\n",
    "* Share Jupyter Notebook file with client.\n"
   ]
  },
  {
   "cell_type": "markdown",
   "id": "a86a36e9-24fe-4820-866b-1d6191747fe6",
   "metadata": {},
   "source": [
    "### TODO Task 3\n",
    "\n",
    "\n",
    "Print the following  information about your city.\n",
    "\n",
    "* Name\n",
    "* Population\n",
    "* Famous for\n",
    "* Geographic area in kilometers \n",
    "\n",
    "\n",
    "\n",
    "\n",
    "\n",
    "**Step 1: Completely and Correctly Understand the Real-world Scenario**\n",
    "\n",
    "\n",
    "* The task is to display name, population, famous for and geographic area in kilometers, of city, on the screen\n",
    "\n",
    "\n",
    "**Step 2: Extract Client Requirements**\n",
    "\n",
    "\n",
    "* The client requires name, population, famous for and geographic area in kilometers to be displayed.\n",
    "\n",
    "\n",
    "**Step 3: Extract Input-Processing-Output**\n",
    "\n",
    "\n",
    "* Input\n",
    "\n",
    "\n",
    "    * Data:\n",
    "        * Lahore\n",
    "        * 11.13 million (2017)\n",
    "        * food trends\n",
    "        * 1014 km²\n",
    "    * Instruction: Display on Output Screen\n",
    "\n",
    "\n",
    "* Processing\n",
    "\n",
    "\n",
    "    * print() function\n",
    "\n",
    "\n",
    "* Output\n",
    "\n",
    "\n",
    "    * Lahore\n",
    "    * 11.13 million (2017)\n",
    "    * famous for food trends\n",
    "    * 1014 km²\n",
    "\n",
    "\n",
    "\n",
    "**Step 4: Write down Pseudocode**\n",
    "\n",
    "\n",
    "1. Start\n",
    "2. Display \"Lahore\"\n",
    "3. Display \"11.13 million (2017)\"\n",
    "4. Display \"famous for food trends\"\n",
    "5. Display \"1014 km²\" \n",
    "6. End\n",
    "\n",
    "\n",
    "**Step 5: Draw Flowchart (if needed)**\n",
    "\n",
    "\n",
    "* Similar flowchart to example 1  \n",
    "\n",
    "\n",
    "**Step 6: Select Most Suitable Programming Language, IDE, and Machine**\n",
    "\n",
    "\n",
    "* Programming language: Python\n",
    "* IDE: Jupyter Notebook\n",
    "* Machine: Any standard machine with Python and Jupyter Notebook installed can be used\n",
    "\n",
    "\n",
    "**Step 7: Write down Developer and System Information**\n",
    "\n",
    "\n",
    "* Developer: Maryam Naveed\n",
    "* System:\n",
    "    * 64-bit operating system\n",
    "    * Windows 10 Home, 22H2\n",
    "\n",
    "\n",
    "**Step 8: Transform Pseudocode (or Flowchart) into Code with Proper Comments**\n",
    "\n",
    "\n",
    "* ''' This code displays \"Lahore\", \"11.13 million (2017)\", \"famous for food trends\" and \"1014 km²\" '''\n",
    "\n",
    "print(\"Lahore\")\n",
    "\n",
    "\n",
    "print(\"11.13 million (2017)\")\n",
    "\n",
    "\n",
    "print(\"famous for food trends\")\n",
    "\n",
    "\n",
    "print(\"1014 km²\")\n",
    "\n",
    "\n",
    "\n",
    "**Step 9: Test Your Code**"
   ]
  },
  {
   "cell_type": "code",
   "execution_count": 9,
   "id": "fe779066-d4b5-4db6-b9a4-26a02fedad46",
   "metadata": {},
   "outputs": [
    {
     "name": "stdout",
     "output_type": "stream",
     "text": [
      "Lahore\n",
      "11.13 million (2017)\n",
      "famous for food trends\n",
      "1014 km²\n"
     ]
    }
   ],
   "source": [
    "print(\"Lahore\") \n",
    "print(\"11.13 million (2017)\")\n",
    "print(\"famous for food trends\")\n",
    "print(\"1014 km²\")"
   ]
  },
  {
   "cell_type": "markdown",
   "id": "cf588212-dc73-4cc0-9643-4c00591ccb96",
   "metadata": {},
   "source": [
    "**Step 10: Deploy Your Software for Client Usage**\n",
    "\n",
    "\n",
    "* Share Jupyter Notebook file with client.\n"
   ]
  },
  {
   "cell_type": "markdown",
   "id": "9c24db7c-1663-4d8a-9e6c-1ed4e0ee8748",
   "metadata": {},
   "source": [
    "### Your Turn Task \n",
    "\n",
    "\n",
    "Print the following  information about your university.\n",
    "\n",
    "* Name\n",
    "* Campus name\n",
    "* Geographic area of campus in kilometers\n",
    "* Total number of departments \n",
    "\n",
    "\n",
    "\n",
    "\n",
    "\n",
    "**Step 1: Completely and Correctly Understand the Real-world Scenario**\n",
    "\n",
    "\n",
    "* The task is to display name, campus name, geographic area of campus in kilometers and total number of departments, of university, on the screen\n",
    "\n",
    "\n",
    "**Step 2: Extract Client Requirements**\n",
    "\n",
    "\n",
    "* The client requires name, campus name, geographic area of campus in kilometers and total number of departments to be displayed.\n",
    "\n",
    "\n",
    "**Step 3: Extract Input-Processing-Output**\n",
    "\n",
    "\n",
    "* Input\n",
    "\n",
    "\n",
    "    * Data:\n",
    "        * COMSATS University Islamabad\n",
    "        * Lahore Campus\n",
    "        * 185-acre\n",
    "        * 13 academic departments\n",
    "    * Instruction: Display on Output Screen\n",
    "\n",
    "\n",
    "* Processing\n",
    "\n",
    "\n",
    "    * print() function\n",
    "\n",
    "\n",
    "* Output\n",
    "\n",
    "\n",
    "    * COMSATS University Islamabad\n",
    "    * Lahore Campus\n",
    "    * 185-acre\n",
    "    * 13 academic departments\n",
    "\n",
    "\n",
    "\n",
    "**Step 4: Write down Pseudocode**\n",
    "\n",
    "\n",
    "1. Start\n",
    "2. Display \"COMSATS University Islamabad\"\n",
    "3. Display \"Lahore Campus\"\n",
    "4. Display \"185-acre\"\n",
    "5. Display \"13 academic departments\" \n",
    "6. End\n",
    "\n",
    "\n",
    "**Step 5: Draw Flowchart (if needed)**\n",
    "\n",
    "\n",
    "* Similar flowchart to example 1  \n",
    "\n",
    "\n",
    "**Step 6: Select Most Suitable Programming Language, IDE, and Machine**\n",
    "\n",
    "\n",
    "* Programming language: Python\n",
    "* IDE: Jupyter Notebook\n",
    "* Machine: Any standard machine with Python and Jupyter Notebook installed can be used\n",
    "\n",
    "\n",
    "**Step 7: Write down Developer and System Information**\n",
    "\n",
    "\n",
    "* Developer: Maryam Naveed\n",
    "* System:\n",
    "    * 64-bit operating system\n",
    "    * Windows 10 Home, 22H2\n",
    "\n",
    "\n",
    "**Step 8: Transform Pseudocode (or Flowchart) into Code with Proper Comments**\n",
    "\n",
    "\n",
    "* ''' This code displays \"COMSATS University Islamabad\", \"Lahore Campus\", \"185-acre\" and \"13 academic departments\" '''\n",
    "\n",
    "print(\"COMSATS University Islamabad\")\n",
    "\n",
    "\n",
    "print(\"Lahore Campus\")\n",
    "\n",
    "\n",
    "print(\"185-acre\")\n",
    "\n",
    "\n",
    "print(\"13 academic departments\")\n",
    "\n",
    "\n",
    "\n",
    "**Step 9: Test Your Code**"
   ]
  },
  {
   "cell_type": "code",
   "execution_count": 1,
   "id": "a708d179-29ee-4028-9904-091db1dee450",
   "metadata": {},
   "outputs": [
    {
     "name": "stdout",
     "output_type": "stream",
     "text": [
      "COMSATS University Islamabad\n",
      "Lahore Campus\n",
      "185-acre\n",
      "13 academic departments\n"
     ]
    }
   ],
   "source": [
    "print(\"COMSATS University Islamabad\") \n",
    "print(\"Lahore Campus\")\n",
    "print(\"185-acre\")\n",
    "print(\"13 academic departments\")"
   ]
  },
  {
   "cell_type": "markdown",
   "id": "526b03eb-65d9-4261-9b71-619a9477acfb",
   "metadata": {},
   "source": [
    "**Step 10: Deploy Your Software for Client Usage**\n",
    "\n",
    "\n",
    "* Share Jupyter Notebook file with client.\n"
   ]
  },
  {
   "cell_type": "markdown",
   "id": "013b63d4-657c-405e-b7b7-3592b146d5bf",
   "metadata": {},
   "source": [
    "## <center>Single line and multi line comments</center>"
   ]
  },
  {
   "cell_type": "markdown",
   "id": "d5b88307-139a-412e-b37d-56bcb4f02c4a",
   "metadata": {},
   "source": [
    "### Single line Comments\n",
    "\n",
    "\n",
    "### Example 1\n",
    "\n",
    "\n",
    "#This is a comment \n",
    "\n",
    "\n",
    "#Dispaly message on output screen \n",
    "\n",
    "\n",
    "print(\"Allah is One.\") \n",
    "\n",
    "\n"
   ]
  },
  {
   "cell_type": "code",
   "execution_count": 18,
   "id": "c8c6f945-c350-438f-9546-9dccda1ab7ad",
   "metadata": {},
   "outputs": [
    {
     "name": "stdout",
     "output_type": "stream",
     "text": [
      "Allah is One.\n"
     ]
    }
   ],
   "source": [
    "#This is a comment\n",
    "\n",
    "#Dispaly message on output screen\n",
    "\n",
    "print(\"Allah is One.\")"
   ]
  },
  {
   "cell_type": "markdown",
   "id": "5db56d65-bc0a-4478-a582-f256958d39a8",
   "metadata": {},
   "source": [
    "\n",
    "### Example 2\n",
    "\n",
    "\n",
    "#This is a comment\n",
    "\n",
    "\n",
    "#Dispaly message on output screen\n",
    "\n",
    "\n",
    "#print(\"Allah is One.\") \n",
    "\n",
    "\n"
   ]
  },
  {
   "cell_type": "code",
   "execution_count": 3,
   "id": "b3fc07d7-d48b-4017-9b3e-6b82acecf3d8",
   "metadata": {},
   "outputs": [],
   "source": [
    "#This is a comment\n",
    "\n",
    "#Dispaly message on output screen\n",
    "\n",
    "#print(\"Allah is One.\")"
   ]
  },
  {
   "cell_type": "markdown",
   "id": "664e4656-4e63-41e0-8f02-51e2291088e3",
   "metadata": {},
   "source": [
    "\n",
    "### Example 3\n",
    "\n",
    "\n",
    "print(\"Allah is One.\") #Display message on output screen \n",
    "\n",
    "\n"
   ]
  },
  {
   "cell_type": "code",
   "execution_count": 4,
   "id": "2b547f83-8589-4d53-9d36-5e60b9db74ca",
   "metadata": {},
   "outputs": [
    {
     "name": "stdout",
     "output_type": "stream",
     "text": [
      "Allah is One.\n"
     ]
    }
   ],
   "source": [
    "print(\"Allah is One.\") #Display message on output screen "
   ]
  },
  {
   "cell_type": "markdown",
   "id": "e30adcee-86b9-4a53-bee3-ce4f76978536",
   "metadata": {},
   "source": [
    "\n",
    "### Example 4\n",
    "\n",
    "\n",
    "#print(\"Allah is One.\") \n",
    "\n",
    "\n",
    "print(\"Allah created us.\")  \n",
    "\n",
    "\n"
   ]
  },
  {
   "cell_type": "code",
   "execution_count": 5,
   "id": "9fea6951-08b0-4fc5-8a65-a5ff97cdc136",
   "metadata": {},
   "outputs": [
    {
     "name": "stdout",
     "output_type": "stream",
     "text": [
      "Allah created us.\n"
     ]
    }
   ],
   "source": [
    "#print(\"Allah is One.\") \n",
    "print(\"Allah created us.\") "
   ]
  },
  {
   "cell_type": "markdown",
   "id": "229b6a0a-e1a2-45fe-8e9d-3d1eed362694",
   "metadata": {},
   "source": [
    "### Multi line comments\n",
    "\n",
    "\n",
    "### Example 1\n",
    "\n",
    "\n",
    "#I am writing \n",
    "\n",
    "\n",
    "#this comment in \n",
    "\n",
    "\n",
    "#mulitple lines\n",
    "\n",
    "\n",
    "print(\"Allah is One.\")\n",
    "\n",
    "\n",
    "\n",
    "\n",
    "\"\"\"\n",
    "\n",
    "\n",
    "I am writing  \n",
    "\n",
    "\n",
    "this comment in \n",
    "\n",
    "\n",
    "mulitple lines \n",
    "\n",
    "\n",
    "\"\"\"\n",
    "\n",
    "\n",
    "print(\"Allah is One.\")"
   ]
  },
  {
   "cell_type": "code",
   "execution_count": 7,
   "id": "28379a6d-1bd2-4a7c-8e64-d899645d9e66",
   "metadata": {},
   "outputs": [
    {
     "name": "stdout",
     "output_type": "stream",
     "text": [
      "Allah is One.\n",
      "Allah is One.\n"
     ]
    }
   ],
   "source": [
    "#I am writing\n",
    "\n",
    "#this comment in\n",
    "\n",
    "#mulitple lines\n",
    "print(\"Allah is One.\")\n",
    "\n",
    "\"\"\"\n",
    "\n",
    "I am writing\n",
    "\n",
    "this comment in\n",
    "\n",
    "mulitple lines\n",
    "\n",
    "\"\"\"\n",
    "print(\"Allah is One.\")"
   ]
  },
  {
   "cell_type": "markdown",
   "id": "61f6d885-67a2-48ec-b118-5f3dce7a71a6",
   "metadata": {},
   "source": [
    "\n",
    "### Example 2\n",
    "\n",
    "\n",
    "\"\"\" \n",
    "\n",
    "\n",
    "I am writing  \n",
    "\n",
    "\n",
    "this comment in \n",
    "\n",
    "\n",
    "mulitple lines \n",
    "\n",
    "\n",
    "print(\"Allah is One.\")  \n",
    "\n",
    "\n",
    "\"\"\" \n",
    "\n"
   ]
  },
  {
   "cell_type": "code",
   "execution_count": 8,
   "id": "3d3a7cbd-156d-4d7c-852a-9730a537c622",
   "metadata": {},
   "outputs": [
    {
     "data": {
      "text/plain": [
       "' \\nI am writing  \\nthis comment in \\nmulitple lines \\nprint(\"Allah is One.\")  \\n'"
      ]
     },
     "execution_count": 8,
     "metadata": {},
     "output_type": "execute_result"
    }
   ],
   "source": [
    "\"\"\" \n",
    "I am writing  \n",
    "this comment in \n",
    "mulitple lines \n",
    "print(\"Allah is One.\")  \n",
    "\"\"\" "
   ]
  },
  {
   "cell_type": "markdown",
   "id": "1ec9fceb-7734-4a84-b051-b7b2739768fc",
   "metadata": {},
   "source": [
    "\n",
    "### TODO Task 1\n",
    "\n",
    "\n",
    "Task: Use Single Line Comments and Multi Line Comments in your program \n",
    "for the following Attribtues. \n",
    "\n",
    "\n",
    "* Developer Name: \n",
    "\n",
    "\n",
    "* Developer Email ID: \n",
    "\n",
    "\n",
    "* Python IDE: \n",
    "\n",
    "\n",
    "* Program Name: \n",
    "\n",
    "\n",
    "* Program Version:  \n",
    "\n",
    "\n",
    "* Start Date: \n",
    "\n",
    "\n",
    "* End Date:\n",
    "\n"
   ]
  },
  {
   "cell_type": "code",
   "execution_count": 13,
   "id": "fe4efe5a-d5ae-4e4a-9fb4-7f71a56e10c8",
   "metadata": {},
   "outputs": [
    {
     "name": "stdout",
     "output_type": "stream",
     "text": [
      "this program makes use of single line comments\n"
     ]
    }
   ],
   "source": [
    "#Developer Name: Maryam Naveed\n",
    "#Developer Email ID: maryam.naveed14@gmail.com\n",
    "#Python IDE: PyCharm\n",
    "#Program Name: Testing single line comments\n",
    "#Program Version: 3.12 \n",
    "#Start Date: 16-7-24\n",
    "#End Date: 16-7-24\n",
    "\n",
    "print('this program makes use of single line comments')"
   ]
  },
  {
   "cell_type": "code",
   "execution_count": 12,
   "id": "6a4403a8-01fc-4e11-9966-6d414f2228e5",
   "metadata": {},
   "outputs": [
    {
     "name": "stdout",
     "output_type": "stream",
     "text": [
      "this program makes use of multi line comments\n"
     ]
    }
   ],
   "source": [
    "\"\"\"\n",
    "Developer Name: Maryam Naveed\n",
    "Developer Email ID: maryam.naveed14@gmail.com\n",
    "Python IDE: PyCharm\n",
    "Program Name: Testing multi line comments\n",
    "Program Version: 3.12 \n",
    "Start Date: 16-7-24\n",
    "End Date: 16-7-24\n",
    "\n",
    "\"\"\"\n",
    "print('this program makes use of multi line comments')"
   ]
  },
  {
   "cell_type": "markdown",
   "id": "f793287d-0c0f-4547-9058-f559f7e70e02",
   "metadata": {},
   "source": [
    "\n",
    "### Your Turn Task \n",
    "\n",
    "\n",
    "Task: Use Single Line Comments and Multi Line Comments in your program \n",
    "to describe purpose of a program\n"
   ]
  },
  {
   "cell_type": "code",
   "execution_count": 16,
   "id": "3d6274f4-9689-44f3-a124-9c4b11bc4a8d",
   "metadata": {},
   "outputs": [
    {
     "name": "stdout",
     "output_type": "stream",
     "text": [
      "7\n"
     ]
    }
   ],
   "source": [
    "#Program to compute sum of two numbers\n",
    "#this program adds two numbers\n",
    "#and displays the sum\n",
    "x = 3\n",
    "y = 4\n",
    "sum1 = x+y\n",
    "print(sum1)"
   ]
  },
  {
   "cell_type": "code",
   "execution_count": 17,
   "id": "f0246cda-d9d5-4636-9f08-9f82fe238ec3",
   "metadata": {},
   "outputs": [
    {
     "name": "stdout",
     "output_type": "stream",
     "text": [
      "7\n"
     ]
    }
   ],
   "source": [
    "'''\n",
    "Program to compute sum of two numbers\n",
    "this program adds two numbers\n",
    "and displays the sum\n",
    "'''\n",
    "x = 3\n",
    "y = 4\n",
    "sum1 = x+y\n",
    "print(sum1)"
   ]
  },
  {
   "cell_type": "markdown",
   "id": "7615cf48-d49a-420d-850a-8d22c1caad59",
   "metadata": {},
   "source": [
    "## <center>Variables</center>"
   ]
  },
  {
   "cell_type": "code",
   "execution_count": 19,
   "id": "faf4c6a1-507e-4df3-a57a-22761a838e96",
   "metadata": {},
   "outputs": [],
   "source": [
    "#valid variable names\n",
    "my_variable = 10 \n",
    "_my_variable = 20 \n",
    "myVariable2 = 30 "
   ]
  },
  {
   "cell_type": "code",
   "execution_count": 21,
   "id": "186e1a0e-b970-4f8f-83c4-460364cc47f9",
   "metadata": {},
   "outputs": [
    {
     "ename": "SyntaxError",
     "evalue": "invalid decimal literal (3057076122.py, line 2)",
     "output_type": "error",
     "traceback": [
      "\u001b[1;36m  Cell \u001b[1;32mIn[21], line 2\u001b[1;36m\u001b[0m\n\u001b[1;33m    2myVariable = 40\u001b[0m\n\u001b[1;37m    ^\u001b[0m\n\u001b[1;31mSyntaxError\u001b[0m\u001b[1;31m:\u001b[0m invalid decimal literal\n"
     ]
    }
   ],
   "source": [
    "#invalid variable names\n",
    "2myVariable = 40 \n",
    "my-variable = 50 \n",
    "my variable = 60 "
   ]
  },
  {
   "cell_type": "markdown",
   "id": "a1151f70-5f1d-4d10-87ab-6600166cab3b",
   "metadata": {},
   "source": [
    "### Example 1"
   ]
  },
  {
   "cell_type": "code",
   "execution_count": 26,
   "id": "a6c3f76c-9f53-4372-b75d-718387ec3d89",
   "metadata": {},
   "outputs": [
    {
     "name": "stdout",
     "output_type": "stream",
     "text": [
      "Name: Dr Adeel\n",
      "Age: 25\n",
      "CGPA: 3.86\n",
      "Is handsome: True\n"
     ]
    }
   ],
   "source": [
    "# Assigning values to variables at Coding Time \n",
    "name = 'Dr Adeel'\n",
    "age = 25    \n",
    "cgpa = 3.86    \n",
    "is_handsome = True \n",
    "\n",
    "\n",
    "# Printing the values of variables  \n",
    "print(\"Name:\", name) \n",
    "print(\"Age:\", age) \n",
    "print(\"CGPA:\", cgpa) \n",
    "print(\"Is handsome:\", is_handsome) "
   ]
  },
  {
   "cell_type": "markdown",
   "id": "a9211e8d-849e-4a74-a689-2adbc588a33c",
   "metadata": {},
   "source": [
    "### Example 2"
   ]
  },
  {
   "cell_type": "code",
   "execution_count": 27,
   "id": "2bcfe921-7461-402f-b12b-7f1b808436ac",
   "metadata": {},
   "outputs": [
    {
     "name": "stdout",
     "output_type": "stream",
     "text": [
      "Name: Dr Adeel\n",
      "Age: 30\n",
      "CGPA: 3.9\n",
      "Is handsome: True\n"
     ]
    }
   ],
   "source": [
    "# Assigning values to variables at Coding Time \n",
    "name = 'Dr Adeel'\n",
    "age = 25    \n",
    "cgpa = 3.86    \n",
    "is_handsome = True \n",
    "\n",
    "# overwriting values\n",
    "age = 30 \n",
    "cgpa = 3.90 \n",
    "\n",
    "# Printing the values of variables  \n",
    "print(\"Name:\", name) \n",
    "print(\"Age:\", age) \n",
    "print(\"CGPA:\", cgpa) \n",
    "print(\"Is handsome:\", is_handsome) "
   ]
  },
  {
   "cell_type": "markdown",
   "id": "6a9ae3f1-fd34-4c12-8a4b-cc9767a5ca44",
   "metadata": {},
   "source": [
    "### TODO Task\n",
    "\n",
    "\n",
    "Create variables to store your demographic information \n",
    "\n",
    "\n",
    "* Name \n",
    "\n",
    "\n",
    "* Gender \n",
    "\n",
    "\n",
    "* Age \n",
    "\n",
    "\n",
    "* Interest \n",
    "\n",
    "\n",
    "* Hobby \n",
    "\n",
    "\n",
    "* Address "
   ]
  },
  {
   "cell_type": "markdown",
   "id": "98a9cc8e-b81a-4c82-a8f9-7be628ca2730",
   "metadata": {},
   "source": [
    "\n",
    "\n",
    "**Step 1: Completely and Correctly Understand the Real-world Scenario**\n",
    "\n",
    "\n",
    "* The task is to create multiple variables and store personal information, such as name, gender, age, interest, hobby, and address in them\n",
    "\n",
    "\n",
    "**Step 2: Extract Client Requirements**\n",
    "\n",
    "\n",
    "* The client requires variables to store the specified demographic information.\n",
    "\n",
    "\n",
    "**Step 3: Extract Input-Processing-Output**\n",
    "\n",
    "\n",
    "* Input\n",
    "\n",
    "\n",
    "    * Data:\n",
    "        * Maryam \n",
    "        * Female\n",
    "        * 20 years old\n",
    "        * learning turkish\n",
    "        * cooking\n",
    "        * Tulip block\n",
    "    * Instruction: store in variables\n",
    "\n",
    "\n",
    "* Processing\n",
    "\n",
    "\n",
    "    * create variables and assign to them using assignment operator '='\n",
    "\n",
    "\n",
    "* Output\n",
    "\n",
    "\n",
    "   * No output\n",
    "\n",
    "\n",
    "\n",
    "**Step 4: Write down Pseudocode**\n",
    "\n",
    "\n",
    "1. Start\n",
    "2. Declare variable named 'name' and assign 'Maryam' to it\n",
    "3. Declare variable named 'gender' and assign 'Female' to it\n",
    "4. Declare variable named 'age' and assign '20' to it\n",
    "5. Declare variable named 'interest' and assign 'learning turkish' to it\n",
    "6. Declare variable named 'hobby' and assign 'cooking' to it\n",
    "7. Declare variable named 'address' and assign 'Tulip block' to it\n",
    "8. End\n",
    "\n",
    "\n",
    "**Step 5: Draw Flowchart (if needed)**\n",
    "\n",
    "\n",
    "* A flowchart is not necessary for this simple task.  \n",
    "\n",
    "\n",
    "**Step 6: Select Most Suitable Programming Language, IDE, and Machine**\n",
    "\n",
    "\n",
    "* Programming language: Python\n",
    "* IDE: Jupyter Notebook\n",
    "* Machine: Any standard machine with Python and Jupyter Notebook installed can be used\n",
    "\n",
    "\n",
    "**Step 7: Write down Developer and System Information**\n",
    "\n",
    "\n",
    "* Developer: Maryam Naveed\n",
    "* System:\n",
    "    * 64-bit operating system\n",
    "    * Windows 10 Home, 22H2\n",
    "\n",
    "\n",
    "**Step 8: Transform Pseudocode (or Flowchart) into Code with Proper Comments**\n",
    "\n",
    "\n",
    "#Create multiple variables to store demographic information in one line\n",
    "\n",
    "\n",
    "name = \"Maryam\"\n",
    "\n",
    "\n",
    "gender = \"Female\"\n",
    "\n",
    "\n",
    "age = 20\n",
    "\n",
    "\n",
    "interest = \"learning turkish\"\n",
    "\n",
    "\n",
    "hobby = \"cooking\"\n",
    "\n",
    "\n",
    "address = \"Tulip block\"\n",
    "\n",
    "\n",
    "#Create variables to store demographic information\n",
    "\n",
    "\n",
    "name, gender, age, interest, hobby, address = \"Maryam\", \"Female\", 20, \"learning turkish\", \"cooking\", \"Tulip block\"\n",
    "\n",
    "\n",
    "**Step 9: Test Your Code**"
   ]
  },
  {
   "cell_type": "code",
   "execution_count": 31,
   "id": "454e361f-214b-4417-9191-f9bacd3a554e",
   "metadata": {},
   "outputs": [],
   "source": [
    "#Create multiple variables to store demographic information in one line\n",
    "\n",
    "name = \"Maryam\"\n",
    "\n",
    "gender = \"Female\"\n",
    "\n",
    "age = 20\n",
    "\n",
    "interest = \"learning turkish\"\n",
    "\n",
    "hobby = \"cooking\"\n",
    "\n",
    "address = \"Tulip block\"\n",
    " "
   ]
  },
  {
   "cell_type": "code",
   "execution_count": 29,
   "id": "a55bc519-1016-41cd-81d9-7f6a7d5c6adf",
   "metadata": {},
   "outputs": [],
   "source": [
    "#Create variables to store demographic information\n",
    "\n",
    "name, gender, age, interest, hobby, address = \"Maryam\", \"Female\", 20, \"learning turkish\", \"cooking\", \"Tulip block\""
   ]
  },
  {
   "cell_type": "markdown",
   "id": "b857dc56-4ce7-48a4-90be-787ea7672a3a",
   "metadata": {},
   "source": [
    "**Step 10: Deploy Your Software for Client Usage**\n",
    "\n",
    "\n",
    "* Share Jupyter Notebook file with client.\n"
   ]
  },
  {
   "cell_type": "markdown",
   "id": "f0d03be1-3466-4c06-80d1-9fdbf7623b37",
   "metadata": {},
   "source": [
    "## <center>Data Types</center>"
   ]
  },
  {
   "cell_type": "markdown",
   "id": "b002184c-9592-46b4-bb1c-1ab2bddd534e",
   "metadata": {},
   "source": [
    "### Example 1"
   ]
  },
  {
   "cell_type": "code",
   "execution_count": 55,
   "id": "89509945-48ad-4b1e-9e9c-5cf7c0f771b2",
   "metadata": {},
   "outputs": [
    {
     "name": "stdout",
     "output_type": "stream",
     "text": [
      "<class 'int'>\n",
      "<class 'float'>\n",
      "<class 'complex'>\n"
     ]
    }
   ],
   "source": [
    "age  = 25  \n",
    "cgpa = 3.86   \n",
    "complex_num = 1j\n",
    "\n",
    "\n",
    "print(type(age)) \n",
    "print(type(cgpa)) \n",
    "print(type(complex_num))\n"
   ]
  },
  {
   "cell_type": "markdown",
   "id": "004ffa69-29d2-4fdc-9cba-9aaadeeb5fd8",
   "metadata": {},
   "source": [
    "###  Example 2 "
   ]
  },
  {
   "cell_type": "code",
   "execution_count": 37,
   "id": "32d55405-ab93-4cc8-a709-5ab1a6650afd",
   "metadata": {},
   "outputs": [
    {
     "name": "stdout",
     "output_type": "stream",
     "text": [
      "<class 'float'>\n",
      "<class 'float'>\n",
      "<class 'complex'>\n"
     ]
    }
   ],
   "source": [
    "age  = 25.0   \n",
    "cgpa = 3.86  \n",
    "complex_num = 1j \n",
    "\n",
    "\n",
    "print(type(age)) \n",
    "print(type(cgpa)) \n",
    "print(type(complex_num)) "
   ]
  },
  {
   "cell_type": "markdown",
   "id": "bc0727dd-8a92-4069-b30b-9d474bf1cd5a",
   "metadata": {},
   "source": [
    "### Integer (int)\n",
    "### Example\n"
   ]
  },
  {
   "cell_type": "code",
   "execution_count": 38,
   "id": "f2e156ea-12e8-4cf9-97cb-5d6ae6e72f69",
   "metadata": {},
   "outputs": [
    {
     "name": "stdout",
     "output_type": "stream",
     "text": [
      "<class 'int'>\n",
      "<class 'int'>\n",
      "<class 'int'>\n"
     ]
    }
   ],
   "source": [
    "number_1 = 1 \n",
    "number_2 = 35656222554887711 \n",
    "number_3 = -3255522 \n",
    "\n",
    "\n",
    "print(type(number_1)) \n",
    "print(type(number_2)) \n",
    "print(type(number_3)) "
   ]
  },
  {
   "cell_type": "markdown",
   "id": "1a782e4b-10a8-46a0-91d1-7dc23da80995",
   "metadata": {},
   "source": [
    "### Float / floating point number\n",
    "### Example 1\n"
   ]
  },
  {
   "cell_type": "code",
   "execution_count": 40,
   "id": "f94cf4a8-3d69-45e0-93c8-cb7028217b01",
   "metadata": {},
   "outputs": [
    {
     "name": "stdout",
     "output_type": "stream",
     "text": [
      "<class 'float'>\n",
      "<class 'float'>\n",
      "<class 'float'>\n"
     ]
    }
   ],
   "source": [
    "x = 1.10 \n",
    "y = 1.0 \n",
    "z = -35.59 \n",
    "\n",
    "\n",
    "print(type(x)) \n",
    "print(type(y)) \n",
    "print(type(z))"
   ]
  },
  {
   "cell_type": "markdown",
   "id": "21410760-834d-4ae0-949e-6d7996589657",
   "metadata": {},
   "source": [
    "### Example 2"
   ]
  },
  {
   "cell_type": "code",
   "execution_count": 41,
   "id": "8da919eb-6631-4be3-8cf6-3885bd9de4f0",
   "metadata": {},
   "outputs": [
    {
     "name": "stdout",
     "output_type": "stream",
     "text": [
      "<class 'float'>\n",
      "<class 'float'>\n",
      "<class 'float'>\n"
     ]
    }
   ],
   "source": [
    "x = 35e3 \n",
    "y = 12e4 \n",
    "z = -87.7e100\n",
    "\n",
    "\n",
    "print(type(x)) \n",
    "print(type(y)) \n",
    "print(type(z)) "
   ]
  },
  {
   "cell_type": "markdown",
   "id": "a2a09a7a-f16e-4e1f-9d7b-3e25666c8c85",
   "metadata": {},
   "source": [
    "### Complex Numbers\n",
    "### Example"
   ]
  },
  {
   "cell_type": "code",
   "execution_count": 42,
   "id": "f338778a-fcbf-4987-9cd3-45f586022c01",
   "metadata": {},
   "outputs": [
    {
     "name": "stdout",
     "output_type": "stream",
     "text": [
      "<class 'complex'>\n",
      "<class 'complex'>\n",
      "<class 'complex'>\n"
     ]
    }
   ],
   "source": [
    "x = 3+5j \n",
    "y = 5j \n",
    "z = -5j \n",
    "\n",
    "\n",
    "print(type(x)) \n",
    "print(type(y)) \n",
    "print(type(z))"
   ]
  },
  {
   "cell_type": "markdown",
   "id": "e874ae4f-d823-44aa-8afc-857c98c8c789",
   "metadata": {},
   "source": [
    "### Type conversion\n",
    "### Example"
   ]
  },
  {
   "cell_type": "code",
   "execution_count": 43,
   "id": "b1c7b9a3-5a7a-4cc5-bd0c-fb5b6df94786",
   "metadata": {},
   "outputs": [
    {
     "name": "stdout",
     "output_type": "stream",
     "text": [
      "1.0\n",
      "2\n",
      "(1+0j)\n",
      "<class 'float'>\n",
      "<class 'int'>\n",
      "<class 'complex'>\n"
     ]
    }
   ],
   "source": [
    "x = 1  \n",
    "y = 2.8 \n",
    "z = 1j  \n",
    "\n",
    "# convert from int to float \n",
    "a = float(x) \n",
    "\n",
    "# convert from float to int \n",
    "b = int(y) \n",
    "\n",
    "# convert from int to complex \n",
    "c = complex(x) \n",
    "\n",
    "print(a) \n",
    "print(b) \n",
    "print(c) \n",
    "\n",
    "print(type(a)) \n",
    "print(type(b)) \n",
    "print(type(c))"
   ]
  },
  {
   "cell_type": "markdown",
   "id": "026d2b81-e330-42f2-8784-0d9f57c825f3",
   "metadata": {},
   "source": [
    "## <center>Random Number</center>"
   ]
  },
  {
   "cell_type": "code",
   "execution_count": 45,
   "id": "7027b543-8580-4e30-841c-0ccaeee8da0f",
   "metadata": {},
   "outputs": [
    {
     "name": "stdout",
     "output_type": "stream",
     "text": [
      "9\n"
     ]
    }
   ],
   "source": [
    "import random \n",
    "print(random.randrange(1, 10)) "
   ]
  },
  {
   "cell_type": "markdown",
   "id": "22f8c94a-74a4-42b8-9118-bc29e593973f",
   "metadata": {},
   "source": [
    "## <center>Strings</center>"
   ]
  },
  {
   "cell_type": "code",
   "execution_count": 46,
   "id": "4b03b0a3-3ad2-4e21-8cd8-559c0022f3ae",
   "metadata": {},
   "outputs": [
    {
     "name": "stdout",
     "output_type": "stream",
     "text": [
      "Allah\n",
      "Allah\n"
     ]
    }
   ],
   "source": [
    "print(\"Allah\") \n",
    "print('Allah')"
   ]
  },
  {
   "cell_type": "markdown",
   "id": "7f73b53c-e40a-46b0-86b2-531c0337db9d",
   "metadata": {},
   "source": [
    "### Quotes Inside Quotes\n",
    "### Example"
   ]
  },
  {
   "cell_type": "code",
   "execution_count": 47,
   "id": "5b7665c1-b06a-49aa-a32d-0f2923bd5b3b",
   "metadata": {},
   "outputs": [
    {
     "name": "stdout",
     "output_type": "stream",
     "text": [
      "It's alright\n",
      "He is called 'Tarzan'\n",
      "He is called \"Tarzan\"\n"
     ]
    }
   ],
   "source": [
    "print(\"It's alright\") \n",
    "print(\"He is called 'Tarzan'\") \n",
    "print('He is called \"Tarzan\"') "
   ]
  },
  {
   "cell_type": "markdown",
   "id": "3ff72309-ea5a-4ca7-a9ab-27606255e0db",
   "metadata": {},
   "source": [
    "### Assign String to a Variable\n",
    "### Example"
   ]
  },
  {
   "cell_type": "code",
   "execution_count": 66,
   "id": "bf5007fa-4bd9-4d26-9555-5dd22bc3a85c",
   "metadata": {},
   "outputs": [
    {
     "name": "stdout",
     "output_type": "stream",
     "text": [
      "Allah\n"
     ]
    }
   ],
   "source": [
    "message = \"Allah\" \n",
    "print(message) "
   ]
  },
  {
   "cell_type": "markdown",
   "id": "e82313b6-8848-4cf2-b550-c7d04470c9a6",
   "metadata": {},
   "source": [
    "### Multiline Strings\n",
    "### Example"
   ]
  },
  {
   "cell_type": "code",
   "execution_count": 67,
   "id": "54db195d-1b33-4a21-b3fb-f987e858d332",
   "metadata": {},
   "outputs": [
    {
     "name": "stdout",
     "output_type": "stream",
     "text": [
      "Allah is One.  \n",
      "He created us.  \n",
      "He has control over everything.  \n",
      "Purpose of our lives is: Friendship of Allah.\n"
     ]
    }
   ],
   "source": [
    "message  = \"\"\"Allah is One.  \n",
    "He created us.  \n",
    "He has control over everything.  \n",
    "Purpose of our lives is: Friendship of Allah.\"\"\" \n",
    "print(message) "
   ]
  },
  {
   "cell_type": "markdown",
   "id": "c305668f-468c-4c51-a58a-894149c6bf7b",
   "metadata": {},
   "source": [
    "## <center>Storing data values into variables at run time</center>"
   ]
  },
  {
   "cell_type": "markdown",
   "id": "110611ef-f5c2-47d4-b437-6a87906836a7",
   "metadata": {},
   "source": [
    "Makes use of input() function\n",
    "### Example"
   ]
  },
  {
   "cell_type": "code",
   "execution_count": 70,
   "id": "86d62e72-a6f7-42fd-ad91-c6bf2ea82952",
   "metadata": {},
   "outputs": [
    {
     "name": "stdin",
     "output_type": "stream",
     "text": [
      "Enter a number:  7\n"
     ]
    }
   ],
   "source": [
    "# Get a number as a string from the user \n",
    "num1 = input(\"Enter a number: \") \n",
    "\n",
    "# Converting the string to float \n",
    "number1 = float(num1) "
   ]
  },
  {
   "cell_type": "markdown",
   "id": "8ef4953b-2210-48d0-8365-fe7c87fcbfd4",
   "metadata": {},
   "source": [
    "## <center>Arithmetic Operators (Precedence and Associativity)\n",
    "### Example 1"
   ]
  },
  {
   "cell_type": "code",
   "execution_count": 69,
   "id": "b769e584-d661-49a8-8669-278bf775fa83",
   "metadata": {},
   "outputs": [
    {
     "name": "stdout",
     "output_type": "stream",
     "text": [
      "20\n"
     ]
    }
   ],
   "source": [
    "result = (2 + 3) * 4   \n",
    "print(result)"
   ]
  },
  {
   "cell_type": "markdown",
   "id": "2ea0af20-432f-4150-b3c7-62b959e48f4d",
   "metadata": {},
   "source": [
    "### Example 2"
   ]
  },
  {
   "cell_type": "code",
   "execution_count": 71,
   "id": "729bedc0-3b2e-4a34-9e69-32033e133140",
   "metadata": {},
   "outputs": [
    {
     "name": "stdout",
     "output_type": "stream",
     "text": [
      "14\n"
     ]
    }
   ],
   "source": [
    "result = 2 + 3 * 4   \n",
    "print(result) "
   ]
  },
  {
   "cell_type": "markdown",
   "id": "112fa91b-3b80-43c2-8e19-fc51eae99cb5",
   "metadata": {},
   "source": [
    "### Example 3"
   ]
  },
  {
   "cell_type": "code",
   "execution_count": 72,
   "id": "da32922f-5e24-4c93-b33e-defbcd4f6e88",
   "metadata": {},
   "outputs": [
    {
     "name": "stdout",
     "output_type": "stream",
     "text": [
      "1\n"
     ]
    }
   ],
   "source": [
    "result = 2 + 3 -  4   \n",
    "print(result) "
   ]
  },
  {
   "cell_type": "markdown",
   "id": "7ba12206-98e1-48b4-84d8-ce5361a6999b",
   "metadata": {},
   "source": [
    "### Example 4"
   ]
  },
  {
   "cell_type": "code",
   "execution_count": 79,
   "id": "0cb15ab3-2787-40ef-85ce-29764187711b",
   "metadata": {},
   "outputs": [
    {
     "name": "stdout",
     "output_type": "stream",
     "text": [
      "0\n"
     ]
    }
   ],
   "source": [
    "result = 2 // 3 * 4   \n",
    "print(result)"
   ]
  },
  {
   "cell_type": "markdown",
   "id": "0e06ddbc-af50-4977-aa2e-2f0f24715db0",
   "metadata": {},
   "source": [
    "### TODO Task 1\n",
    "\n",
    "\n",
    "What will be the output of the following Arithmetic Expressions\n",
    "\n",
    "\n",
    "* 15 // 3 % 2 + 5 – 2 * 5 \n",
    "\n",
    "\n",
    "* 15 // (3 % 2) + (5 – 2) * 5 \n",
    "\n",
    "\n",
    "* 15 / 3 % 2 + 5 – 2 ** 3\n",
    "\n",
    "\n"
   ]
  },
  {
   "cell_type": "markdown",
   "id": "0c5de47d-ccd9-4d2d-b88b-cbd123217aec",
   "metadata": {},
   "source": [
    "\n",
    "\n",
    "**Step 1: Completely and Correctly Understand the Real-world Scenario**\n",
    "\n",
    "\n",
    "* The task is to evaluate arithmetic expressions that involve basic operations like division, modulus, addition, subtraction, and exponentiation.\n",
    "\n",
    "\n",
    "**Step 2: Extract Client Requirements**\n",
    "\n",
    "\n",
    "* The client requires the output of the given arithmetic expressions.\n",
    "\n",
    "\n",
    "**Step 3: Extract Input-Processing-Output**\n",
    "\n",
    "\n",
    "* Input\n",
    "\n",
    "\n",
    "    * Data:\n",
    "        * 15 // 3 % 2 + 5 – 2 * 5 \n",
    "        * 15 // (3 % 2) + (5 – 2) * 5 \n",
    "        * 15 / 3 % 2 + 5 – 2 ** 3\n",
    "        \n",
    "    * Instruction:\n",
    "        * Evaluate the given arithmetic expressions and determine their outputs.\n",
    "\n",
    "\n",
    "* Processing\n",
    "    * Apply the order of operations (Precedence/Associativity) to calculate the value of each expression.\n",
    "    * Use Python's arithmetic operators (/, //, %, +, -, **) to perform the calculations.\n",
    "\n",
    "\n",
    "* Output\n",
    "    * -4\n",
    "    * 30\n",
    "    * -2\n",
    "\n",
    "\n",
    "\n",
    "**Step 4: Write down Pseudocode**\n",
    "\n",
    "\n",
    "1. Start \n",
    "2. Set variable result1 equal to 15 // 3 % 2 + 5 - 2 * 5\n",
    "3. Print the value of result1\n",
    "4. Set variable result2 equal to 15 // (3 % 2) + (5 - 2) * 5\n",
    "5. Print the value of result2\n",
    "6. Set variable result3 equal to 15 / 3 % 2 + 5 - 2 ** 3\n",
    "7. Print the value of result3\n",
    "5. End\n",
    "\n",
    "**Step 5: Draw Flowchart (if needed)**\n",
    "\n",
    "\n",
    " \n",
    "\n",
    "\n"
   ]
  },
  {
   "attachments": {
    "1ee77fba-1914-4c18-b351-273ac4065b3d.png": {
     "image/png": "[encoded data removed]"
    }
   },
   "cell_type": "markdown",
   "id": "04de2dc8-3f05-4161-8ded-8720dd23ae74",
   "metadata": {},
   "source": [
    "![flow1.png](attachment:1ee77fba-1914-4c18-b351-273ac4065b3d.png)"
   ]
  },
  {
   "cell_type": "markdown",
   "id": "580fa040-08c4-424f-9f54-72b5848bdc0a",
   "metadata": {},
   "source": [
    "**Step 6: Select Most Suitable Programming Language, IDE, and Machine**\n",
    "\n",
    "\n",
    "* Programming language: Python\n",
    "* IDE: Jupyter Notebook\n",
    "* Machine: Any standard machine with Python and Jupyter Notebook installed can be used\n",
    "\n",
    "\n",
    "**Step 7: Write down Developer and System Information**\n",
    "\n",
    "\n",
    "* Developer: Maryam Naveed\n",
    "* System:\n",
    "    * 64-bit operating system\n",
    "    * Windows 10 Home, 22H2\n",
    "\n",
    "\n",
    "**Step 8: Transform Pseudocode (or Flowchart) into Code with Proper Comments**\n",
    "\n",
    "\n",
    "#Expression 1\n",
    "\n",
    "result1 = 15 // 3 % 2 + 5 - 2 * 5 \n",
    "\n",
    "print(\"Result of expression 1:\", result1)\n",
    "\n",
    "#Expression 2\n",
    "\n",
    "result2 = 15 // (3 % 2) + (5 - 2) * 5 \n",
    "\n",
    "print(\"Result of expression 2:\", result2)\n",
    "\n",
    "#Expression 3\n",
    "\n",
    "result3 = 15 / 3 % 2 + 5 - 2 ** 3 \n",
    "\n",
    "print(\"Result of expression 3:\", result3)\n",
    "\n",
    "\n",
    "**Step 9: Test Your Code**"
   ]
  },
  {
   "cell_type": "code",
   "execution_count": 75,
   "id": "7f551f42-4563-417e-98c5-d26d7aff13ed",
   "metadata": {},
   "outputs": [
    {
     "name": "stdout",
     "output_type": "stream",
     "text": [
      "Result of expression 1: -4\n",
      "Result of expression 2: 30\n",
      "Result of expression 3: -2.0\n"
     ]
    }
   ],
   "source": [
    "#Expression 1\n",
    "result1 = 15 // 3 % 2 + 5 - 2 * 5\n",
    "print(\"Result of expression 1:\", result1)\n",
    "\n",
    "#Expression 2\n",
    "result2 = 15 // (3 % 2) + (5 - 2) * 5\n",
    "print(\"Result of expression 2:\", result2)\n",
    "\n",
    "#Expression 3\n",
    "result3 = 15 / 3 % 2 + 5 - 2 ** 3\n",
    "print(\"Result of expression 3:\", result3)"
   ]
  },
  {
   "cell_type": "markdown",
   "id": "8f88c62a-b877-4c6a-8d85-36b490e90203",
   "metadata": {},
   "source": [
    "**Step 10: Deploy Your Software for Client Usage**\n",
    "\n",
    "\n",
    "* Share Jupyter Notebook file with client.\n"
   ]
  },
  {
   "cell_type": "markdown",
   "id": "eaa95ca7-fe3b-41d6-9396-6c18da52b148",
   "metadata": {},
   "source": [
    "### Your Turn Task \n",
    "\n",
    "\n",
    "Write down three different Arithmetic Expressions and calcualte them\n",
    "\n",
    "\n",
    "* 25 // (4 * 2) + 3 ** 2 - 1 % 5\n",
    "\n",
    "* (17 - 5) * 2 % 3 + 4 / 2 \n",
    "\n",
    "* 8 ** 2 // 5 - 3 * 2 + 1\n",
    "\n",
    "\n"
   ]
  },
  {
   "cell_type": "markdown",
   "id": "08de9500-7f97-499e-8b27-659dd94daae4",
   "metadata": {},
   "source": [
    "\n",
    "\n",
    "**Step 1: Completely and Correctly Understand the Real-world Scenario**\n",
    "\n",
    "\n",
    "* The task is to evaluate arithmetic expressions that involve basic operations like multiplication, division, modulus, addition, subtraction, and exponentiation.\n",
    "\n",
    "\n",
    "**Step 2: Extract Client Requirements**\n",
    "\n",
    "\n",
    "* The client requires the output of the given arithmetic expressions.\n",
    "\n",
    "\n",
    "**Step 3: Extract Input-Processing-Output**\n",
    "\n",
    "\n",
    "* Input\n",
    "\n",
    "\n",
    "    * Data:\n",
    "        * 25 // (4 * 2) + 3 ** 2 - 1 % 5\n",
    "        * (17 - 5) * 2 % 3 + 4 / 2 \n",
    "        * 8 ** 2 // 5 - 3 * 2 + 1\n",
    "        \n",
    "    * Instruction:\n",
    "        * Evaluate the given arithmetic expressions and determine their outputs.\n",
    "\n",
    "\n",
    "* Processing\n",
    "    * Apply the order of operations (Precedence/Associativity) to calculate the value of each expression.\n",
    "    * Use Python's arithmetic operators (/, //, %, +, -, **) to perform the calculations.\n",
    "\n",
    "\n",
    "* Output\n",
    "    * 11\n",
    "    * 2\n",
    "    * 7\n",
    "\n",
    "\n",
    "\n",
    "**Step 4: Write down Pseudocode**\n",
    "\n",
    "\n",
    "1. Start \n",
    "2. Set variable result1 equal to 25 // (4 * 2) + 3 ** 2 - 1 % 5\n",
    "3. Print the value of result1\n",
    "4. Set variable result2 equal to (17 - 5) * 2 % 3 + 4 / 2 \n",
    "5. Print the value of result2\n",
    "6. Set variable result3 equal to 8 ** 2 // 5 - 3 * 2 + 1\n",
    "7. Print the value of result3\n",
    "5. End\n",
    "\n",
    "**Step 5: Draw Flowchart (if needed)**\n",
    "\n",
    "* similar flowchart to previous question\n",
    " \n",
    "\n",
    "\n"
   ]
  },
  {
   "cell_type": "markdown",
   "id": "066e882a-839c-4d53-866d-b2d63f437fe5",
   "metadata": {},
   "source": [
    "**Step 6: Select Most Suitable Programming Language, IDE, and Machine**\n",
    "\n",
    "\n",
    "* Programming language: Python\n",
    "* IDE: Jupyter Notebook\n",
    "* Machine: Any standard machine with Python and Jupyter Notebook installed can be used\n",
    "\n",
    "\n",
    "**Step 7: Write down Developer and System Information**\n",
    "\n",
    "\n",
    "* Developer: Maryam Naveed\n",
    "* System:\n",
    "    * 64-bit operating system\n",
    "    * Windows 10 Home, 22H2\n",
    "\n",
    "\n",
    "**Step 8: Transform Pseudocode (or Flowchart) into Code with Proper Comments**\n",
    "\n",
    "\n",
    "#Expression 1\n",
    "\n",
    "result1 = 25 // (4 * 2) + 3 ** 2 - 1 % 5 \n",
    "\n",
    "print(\"Result of expression 1:\", result1)\n",
    "\n",
    "#Expression 2\n",
    "\n",
    "result2 = (17 - 5) * 2 % 3 + 4 / 2\n",
    "\n",
    "print(\"Result of expression 2:\", result2)\n",
    "\n",
    "#Expression 3\n",
    "\n",
    "result3 = 8 ** 2 // 5 - 3 * 2 + 1 \n",
    "\n",
    "print(\"Result of expression 3:\", result3)\n",
    "\n",
    "\n",
    "**Step 9: Test Your Code**"
   ]
  },
  {
   "cell_type": "code",
   "execution_count": 77,
   "id": "3ec87d6e-3689-465e-8804-67612de19125",
   "metadata": {},
   "outputs": [
    {
     "name": "stdout",
     "output_type": "stream",
     "text": [
      "Result of expression 1: 11\n",
      "Result of expression 2: 2.0\n",
      "Result of expression 3: 7\n"
     ]
    }
   ],
   "source": [
    "#Expression 1\n",
    "result1 = 25 // (4 * 2) + 3 ** 2 - 1 % 5\n",
    "print(\"Result of expression 1:\", result1)\n",
    "\n",
    "#Expression 2\n",
    "result2 = (17 - 5) * 2 % 3 + 4 / 2\n",
    "print(\"Result of expression 2:\", result2)\n",
    "\n",
    "#Expression 3\n",
    "result3 = 8 ** 2 // 5 - 3 * 2 + 1\n",
    "print(\"Result of expression 3:\", result3)"
   ]
  },
  {
   "cell_type": "markdown",
   "id": "ca2a42fa-92e9-44ee-8950-4dd20cae906c",
   "metadata": {},
   "source": [
    "**Step 10: Deploy Your Software for Client Usage**\n",
    "\n",
    "\n",
    "* Share Jupyter Notebook file with client.\n"
   ]
  },
  {
   "cell_type": "markdown",
   "id": "6cd3a73a-f2d3-4a85-beea-195f9ab9ac0b",
   "metadata": {},
   "source": [
    "## <center>Selection Structure (IF statement)\n",
    "### Example 1"
   ]
  },
  {
   "cell_type": "code",
   "execution_count": 84,
   "id": "f89c0385-a523-464c-946c-9b17c2c0448a",
   "metadata": {},
   "outputs": [
    {
     "name": "stdout",
     "output_type": "stream",
     "text": [
      "Start\n",
      "End\n"
     ]
    }
   ],
   "source": [
    "num1 = 10 \n",
    "num2 = 15 \n",
    "print('Start') \n",
    "if num1 > num2: \n",
    "    print('Condition is True') \n",
    "    print('Number 1 is greater than Number 2') \n",
    "print('End') \n"
   ]
  },
  {
   "cell_type": "markdown",
   "id": "b2c266c2-38bc-4592-8648-696dbcab989c",
   "metadata": {},
   "source": [
    "### Example 2"
   ]
  },
  {
   "cell_type": "code",
   "execution_count": 83,
   "id": "c2f93d14-6aa7-4567-91cf-9922d5244210",
   "metadata": {},
   "outputs": [
    {
     "name": "stdout",
     "output_type": "stream",
     "text": [
      "Start\n",
      "Condition is True\n",
      "Number 1 is lesser than Number 2\n",
      "End\n"
     ]
    }
   ],
   "source": [
    "num1 = 10 \n",
    "num2 = 15 \n",
    "print('Start') \n",
    "if num1 < num2: \n",
    "    print('Condition is True') \n",
    "    print('Number 1 is lesser than Number 2') \n",
    "print('End') "
   ]
  },
  {
   "cell_type": "markdown",
   "id": "1d6632b6-4631-4a45-bb34-a121a558ba70",
   "metadata": {},
   "source": [
    "### Example 3"
   ]
  },
  {
   "cell_type": "code",
   "execution_count": 90,
   "id": "04ab90ef-ee37-482e-ab2a-c46ed2b66436",
   "metadata": {},
   "outputs": [
    {
     "name": "stdin",
     "output_type": "stream",
     "text": [
      "Enter an Integer Number:  70\n"
     ]
    },
    {
     "name": "stdout",
     "output_type": "stream",
     "text": [
      "70 is an Even Number\n"
     ]
    }
   ],
   "source": [
    "number = int(input(\"Enter an Integer Number: \")) \n",
    "\n",
    "if number % 2 == 0: \n",
    "    print(number, \"is an Even Number\") "
   ]
  },
  {
   "cell_type": "markdown",
   "id": "5131de94-5b87-4d04-8944-7837f010897e",
   "metadata": {},
   "source": [
    "### Example 4"
   ]
  },
  {
   "cell_type": "code",
   "execution_count": 89,
   "id": "dde85430-467d-4206-b444-b807152905fc",
   "metadata": {},
   "outputs": [
    {
     "name": "stdin",
     "output_type": "stream",
     "text": [
      "Enter an Integer Number:  7\n"
     ]
    },
    {
     "name": "stdout",
     "output_type": "stream",
     "text": [
      "7 is an Odd Number\n"
     ]
    }
   ],
   "source": [
    "number = int(input(\"Enter an Integer Number: \")) \n",
    "\n",
    "if number % 2 == 0: \n",
    "    print(number, \"is an Even Number\") \n",
    "if number % 2 == 1: \n",
    "    print(number, \"is an Odd Number\")"
   ]
  },
  {
   "cell_type": "markdown",
   "id": "eebc4244-ca26-4321-a8a5-07aab7576d6c",
   "metadata": {},
   "source": [
    "### TODO Task\n",
    "\n",
    "Write a program that takes an integer input from the user and \n",
    "determines whether the number is positive, negative, or zero. "
   ]
  },
  {
   "cell_type": "markdown",
   "id": "9fee2057-ac49-46ad-a781-ba141353d779",
   "metadata": {},
   "source": [
    "**Step 1: Completely and Correctly Understand the Real-world Scenario**\n",
    "\n",
    "\n",
    "* The task is to check whether a user input is positive, negative or zero and display answer accordingly\n",
    "\n",
    "\n",
    "**Step 2: Extract Client Requirements**\n",
    "\n",
    "\n",
    "* The client requires to find out whether a number is positive, negative or zero.\n",
    "\n",
    "\n",
    "**Step 3: Extract Input-Processing-Output**\n",
    "\n",
    "\n",
    "* Input\n",
    "\n",
    "\n",
    "    * Data:\n",
    "        * number of inputs: 1\n",
    "        * data type: int\n",
    "        \n",
    "    * Instruction:\n",
    "        * check if number is positive, negative or zero using if statement\n",
    "\n",
    "\n",
    "* Processing\n",
    "    * if statement\n",
    "    * conditions involving relational operators(i.e. relational expression)\n",
    "    * print() function\n",
    "\n",
    "\n",
    "* Output\n",
    "    * number of outputs: 1\n",
    "    * possible number of outputs: 3\n",
    "    * data type: string\n",
    "\n",
    "\n",
    "\n",
    "**Step 4: Write down Pseudocode**\n",
    "\n",
    "\n",
    "1. Start\n",
    "2. Declare variable named 'number'\n",
    "3. Get integer input from user and store it in 'number'\n",
    "4. IF number == 0\n",
    "5.    Display \"The number is zero\"\n",
    "6. END IF\n",
    "7. IF number < 0\n",
    "8.    Display \"The number is negative\"\n",
    "9. END IF\n",
    "10. IF number > 0\n",
    "11.   Display \"The number is positive\"\n",
    "12. END IF\n",
    "13. End\n",
    "\n",
    "**Step 5: Draw Flowchart (if needed)**\n",
    "\n",
    "**Step 6: Select Most Suitable Programming Language, IDE, and Machine**\n",
    "\n",
    "\n",
    "* Programming language: Python\n",
    "* IDE: Jupyter Notebook\n",
    "* Machine: Any standard machine with Python and Jupyter Notebook installed can be used\n",
    "\n",
    "\n",
    "**Step 7: Write down Developer and System Information**\n",
    "\n",
    "\n",
    "* Developer: Maryam Naveed\n",
    "* System:\n",
    "    * 64-bit operating system\n",
    "    * Windows 10 Home, 22H2\n",
    "\n",
    "\n",
    "**Step 8: Transform Pseudocode (or Flowchart) into Code with Proper Comments**\n",
    "\n",
    "#getting input from user and converting string to integer\n",
    "number = int(input('Enter a number: '))\n",
    "\n",
    "#use of if statement to check and display if number is 0 \n",
    "if number == 0:\n",
    "    print ('The number is zero')\n",
    "\n",
    "#use of if statement to check and display if number is negative\n",
    "if number < 0:\n",
    "    print ('The number is negative')\n",
    "\n",
    "#use of if statement to check and display if number is positive\n",
    "if number > 0:\n",
    "    print ('The number is positive')\n",
    "\n",
    "\n",
    "**Step 9: Test Your Code**"
   ]
  },
  {
   "cell_type": "code",
   "execution_count": 94,
   "id": "2f1a1a3a-7ada-4928-bbb3-9151a9303151",
   "metadata": {},
   "outputs": [
    {
     "name": "stdin",
     "output_type": "stream",
     "text": [
      "Enter a number:  -8\n"
     ]
    },
    {
     "name": "stdout",
     "output_type": "stream",
     "text": [
      "The number is negative\n"
     ]
    }
   ],
   "source": [
    "#getting input from user and converting string to integer\n",
    "number = int(input('Enter a number: '))\n",
    "\n",
    "#use of if statement to check and display if number is 0 \n",
    "if number == 0:\n",
    "    print ('The number is zero')\n",
    "\n",
    "#use of if statement to check and display if number is negative\n",
    "if number < 0:\n",
    "    print ('The number is negative')\n",
    "\n",
    "#use of if statement to check and display if number is positive\n",
    "if number > 0:\n",
    "    print ('The number is positive')"
   ]
  },
  {
   "cell_type": "markdown",
   "id": "691efef1-b4f5-4d06-93da-9b7df5acbf10",
   "metadata": {},
   "source": [
    "**Step 10: Deploy Your Software for Client Usage**\n",
    "\n",
    "\n",
    "* Share Jupyter Notebook file with client.\n"
   ]
  },
  {
   "cell_type": "markdown",
   "id": "7e1abfca-c2b3-462b-8422-14291b94f00a",
   "metadata": {},
   "source": [
    "## <center>IF-ELSE"
   ]
  },
  {
   "cell_type": "markdown",
   "id": "13a20971-ff94-4e4a-90de-43f94df0e43c",
   "metadata": {},
   "source": [
    "### Example 1\n",
    "\n",
    "Determine whether a number is odd or even "
   ]
  },
  {
   "cell_type": "markdown",
   "id": "b8f4850e-4ece-45eb-a827-7c244eb6fb24",
   "metadata": {},
   "source": [
    "**Step 1: Completely and Correctly Understand the Real-world Scenario**\n",
    "\n",
    "\n",
    "* The task is to check whether a user input is even or odd using if-else\n",
    "\n",
    "\n",
    "**Step 2: Extract Client Requirements**\n",
    "\n",
    "\n",
    "* The client requires to find out whether a number is even or odd.\n",
    "\n",
    "\n",
    "**Step 3: Extract Input-Processing-Output**\n",
    "\n",
    "\n",
    "* Input\n",
    "\n",
    "\n",
    "    * Data:\n",
    "        * number of inputs: 1\n",
    "        * data type: int\n",
    "        \n",
    "    * Instruction:\n",
    "        * check if number is even or odd\n",
    "\n",
    "\n",
    "* Processing\n",
    "    * if-else statement \n",
    "    * print() function\n",
    "\n",
    "\n",
    "* Output\n",
    "    * number of outputs: 1\n",
    "    * possible number of outputs: 2\n",
    "    * data type: string\n",
    "\n",
    "\n",
    "\n",
    "**Step 4: Write down Pseudocode**\n",
    "\n",
    "\n",
    "1. Start\n",
    "2. Declare variable named 'number'\n",
    "3. Get integer input from user and store it in 'number'\n",
    "4. IF number%2 == 0\n",
    "5.    Display \"The number is even\"\n",
    "6. ELSE\n",
    "7.    Display \"The number is odd\"\n",
    "9. END\n",
    "\n",
    "**Step 5: Draw Flowchart (if needed)**\n",
    "\n",
    "**Step 6: Select Most Suitable Programming Language, IDE, and Machine**\n",
    "\n",
    "\n",
    "* Programming language: Python\n",
    "* IDE: Jupyter Notebook\n",
    "* Machine: Any standard machine with Python and Jupyter Notebook installed can be used\n",
    "\n",
    "\n",
    "**Step 7: Write down Developer and System Information**\n",
    "\n",
    "\n",
    "* Developer: Maryam Naveed\n",
    "* System:\n",
    "    * 64-bit operating system\n",
    "    * Windows 10 Home, 22H2\n",
    "\n",
    "\n",
    "**Step 8: Transform Pseudocode (or Flowchart) into Code with Proper Comments**\n",
    "\n",
    "#getting input from user and converting string to integer\n",
    "\n",
    "number = int(input('Enter a number: '))\n",
    "\n",
    "#use of if statement to check and display if number is even \n",
    "\n",
    "if number%2 == 0:\n",
    "\n",
    "   print ('The number is even')\n",
    "\n",
    "\n",
    "#use of else to display number is odd\n",
    "\n",
    "else:\n",
    "\n",
    "   print ('The number is odd')\n",
    "\n",
    "\n",
    "\n",
    "**Step 9: Test Your Code**"
   ]
  },
  {
   "cell_type": "code",
   "execution_count": 99,
   "id": "070a1da5-4aba-4def-b9ed-1207c375fff7",
   "metadata": {},
   "outputs": [
    {
     "name": "stdin",
     "output_type": "stream",
     "text": [
      "Enter a number:  6\n"
     ]
    },
    {
     "name": "stdout",
     "output_type": "stream",
     "text": [
      "The number is even\n"
     ]
    }
   ],
   "source": [
    "#getting input from user and converting string to integer\n",
    "number = int(input('Enter a number: '))\n",
    "\n",
    "#use of if statement to check and display if number is even \n",
    "if number%2 == 0:\n",
    "    print ('The number is even')\n",
    "\n",
    "#use of else to display number is odd\n",
    "else:\n",
    "    print ('The number is odd')"
   ]
  },
  {
   "cell_type": "markdown",
   "id": "1ac516b7-0885-47dc-8008-821edbfeda98",
   "metadata": {},
   "source": [
    "**Step 10: Deploy Your Software for Client Usage**\n",
    "\n",
    "\n",
    "* Share Jupyter Notebook file with client.\n"
   ]
  },
  {
   "cell_type": "markdown",
   "id": "a1b667d9-7ec7-4192-a353-af0f6a9cc154",
   "metadata": {},
   "source": [
    "### Example 2\n",
    "\n",
    " Given two numbers. Determine which number is greater "
   ]
  },
  {
   "cell_type": "markdown",
   "id": "affb9378-c088-499b-90a1-69e046d9e884",
   "metadata": {},
   "source": [
    "**Step 1: Completely and Correctly Understand the Real-world Scenario**\n",
    "\n",
    "\n",
    "* The task is to determine which number is greater out of two numbers\n",
    "\n",
    "\n",
    "**Step 2: Extract Client Requirements**\n",
    "\n",
    "\n",
    "* The client requires to find out which number is greater between two numbers.\n",
    "\n",
    "\n",
    "**Step 3: Extract Input-Processing-Output**\n",
    "\n",
    "\n",
    "* Input\n",
    "\n",
    "\n",
    "    * Data:\n",
    "        * number of inputs: 2\n",
    "        * data type: int\n",
    "        \n",
    "    * Instruction:\n",
    "        * check which number is greater\n",
    "\n",
    "\n",
    "* Processing\n",
    "    * if-else statement \n",
    "    * print() function\n",
    "\n",
    "\n",
    "* Output\n",
    "    * number of outputs: 1\n",
    "    * possible number of outputs: 2\n",
    "    * data type: string\n",
    "\n",
    "\n",
    "\n",
    "**Step 4: Write down Pseudocode**\n",
    "\n",
    "\n",
    "1. Start\n",
    "2. Declare variables named 'number1' and 'number2'\n",
    "3. Get two integer inputs from user and store them in 'number1' and 'number2'\n",
    "4. IF number1 > number2\n",
    "5.    Display \"The first number is greater\"\n",
    "6. ELSE\n",
    "7.    Display \"The second number is greater\"\n",
    "9. END\n",
    "\n",
    "**Step 5: Draw Flowchart (if needed)**\n",
    "\n",
    "**Step 6: Select Most Suitable Programming Language, IDE, and Machine**\n",
    "\n",
    "\n",
    "* Programming language: Python\n",
    "* IDE: Jupyter Notebook\n",
    "* Machine: Any standard machine with Python and Jupyter Notebook installed can be used\n",
    "\n",
    "\n",
    "**Step 7: Write down Developer and System Information**\n",
    "\n",
    "\n",
    "* Developer: Maryam Naveed\n",
    "* System:\n",
    "    * 64-bit operating system\n",
    "    * Windows 10 Home, 22H2\n",
    "\n",
    "\n",
    "**Step 8: Transform Pseudocode (or Flowchart) into Code with Proper Comments**\n",
    "\n",
    "#getting inputs from user and converting string to integer\n",
    "\n",
    "number1 = int(input('Enter first number: '))\n",
    "\n",
    "number2 = int(input('Enter second number: '))\n",
    "\n",
    "#use of if statement to check and display if first number is greater \n",
    "\n",
    "if number1 > number2:\n",
    "\n",
    "   print ('The first number is greater')\n",
    "\n",
    "\n",
    "#use of else to display if second number is greater\n",
    "\n",
    "else:\n",
    "\n",
    "   print ('The second number is greater')\n",
    "\n",
    "\n",
    "\n",
    "**Step 9: Test Your Code**"
   ]
  },
  {
   "cell_type": "code",
   "execution_count": 100,
   "id": "3b2e6df1-58a3-448b-94cc-9f54290637a7",
   "metadata": {},
   "outputs": [
    {
     "name": "stdin",
     "output_type": "stream",
     "text": [
      "Enter first number:  33\n",
      "Enter second number:  76\n"
     ]
    },
    {
     "name": "stdout",
     "output_type": "stream",
     "text": [
      "The second number is greater\n"
     ]
    }
   ],
   "source": [
    "#getting inputs from user and converting string to integer\n",
    "\n",
    "number1 = int(input('Enter first number: '))\n",
    "number2 = int(input('Enter second number: '))\n",
    "\n",
    "#use of if statement to check and display if first number is greater \n",
    "if number1 > number2: \n",
    "    print ('The first number is greater')\n",
    "    \n",
    "#use of else to display if second number is greater \n",
    "else:\n",
    "    print ('The second number is greater')"
   ]
  },
  {
   "cell_type": "markdown",
   "id": "fab87817-7eeb-49ca-9882-9c78ba41c6bb",
   "metadata": {},
   "source": [
    "### TODO Task 1 \n",
    "\n",
    "Write a program which takes age of a person as input, and determines if \n",
    "(s)he is eligible to vote or not "
   ]
  },
  {
   "attachments": {
    "98d6bb4a-ec13-44cb-9747-345f2ee4a270.png": {
     "image/png": "[encoded data removed]"
    }
   },
   "cell_type": "markdown",
   "id": "3740da14-b1c8-4c6d-b0ab-bdbe70ecd04b",
   "metadata": {},
   "source": [
    "**Step 1: Completely and Correctly Understand the Real-world Scenario**\n",
    "\n",
    "\n",
    "* The task is to determine if a person can vote or not based on age entered\n",
    "\n",
    "\n",
    "**Step 2: Extract Client Requirements**\n",
    "\n",
    "\n",
    "* The client requires to find out whether a person is old enough to vote or not.\n",
    "\n",
    "\n",
    "**Step 3: Extract Input-Processing-Output**\n",
    "\n",
    "\n",
    "* Input\n",
    "\n",
    "\n",
    "    * Data:\n",
    "        * number of inputs: 1\n",
    "        * data type: int\n",
    "        \n",
    "    * Instruction:\n",
    "        * check if number is greater or lesser than 18 and display output accordingly\n",
    "\n",
    "\n",
    "* Processing\n",
    "    * if-else statement \n",
    "    * print() function\n",
    "\n",
    "\n",
    "* Output\n",
    "    * number of outputs: 1\n",
    "    * possible number of outputs: 2\n",
    "    * data type: string\n",
    "\n",
    "\n",
    "\n",
    "**Step 4: Write down Pseudocode**\n",
    "\n",
    "\n",
    "1. Start\n",
    "2. Declare variable named 'age'\n",
    "3. Get age input from user and store it in 'age'\n",
    "4. IF age >= 18\n",
    "5.    Display \"Eligible to vote\"\n",
    "6. ELSE\n",
    "7.    Display \"Not eligible to vote\"\n",
    "9. END\n",
    "\n",
    "**Step 5: Draw Flowchart (if needed)**\n",
    "\n",
    "![flow2.png](attachment:98d6bb4a-ec13-44cb-9747-345f2ee4a270.png)\n",
    "\n",
    "**Step 6: Select Most Suitable Programming Language, IDE, and Machine**\n",
    "\n",
    "\n",
    "* Programming language: Python\n",
    "* IDE: Jupyter Notebook\n",
    "* Machine: Any standard machine with Python and Jupyter Notebook installed can be used\n",
    "\n",
    "\n",
    "**Step 7: Write down Developer and System Information**\n",
    "\n",
    "\n",
    "* Developer: Maryam Naveed\n",
    "* System:\n",
    "    * 64-bit operating system\n",
    "    * Windows 10 Home, 22H2\n",
    "\n",
    "\n",
    "**Step 8: Transform Pseudocode (or Flowchart) into Code with Proper Comments**\n",
    "\n",
    "#getting age input from user and converting string to integer\n",
    "\n",
    "age = int(input('Enter age: '))\n",
    "\n",
    "#use of if statement to check and display if eligible to vote\n",
    "\n",
    "if age >= 18:\n",
    "\n",
    "   print ('Eligible to vote')\n",
    "\n",
    "\n",
    "#use of else to display not eligible\n",
    "\n",
    "else:\n",
    "\n",
    "   print ('Not eligible to vote')\n",
    "\n",
    "\n",
    "\n",
    "**Step 9: Test Your Code**"
   ]
  },
  {
   "cell_type": "code",
   "execution_count": 103,
   "id": "7ccd2824-4b0c-4b14-875b-37fec43d9087",
   "metadata": {},
   "outputs": [
    {
     "name": "stdin",
     "output_type": "stream",
     "text": [
      "Enter age:  18\n"
     ]
    },
    {
     "name": "stdout",
     "output_type": "stream",
     "text": [
      "Eligible to vote\n"
     ]
    }
   ],
   "source": [
    "#getting age input from user and converting string to  int\n",
    "age = int(input('Enter age: '))\n",
    "\n",
    "#use of if statement to check and display if eligible to vote \n",
    "if age >= 18:\n",
    "    print ('Eligible to vote') \n",
    "    \n",
    "#use of else to display not eligible \n",
    "else:\n",
    "    print ('Not eligible to vote')"
   ]
  },
  {
   "cell_type": "markdown",
   "id": "c8026491-956f-42ac-8903-d07f1d526a61",
   "metadata": {},
   "source": [
    "### TODO Task 2 \n",
    "\n",
    "Write a program which takes hair length of a person as input, and \n",
    "determines if the person is male or female (Person whose hair length is greater than 6 inches is a female)"
   ]
  },
  {
   "attachments": {},
   "cell_type": "markdown",
   "id": "a66f2750-9b31-4c6a-89a2-246426bdb373",
   "metadata": {},
   "source": [
    "**Step 1: Completely and Correctly Understand the Real-world Scenario**\n",
    "\n",
    "\n",
    "* The task is to input hair length of person and determine if they are male or female based on the length\n",
    "\n",
    "\n",
    "**Step 2: Extract Client Requirements**\n",
    "\n",
    "\n",
    "* The client wants to find out whether a person is male or female by their hair length.\n",
    "\n",
    "\n",
    "**Step 3: Extract Input-Processing-Output**\n",
    "\n",
    "\n",
    "* Input\n",
    "\n",
    "\n",
    "    * Data:\n",
    "        * number of inputs: 1\n",
    "        * data type: float\n",
    "        \n",
    "    * Instruction:\n",
    "        * check if input is greater or lesser than 6 and display output accordingly\n",
    "\n",
    "\n",
    "* Processing\n",
    "    * if-else statement \n",
    "    * print() function\n",
    "\n",
    "\n",
    "* Output\n",
    "    * number of outputs: 1\n",
    "    * possible number of outputs: 2\n",
    "    * data type: string\n",
    "\n",
    "\n",
    "\n",
    "**Step 4: Write down Pseudocode**\n",
    "\n",
    "\n",
    "1. Start\n",
    "2. Declare variable named 'hair_length'\n",
    "3. Get input from user and store it in 'hair_length'\n",
    "4. IF hair_length > 6\n",
    "5.    Display \"Female\"\n",
    "6. ELSE\n",
    "7.    Display \"Male\"\n",
    "9. END\n",
    "\n",
    "**Step 5: Draw Flowchart (if needed)**\n",
    "\n",
    "\n",
    "\n",
    "**Step 6: Select Most Suitable Programming Language, IDE, and Machine**\n",
    "\n",
    "\n",
    "* Programming language: Python\n",
    "* IDE: Jupyter Notebook\n",
    "* Machine: Any standard machine with Python and Jupyter Notebook installed can be used\n",
    "\n",
    "\n",
    "**Step 7: Write down Developer and System Information**\n",
    "\n",
    "\n",
    "* Developer: Maryam Naveed\n",
    "* System:\n",
    "    * 64-bit operating system\n",
    "    * Windows 10 Home, 22H2\n",
    "\n",
    "\n",
    "**Step 8: Transform Pseudocode (or Flowchart) into Code with Proper Comments**\n",
    "\n",
    "#getting age input from user and converting string to integer\n",
    "\n",
    "hair_length = float(input('Enter length of hair in inches: '))\n",
    "\n",
    "\n",
    "if hair_length > 6:\n",
    "\n",
    "   print ('Female')\n",
    "\n",
    "\n",
    "else:\n",
    "\n",
    "   print ('Male')\n",
    "\n",
    "\n",
    "\n",
    "**Step 9: Test Your Code**"
   ]
  },
  {
   "cell_type": "code",
   "execution_count": 108,
   "id": "397e17a3-5773-42b0-8cb1-026f4673133b",
   "metadata": {},
   "outputs": [
    {
     "name": "stdin",
     "output_type": "stream",
     "text": [
      "Enter length of hair in inches:  6\n"
     ]
    },
    {
     "name": "stdout",
     "output_type": "stream",
     "text": [
      "Male\n"
     ]
    }
   ],
   "source": [
    "#getting age input from user and converting string to integer\n",
    "\n",
    "hair_length = float(input('Enter length of hair in inches: '))\n",
    "\n",
    "\n",
    "if hair_length > 6:\n",
    "\n",
    "   print ('Female')\n",
    "\n",
    "\n",
    "else:\n",
    "\n",
    "   print ('Male')"
   ]
  },
  {
   "cell_type": "markdown",
   "id": "e66235df-a4bc-42aa-804a-c7833028cb50",
   "metadata": {},
   "source": [
    "## <center>if-elif-else Statement\n",
    "\n",
    "### Example 1 \n",
    "\n",
    "Write a program that calculates the Body Mass Index (BMI) and \n",
    "categorizes it into underweight, normal weight, overweight, or \n",
    "obese. "
   ]
  },
  {
   "attachments": {},
   "cell_type": "markdown",
   "id": "c7b158f0-d0a2-46d7-8de9-7dea899b7dca",
   "metadata": {},
   "source": [
    "**Step 1: Completely and Correctly Understand the Real-world Scenario**\n",
    "\n",
    "\n",
    "* The task is to calculate BMI usin user inputs and determine whether person is underweight, normal, overweight or obese based on it\n",
    "\n",
    "\n",
    "**Step 2: Extract Client Requirements**\n",
    "\n",
    "\n",
    "* The client wants to find out state of person based on BMI.\n",
    "\n",
    "\n",
    "**Step 3: Extract Input-Processing-Output**\n",
    "\n",
    "\n",
    "* Input\n",
    "\n",
    "\n",
    "    * Data:\n",
    "        * number of inputs: 2\n",
    "        * data type: float\n",
    "        \n",
    "    * Instruction:\n",
    "        * check input and display output accordingly\n",
    "\n",
    "\n",
    "* Processing\n",
    "    * if-elif-else statement \n",
    "    * print() function\n",
    "    * input() function\n",
    "    * BMI calculations\n",
    "\n",
    "\n",
    "* Output\n",
    "    * number of outputs: 1\n",
    "    * possible number of outputs: 4\n",
    "    * data type: string\n",
    "\n",
    "\n",
    "\n",
    "**Step 4: Write down Pseudocode**\n",
    "\n",
    "\n",
    "1. Start\n",
    "2. Declare variables named 'weight' and 'height'\n",
    "3. Get input from user and store it in 'weight' and 'height'\n",
    "4. BMI = weight/ (height^height)\n",
    "5. if bmi < 18.5:\n",
    "6.   Print \"Underweight.\"  \n",
    "7. else if bmi < 24.9: \n",
    "8.   Print \"Normal weight.\"  \n",
    "9. else if bmi < 29.9: \n",
    "10.  Print \"Overweight.\" \n",
    "11. else: \n",
    "12.  Print \"Obese.\" \n",
    "13.  End\n",
    "\n",
    "**Step 5: Draw Flowchart (if needed)**\n",
    "\n",
    "\n",
    "\n",
    "**Step 6: Select Most Suitable Programming Language, IDE, and Machine**\n",
    "\n",
    "\n",
    "* Programming language: Python\n",
    "* IDE: Jupyter Notebook\n",
    "* Machine: Any standard machine with Python and Jupyter Notebook installed can be used\n",
    "\n",
    "\n",
    "**Step 7: Write down Developer and System Information**\n",
    "\n",
    "\n",
    "* Developer: Maryam Naveed\n",
    "* System:\n",
    "    * 64-bit operating system\n",
    "    * Windows 10 Home, 22H2\n",
    "\n",
    "\n",
    "**Step 8: Transform Pseudocode (or Flowchart) into Code with Proper Comments**\n",
    "\n",
    "#getting inputs from user and converting string to float \n",
    "\n",
    "weight = float(input('Enter weight in kilograms: '))\n",
    "\n",
    "height = float(input('Enter height in meters: '))\n",
    "\n",
    "#calculating BMI using height and weight\n",
    "\n",
    "BMI = weight / (height*height)\n",
    "\n",
    "\n",
    "if bmi < 18.5:\n",
    "\n",
    "   print(\"Underweight.\")  \n",
    "\n",
    "elif bmi < 24.9: \n",
    "\n",
    "   print(\"Normal weight.\") \n",
    "   \n",
    "elif bmi < 29.9: \n",
    "\n",
    "  print(\"Overweight.\") \n",
    "\n",
    "else: \n",
    "  \n",
    "   print(\"Obese.\")\n",
    "\n",
    "**Step 9: Test Your Code**"
   ]
  },
  {
   "cell_type": "code",
   "execution_count": 110,
   "id": "7e4b7e42-2e95-4938-9fa0-1a8834a0b95a",
   "metadata": {},
   "outputs": [
    {
     "name": "stdin",
     "output_type": "stream",
     "text": [
      "Enter weight in kilograms:  57\n",
      "Enter height in meters:  1.5748\n"
     ]
    },
    {
     "name": "stdout",
     "output_type": "stream",
     "text": [
      "Normal weight.\n"
     ]
    }
   ],
   "source": [
    "#getting inputs from user and converting string to float \n",
    "\n",
    "weight = float(input('Enter weight in kilograms: ')) \n",
    "height = float(input('Enter height in meters: '))\n",
    "\n",
    "#calculating BMI using height and weight\n",
    "\n",
    "BMI = weight / (height*height)\n",
    "\n",
    "\n",
    "if BMI < 18.5:\n",
    "    print(\"Underweight.\")  \n",
    "\n",
    "elif BMI < 24.9: \n",
    "    print(\"Normal weight.\") \n",
    "   \n",
    "elif BMI < 29.9:\n",
    "    print(\"Overweight.\") \n",
    "\n",
    "else:\n",
    "    print(\"Obese.\")"
   ]
  },
  {
   "cell_type": "markdown",
   "id": "61f23d5d-ed2f-4b9a-8b6a-ba6a1b973ae6",
   "metadata": {},
   "source": [
    "### Example 2\n",
    "\n",
    "Write a program that takes a numerical grade as input and outputs \n",
    "the corresponding letter grade based on a standard grading scale. \n"
   ]
  },
  {
   "attachments": {},
   "cell_type": "markdown",
   "id": "6e0748bf-4478-46b4-aa20-9f90dff330dd",
   "metadata": {},
   "source": [
    "**Step 1: Completely and Correctly Understand the Real-world Scenario**\n",
    "\n",
    "\n",
    "* The task is to display grade based on marks input\n",
    "\n",
    "\n",
    "**Step 2: Extract Client Requirements**\n",
    "\n",
    "\n",
    "* The client wants to find grade against marks.\n",
    "\n",
    "\n",
    "**Step 3: Extract Input-Processing-Output**\n",
    "\n",
    "\n",
    "* Input\n",
    "\n",
    "\n",
    "    * Data:\n",
    "        * number of inputs: 1\n",
    "        * data type: float\n",
    "        \n",
    "    * Instruction:\n",
    "        * check input and display output accordingly\n",
    "\n",
    "\n",
    "* Processing\n",
    "    * if-elif-else statement \n",
    "    * print() function\n",
    "    * input() function\n",
    "\n",
    "\n",
    "* Output\n",
    "    * number of outputs: 1\n",
    "    * possible number of outputs: 4\n",
    "    * data type: string\n",
    "\n",
    "\n",
    "\n",
    "**Step 4: Write down Pseudocode**\n",
    "\n",
    "\n",
    "1. Start\n",
    "2. Declare variable named 'marks'\n",
    "3. Get input from user and store it in 'marks'\n",
    "4. if marks >= 90 \n",
    "5.   Print \"Excellent\"  \n",
    "6. else if marks >= 80\n",
    "7.   Print \"Very Good!\"  \n",
    "8. else if marks >= 70 \n",
    "9.  Print \"Good!\" \n",
    "10. else: \n",
    "11.  Print \"Needs Improvement\" \n",
    "12.  End\n",
    "\n",
    "**Step 5: Draw Flowchart (if needed)**\n",
    "\n",
    "\n",
    "\n",
    "**Step 6: Select Most Suitable Programming Language, IDE, and Machine**\n",
    "\n",
    "\n",
    "* Programming language: Python\n",
    "* IDE: Jupyter Notebook\n",
    "* Machine: Any standard machine with Python and Jupyter Notebook installed can be used\n",
    "\n",
    "\n",
    "**Step 7: Write down Developer and System Information**\n",
    "\n",
    "\n",
    "* Developer: Maryam Naveed\n",
    "* System:\n",
    "    * 64-bit operating system\n",
    "    * Windows 10 Home, 22H2\n",
    "\n",
    "\n",
    "**Step 8: Transform Pseudocode (or Flowchart) into Code with Proper Comments**\n",
    "\n",
    "#getting marks input from user and converting string to float \n",
    "\n",
    "marks = float(input('Enter marks: '))\n",
    "\n",
    "\n",
    "\n",
    "if marks >= 90:\n",
    "\n",
    "   print(\"Excellent\")  \n",
    "\n",
    "elif marks >= 80: \n",
    "\n",
    "   print(\"Very Good!\") \n",
    "   \n",
    "elif marks >= 70: \n",
    "\n",
    "  print(\" Good!\") \n",
    "\n",
    "else: \n",
    "  \n",
    "   print(\"Needs Improvement\")\n",
    "\n",
    "**Step 9: Test Your Code**"
   ]
  },
  {
   "cell_type": "code",
   "execution_count": 111,
   "id": "e8b3bd4f-a478-4595-badb-8cb284894524",
   "metadata": {},
   "outputs": [
    {
     "name": "stdin",
     "output_type": "stream",
     "text": [
      "Enter marks:  75\n"
     ]
    },
    {
     "name": "stdout",
     "output_type": "stream",
     "text": [
      " Good!\n"
     ]
    }
   ],
   "source": [
    "#getting marks input from user and converting string to float \n",
    "\n",
    "marks = float(input('Enter marks: '))\n",
    "\n",
    "\n",
    "\n",
    "if marks >= 90:\n",
    "\n",
    "   print(\"Excellent\")  \n",
    "\n",
    "elif marks >= 80: \n",
    "\n",
    "   print(\"Very Good!\") \n",
    "   \n",
    "elif marks >= 70: \n",
    "\n",
    "  print(\" Good!\") \n",
    "\n",
    "else: \n",
    "  \n",
    "   print(\"Needs Improvement\")"
   ]
  },
  {
   "cell_type": "markdown",
   "id": "e2025c5c-b554-48ee-9588-1e67dd06655e",
   "metadata": {},
   "source": [
    "### TODO Task 1 \n",
    "\n",
    "Write a program that takes an integer input from the user and determines \n",
    "whether the number is positive, negative, or zero. "
   ]
  },
  {
   "attachments": {},
   "cell_type": "markdown",
   "id": "09deea32-48ef-4d22-870c-12ae9ce62b5e",
   "metadata": {},
   "source": [
    "**Step 1: Completely and Correctly Understand the Real-world Scenario**\n",
    "\n",
    "**Step 2: Extract Client Requirements**\n",
    "\n",
    "**Step 3: Extract Input-Processing-Output**\n",
    "\n",
    "\n",
    "* Input\n",
    "\n",
    "\n",
    "    * Data:\n",
    "        * number of inputs: 1\n",
    "        * data type: float\n",
    "        \n",
    "    * Instruction:\n",
    "        * check input and display output(positive, negative or zero) accordingly\n",
    "\n",
    "\n",
    "* Processing\n",
    "    * if-elif-else statement \n",
    "    * print() function\n",
    "    * input() function\n",
    "\n",
    "\n",
    "* Output\n",
    "    * number of outputs: 1\n",
    "    * possible number of outputs: 3\n",
    "    * data type: string\n",
    "\n",
    "\n",
    "\n",
    "**Step 4: Write down Pseudocode**\n",
    "\n",
    "\n",
    "1. Start\n",
    "2. Get input from user and store it in variable 'number'\n",
    "3. if number == 0 \n",
    "4.   Print \"Number is zero\"  \n",
    "5. else if number < 0\n",
    "6.   Print \"Number is negative\"  \n",
    "7. else: \n",
    "8.  Print \"Number is positive\" \n",
    "9.  End\n",
    "\n",
    "**Step 5: Draw Flowchart (if needed)**\n",
    "\n",
    "\n",
    "\n",
    "**Step 6: Select Most Suitable Programming Language, IDE, and Machine**\n",
    "\n",
    "\n",
    "* Programming language: Python\n",
    "* IDE: Jupyter Notebook\n",
    "* Machine: Any standard machine with Python and Jupyter Notebook installed can be used\n",
    "\n",
    "\n",
    "**Step 7: Write down Developer and System Information**\n",
    "\n",
    "\n",
    "* Developer: Maryam Naveed\n",
    "* System:\n",
    "    * 64-bit operating system\n",
    "    * Windows 10 Home, 22H2\n",
    "\n",
    "\n",
    "**Step 8: Transform Pseudocode (or Flowchart) into Code with Proper Comments**\n",
    "\n",
    "#getting input from user and converting string to float \n",
    "\n",
    "number = float(input('Enter number: '))\n",
    "\n",
    "\n",
    "\n",
    "if number == 0:\n",
    "\n",
    "   print(\"number is zero\")  \n",
    "\n",
    "elif number < 0: \n",
    "\n",
    "   print(\"negative\") \n",
    "\n",
    "else: \n",
    "  \n",
    "   print(\"number is positive\")\n",
    "\n",
    "**Step 9: Test Your Code**"
   ]
  },
  {
   "cell_type": "code",
   "execution_count": 114,
   "id": "94441ece-e1d9-465b-81f2-60b28ddfc376",
   "metadata": {},
   "outputs": [
    {
     "name": "stdin",
     "output_type": "stream",
     "text": [
      "Enter number:  5.5\n"
     ]
    },
    {
     "name": "stdout",
     "output_type": "stream",
     "text": [
      "number is positive\n"
     ]
    }
   ],
   "source": [
    "number = float(input('Enter number: '))\n",
    "\n",
    "\n",
    "\n",
    "if number == 0:\n",
    "\n",
    "   print(\"number is zero\")  \n",
    "\n",
    "elif number < 0: \n",
    "\n",
    "   print(\"negative\") \n",
    "\n",
    "else: \n",
    "  \n",
    "   print(\"number is positive\")"
   ]
  },
  {
   "cell_type": "markdown",
   "id": "b3001dbc-9cce-4226-a76c-b4d4ac54cd1d",
   "metadata": {},
   "source": [
    "### TODO Task 2 \n",
    "\n",
    "Write a program that takes the age of a person as input and classifies them \n",
    "into different age groups (child, teenager, adult, senior). "
   ]
  },
  {
   "attachments": {},
   "cell_type": "markdown",
   "id": "ac1ff52f-b0c9-43b1-80e6-47ab56bd7ebe",
   "metadata": {},
   "source": [
    "**Step 1: Completely and Correctly Understand the Real-world Scenario**\n",
    "\n",
    "\n",
    "* The task is to classify person into age group based on age \n",
    "\n",
    "\n",
    "**Step 2: Extract Client Requirements**\n",
    "\n",
    "\n",
    "* The client wants to find age group of person whose age is entered.\n",
    "\n",
    "\n",
    "**Step 3: Extract Input-Processing-Output**\n",
    "\n",
    "\n",
    "* Input\n",
    "\n",
    "\n",
    "    * Data:\n",
    "        * number of inputs: 1\n",
    "        * data type: int\n",
    "        \n",
    "    * Instruction:\n",
    "        * check input and display output accordingly\n",
    "\n",
    "\n",
    "* Processing\n",
    "    * if-elif-else statement \n",
    "    * print() function\n",
    "    * input() function\n",
    "\n",
    "\n",
    "* Output\n",
    "    * number of outputs: 1\n",
    "    * possible number of outputs: 4\n",
    "    * data type: string\n",
    "\n",
    "\n",
    "\n",
    "**Step 4: Write down Pseudocode**\n",
    "\n",
    "\n",
    "1. Start\n",
    "2. Get input from user and store it in 'age'\n",
    "3. if age >= 60\n",
    "4.   Print \"Senior\"  \n",
    "5. else if age >= 20\n",
    "6.   Print \"Adult\"  \n",
    "7. else if age >= 13 \n",
    "8.  Print \"Teenager\" \n",
    "9. else: \n",
    "10.  Print \"Child\" \n",
    "11.  End\n",
    "\n",
    "**Step 5: Draw Flowchart (if needed)**\n",
    "\n",
    "\n",
    "\n",
    "**Step 6: Select Most Suitable Programming Language, IDE, and Machine**\n",
    "\n",
    "\n",
    "* Programming language: Python\n",
    "* IDE: Jupyter Notebook\n",
    "* Machine: Any standard machine with Python and Jupyter Notebook installed can be used\n",
    "\n",
    "\n",
    "**Step 7: Write down Developer and System Information**\n",
    "\n",
    "\n",
    "* Developer: Maryam Naveed\n",
    "* System:\n",
    "    * 64-bit operating system\n",
    "    * Windows 10 Home, 22H2\n",
    "\n",
    "\n",
    "**Step 8: Transform Pseudocode (or Flowchart) into Code with Proper Comments**\n",
    "\n",
    "#getting input from user and converting string to int \n",
    "\n",
    "age = int(input('Enter marks: '))\n",
    "\n",
    "\n",
    "\n",
    "if age >= 60:\n",
    "\n",
    "   print(\"Senior\")  \n",
    "\n",
    "elif age >= 20: \n",
    "\n",
    "   print(\"Adult\") \n",
    "   \n",
    "elif age >= 13: \n",
    "\n",
    "  print(\" Teenager\") \n",
    "\n",
    "else: \n",
    "  \n",
    "   print(\"Child\")\n",
    "\n",
    "**Step 9: Test Your Code**"
   ]
  },
  {
   "cell_type": "code",
   "execution_count": 121,
   "id": "1c0e7395-4ebe-4112-adb5-38a509fadc41",
   "metadata": {},
   "outputs": [
    {
     "name": "stdin",
     "output_type": "stream",
     "text": [
      "Enter marks:  67\n"
     ]
    },
    {
     "name": "stdout",
     "output_type": "stream",
     "text": [
      "Senior\n"
     ]
    }
   ],
   "source": [
    "age = int(input('Enter marks: '))\n",
    "\n",
    "\n",
    "\n",
    "if age >= 60:\n",
    "\n",
    "   print(\"Senior\")  \n",
    "\n",
    "elif age >= 20: \n",
    "\n",
    "   print(\"Adult\") \n",
    "   \n",
    "elif age >= 13: \n",
    "\n",
    "  print(\" Teenager\") \n",
    "\n",
    "else: \n",
    "  \n",
    "   print(\"Child\")"
   ]
  },
  {
   "cell_type": "markdown",
   "id": "b98b1d19-f2d7-4f09-aafa-e6de080b8d4b",
   "metadata": {},
   "source": [
    "## <center>Nested if Statement \n",
    "\n",
    "### Example 1"
   ]
  },
  {
   "cell_type": "code",
   "execution_count": 122,
   "id": "8af3bf33-d870-446b-8601-21976f599737",
   "metadata": {},
   "outputs": [
    {
     "name": "stdout",
     "output_type": "stream",
     "text": [
      "Both x and y are positive\n"
     ]
    }
   ],
   "source": [
    "x = 5 \n",
    "y = 10 \n",
    " \n",
    "if x > 0: \n",
    "    if y > 0: \n",
    "        print(\"Both x and y are positive\") \n",
    "    else: \n",
    "        print(\"x is positive, but y is not\") \n",
    "else: \n",
    "    print(\"x is not positive\") "
   ]
  },
  {
   "cell_type": "markdown",
   "id": "5307c77e-49e4-4ec7-98b5-83dd8ad7bce1",
   "metadata": {},
   "source": [
    "## <center> Conditional Statement\n",
    "\n",
    "### Example 1"
   ]
  },
  {
   "cell_type": "code",
   "execution_count": 124,
   "id": "c46b4ab3-9b4c-4e98-9c91-063c69abb1c6",
   "metadata": {},
   "outputs": [
    {
     "name": "stdout",
     "output_type": "stream",
     "text": [
      "True\n",
      "fail\n"
     ]
    }
   ],
   "source": [
    "age = 40 \n",
    "is_adult = True if age >= 18 else False \n",
    "print(is_adult)\n",
    "\n",
    "grade = 65 \n",
    "result = \"pass\" if grade >= 70 else \"fail\" \n",
    "print(result) "
   ]
  },
  {
   "cell_type": "markdown",
   "id": "306e6e6a-63f4-4138-8752-175a0a696942",
   "metadata": {},
   "source": [
    "## <center>Logical Operators \n",
    "\n",
    "### Example 1(AND)\n",
    "\n",
    "Given three integer number: n1, n2, and n3. Find out the largest \n",
    "number"
   ]
  },
  {
   "cell_type": "code",
   "execution_count": 125,
   "id": "0ee8719e-7313-4dbb-ae7c-458b66b8a202",
   "metadata": {},
   "outputs": [
    {
     "name": "stdout",
     "output_type": "stream",
     "text": [
      "10 is largest number \n"
     ]
    }
   ],
   "source": [
    "n1 = 5 \n",
    "n2 = 10 \n",
    "n3  = 2\n",
    "\n",
    "if (n1 > n2) and (n1 > n3):   \n",
    "    print(n1, \"is largest number \") \n",
    "elif (n2 > n1) and (n2 > n3):   \n",
    "    print(n2, \"is largest number \") \n",
    "elif (n3 > n1) and (n3 > n2):   \n",
    "    print(n3, \"is largest number \") "
   ]
  },
  {
   "cell_type": "markdown",
   "id": "680feaaf-ee4d-44e2-852e-3e31762867a2",
   "metadata": {},
   "source": [
    "### TODO Task\n",
    "\n",
    "Write a program which takes five numbers as input from user and prints \n",
    "the largest number"
   ]
  },
  {
   "attachments": {},
   "cell_type": "markdown",
   "id": "06ccf7ed-3e60-4328-8740-07d7e39f7936",
   "metadata": {},
   "source": [
    "**Step 1: Completely and Correctly Understand the Real-world Scenario**\n",
    "\n",
    "\n",
    "* The task is to take five inputs from user and find out the largest \n",
    "\n",
    "\n",
    "**Step 2: Extract Client Requirements**\n",
    "\n",
    "\n",
    "* The client wants to find largest of five input numbers.\n",
    "\n",
    "\n",
    "**Step 3: Extract Input-Processing-Output**\n",
    "\n",
    "\n",
    "* Input\n",
    "\n",
    "\n",
    "    * Data:\n",
    "        * number of inputs: 5\n",
    "        * data type: float\n",
    "        \n",
    "    * Instruction:\n",
    "        * compare inputs and display largest as output\n",
    "\n",
    "\n",
    "* Processing\n",
    "    * logical operators(and, or, not) \n",
    "    * print() function\n",
    "    * input() function\n",
    "\n",
    "\n",
    "* Output\n",
    "    * number of outputs: 1\n",
    "    * possible number of outputs: 5\n",
    "    * data type: string\n",
    "\n",
    "\n",
    "\n",
    "**Step 4: Write down Pseudocode**\n",
    "\n",
    "\n",
    "1. Start\n",
    "2. Get inputs from user and store it in n1, n2, n3, n4, n5\n",
    "3. if (n1 > n2) and (n1 > n3) and (n1 > n4) and  (n1 > n5)\n",
    "4.   Print n1 is \"largest\"  \n",
    "5. else if (n2 > n1) and (n2 > n3) and (n2 > n4) and  (n2 > n5)\n",
    "6.   Print n2 is \"largest\"  \n",
    "7. else if (n3 > n1) and (n3 > n2) and (n3 > n4) and  (n3 > n5) \n",
    "8.  Print n3 is \"largest\" \n",
    "9. else if (n4 > n1) and (n4 > n3) and (n4 > n2) and  (n4 > n5)\n",
    "10.  Print n4 is \"largest\"\n",
    "11. else:\n",
    "12.  Print n5 is \"largest\"\n",
    "13.  End\n",
    "\n",
    "**Step 5: Draw Flowchart (if needed)**\n",
    "\n",
    "\n",
    "\n",
    "**Step 6: Select Most Suitable Programming Language, IDE, and Machine**\n",
    "\n",
    "\n",
    "* Programming language: Python\n",
    "* IDE: Jupyter Notebook\n",
    "* Machine: Any standard machine with Python and Jupyter Notebook installed can be used\n",
    "\n",
    "\n",
    "**Step 7: Write down Developer and System Information**\n",
    "\n",
    "\n",
    "* Developer: Maryam Naveed\n",
    "* System:\n",
    "    * 64-bit operating system\n",
    "    * Windows 10 Home, 22H2\n",
    "\n",
    "\n",
    "**Step 8: Transform Pseudocode (or Flowchart) into Code with Proper Comments**\n",
    "\n",
    "#getting inputs from user and converting string to float \n",
    "\n",
    "n1 = float(input('Enter first number: '))\n",
    "\n",
    "n2 = float(input('Enter second number: '))\n",
    "\n",
    "n3 = float(input('Enter third number: '))\n",
    "\n",
    "n4 = float(input('Enter fourth number: '))\n",
    "\n",
    "n5 = float(input('Enter fifth number: '))\n",
    "\n",
    "\n",
    "\n",
    "if (n1 > n2) and (n1 > n3) and (n1 > n4) and  (n1 > n5):\n",
    "\n",
    "   print (n1, \" is largest\") \n",
    "   \n",
    "elif (n2 > n1) and (n2 > n3) and (n2 > n4) and  (n2 > n5):\n",
    "\n",
    "   print (n2, \" is largest\")\n",
    "   \n",
    "elif (n3 > n1) and (n3 > n2) and (n3 > n4) and  (n3 > n5):\n",
    "\n",
    "   print (n3, \" is largest\")  \n",
    "\n",
    "elif (n4 > n1) and (n4 > n3) and (n4 > n2) and  (n4 > n5):\n",
    "\n",
    "   print (n4, \" is largest\") \n",
    "\n",
    "else:\n",
    "\n",
    "   print (n5, \" is largest\")\n",
    "   \n",
    "   \n",
    "**Step 9: Test Your Code**"
   ]
  },
  {
   "cell_type": "code",
   "execution_count": 129,
   "id": "4f02bd64-9eee-4ede-a05a-7ff92e6dd6b5",
   "metadata": {},
   "outputs": [
    {
     "name": "stdin",
     "output_type": "stream",
     "text": [
      "Enter first number:  32\n",
      "Enter second number:  34\n",
      "Enter third number:  12\n",
      "Enter fourth number:  78\n",
      "Enter fifth number:  56\n"
     ]
    },
    {
     "name": "stdout",
     "output_type": "stream",
     "text": [
      "78.0  is largest\n"
     ]
    }
   ],
   "source": [
    "n1 = float(input('Enter first number: '))\n",
    "\n",
    "n2 = float(input('Enter second number: '))\n",
    "\n",
    "n3 = float(input('Enter third number: '))\n",
    "\n",
    "n4 = float(input('Enter fourth number: '))\n",
    "\n",
    "n5 = float(input('Enter fifth number: '))\n",
    "\n",
    "\n",
    "\n",
    "if (n1 > n2) and (n1 > n3) and (n1 > n4) and  (n1 > n5):\n",
    "\n",
    "   print (n1, \" is largest\") \n",
    "   \n",
    "elif (n2 > n1) and (n2 > n3) and (n2 > n4) and  (n2 > n5):\n",
    "\n",
    "   print (n2, \" is largest\")\n",
    "   \n",
    "elif (n3 > n1) and (n3 > n2) and (n3 > n4) and  (n3 > n5):\n",
    "\n",
    "   print (n3, \" is largest\")  \n",
    "\n",
    "elif (n4 > n1) and (n4 > n3) and (n4 > n2) and  (n4 > n5):\n",
    "\n",
    "   print (n4, \" is largest\") \n",
    "\n",
    "else:\n",
    "\n",
    "   print (n5, \" is largest\")"
   ]
  },
  {
   "cell_type": "markdown",
   "id": "bf44c5f4-5468-4670-b9a6-1e615f18b5ff",
   "metadata": {},
   "source": [
    "### Example 2(OR)\n",
    "\n",
    "Write a program which takes a character as input and determines if \n",
    "it is a vowel or consonant"
   ]
  },
  {
   "cell_type": "code",
   "execution_count": 136,
   "id": "8c7a3bcc-b094-4d2b-942b-9a10c0a79162",
   "metadata": {},
   "outputs": [
    {
     "name": "stdin",
     "output_type": "stream",
     "text": [
      "Enter a character:  A\n"
     ]
    },
    {
     "name": "stdout",
     "output_type": "stream",
     "text": [
      "Vowel\n"
     ]
    }
   ],
   "source": [
    "letter = input('Enter a character: ')\n",
    "letter = letter.lower()\n",
    "\n",
    "if letter == 'a' or letter == 'e' or letter == 'i' or letter == 'o' or letter == 'u': \n",
    "    print('Vowel') \n",
    "else: \n",
    "    print('Consonant') "
   ]
  },
  {
   "cell_type": "markdown",
   "id": "856244e6-eae2-42f3-8e86-3770b746340c",
   "metadata": {},
   "source": [
    "### TODO Task  \n",
    "\n",
    "Write a program that takes the lengths of the three sides of a triangle and \n",
    "determines whether it is equilateral, isosceles, or scalene."
   ]
  },
  {
   "attachments": {},
   "cell_type": "markdown",
   "id": "d3e339af-4202-4dcc-aad7-b5c621c50535",
   "metadata": {},
   "source": [
    "**Step 1: Completely and Correctly Understand the Real-world Scenario**\n",
    "\n",
    "\n",
    "* The task is to determine type of triangle(equilateral, isosceles or scalene) based on input sides\n",
    "\n",
    "\n",
    "**Step 2: Extract Client Requirements**\n",
    "\n",
    "\n",
    "* The client wants to find type of triangle of which sides are entered\n",
    "\n",
    "\n",
    "**Step 3: Extract Input-Processing-Output**\n",
    "\n",
    "\n",
    "* Input\n",
    "\n",
    "\n",
    "    * Data:\n",
    "        * number of inputs: 3\n",
    "        * data type: float\n",
    "        \n",
    "    * Instruction:\n",
    "        * compare sides and display  type of triangle\n",
    "\n",
    "\n",
    "* Processing\n",
    "    * logical operators - and, or\n",
    "    * if-elif-else \n",
    "    * print() function\n",
    "    * input() function\n",
    "    * float() function\n",
    "\n",
    "\n",
    "* Output\n",
    "    * number of outputs: 1\n",
    "    * possible number of outputs: 3\n",
    "    * data type: string\n",
    "\n",
    "\n",
    "\n",
    "**Step 4: Write down Pseudocode**\n",
    "\n",
    "\n",
    "1. Start\n",
    "2. Get inputs from user and store in s1, s2, s3 \n",
    "3. if (s1 == s2) and (s1 == s3) \n",
    "4.   Print \"Equilateral\"  \n",
    "5. else if (s1 == s2) or (s1 == s3) or (s2 == s3) \n",
    "6.   Print \"isosceles\"  \n",
    "7. else:\n",
    "8.  Print \"scalene\"\n",
    "9.  End\n",
    "\n",
    "**Step 5: Draw Flowchart (if needed)**\n",
    "\n",
    "\n",
    "\n",
    "**Step 6: Select Most Suitable Programming Language, IDE, and Machine**\n",
    "\n",
    "\n",
    "* Programming language: Python\n",
    "* IDE: Jupyter Notebook\n",
    "* Machine: Any standard machine with Python and Jupyter Notebook installed can be used\n",
    "\n",
    "\n",
    "**Step 7: Write down Developer and System Information**\n",
    "\n",
    "\n",
    "* Developer: Maryam Naveed\n",
    "* System:\n",
    "    * 64-bit operating system\n",
    "    * Windows 10 Home, 22H2\n",
    "\n",
    "\n",
    "**Step 8: Transform Pseudocode (or Flowchart) into Code with Proper Comments**\n",
    "\n",
    "#getting side inputs from user and converting string to float \n",
    "\n",
    "s1 = float(input('Enter first side: '))\n",
    "\n",
    "s2 = float(input('Enter second side: '))\n",
    "\n",
    "s3 = float(input('Enter third side: '))\n",
    "\n",
    "\n",
    "if (s1 == s2) and (s1 == s3):\n",
    "\n",
    "   print (\"Equilateral\") \n",
    "   \n",
    "elif (s1 == s2) or (s1 == s3) or (s2 == s3):\n",
    "\n",
    "   print (\"isosceles\")\n",
    "\n",
    "else:\n",
    "\n",
    "   print (\"scalene\")\n",
    "   \n",
    "   \n",
    "**Step 9: Test Your Code**"
   ]
  },
  {
   "cell_type": "code",
   "execution_count": 140,
   "id": "8774a4a9-b86a-4fb3-99a0-4d82945b7a56",
   "metadata": {},
   "outputs": [
    {
     "name": "stdin",
     "output_type": "stream",
     "text": [
      "Enter first side:  3.4\n",
      "Enter second side:  2\n",
      "Enter third side:  1\n"
     ]
    },
    {
     "name": "stdout",
     "output_type": "stream",
     "text": [
      "scalene\n"
     ]
    }
   ],
   "source": [
    "s1 = float(input('Enter first side: '))\n",
    "\n",
    "s2 = float(input('Enter second side: '))\n",
    "\n",
    "s3 = float(input('Enter third side: '))\n",
    "\n",
    "\n",
    "if (s1 == s2) and (s1 == s3):\n",
    "\n",
    "   print (\"Equilateral\") \n",
    "   \n",
    "elif (s1 == s2) or (s1 == s3) or (s2 == s3):\n",
    "\n",
    "   print (\"isosceles\")\n",
    "\n",
    "else:\n",
    "\n",
    "   print (\"scalene\")"
   ]
  },
  {
   "cell_type": "markdown",
   "id": "ff7c5cfd-9d66-46ae-9572-13cf3278bd14",
   "metadata": {},
   "source": [
    "#### Example 3(NOT operator)"
   ]
  },
  {
   "cell_type": "code",
   "execution_count": 141,
   "id": "cf43f745-8f5f-4cfe-a964-e9652fef8715",
   "metadata": {},
   "outputs": [
    {
     "name": "stdout",
     "output_type": "stream",
     "text": [
      "Let's go for a walk!\n"
     ]
    }
   ],
   "source": [
    "is_raining = False \n",
    "\n",
    "if not is_raining:  \n",
    "    print(\"Let's go for a walk!\") \n",
    "else: \n",
    "    print(\"Stay indoors, it's raining!\") "
   ]
  },
  {
   "cell_type": "markdown",
   "id": "5b61332e-b4e7-49a3-a8dc-46dbe011aa4d",
   "metadata": {},
   "source": [
    "### TODO Task\n",
    "\n",
    "Write a program that takes a year as input and determines whether it is a \n",
    "leap year. "
   ]
  },
  {
   "attachments": {},
   "cell_type": "markdown",
   "id": "197b7e3e-4edf-4f39-bca3-c998b96ca4b6",
   "metadata": {},
   "source": [
    "**Step 1: Completely and Correctly Understand the Real-world Scenario**\n",
    "\n",
    "\n",
    "* The task is to input a year and determine if it is a leap year or not\n",
    "\n",
    "\n",
    "**Step 2: Extract Client Requirements**\n",
    "\n",
    "\n",
    "* The client wants to find if a year is leap or not\n",
    "\n",
    "\n",
    "**Step 3: Extract Input-Processing-Output**\n",
    "\n",
    "\n",
    "* Input\n",
    "\n",
    "\n",
    "    * Data:\n",
    "        * number of inputs: 1\n",
    "        * data type: int\n",
    "        \n",
    "    * Instruction:\n",
    "        * apply conditions of leap year(i.e. divisible by 400 and 4 and indivisible by 100) and state if it is leap or not\n",
    "\n",
    "\n",
    "* Processing\n",
    "    * logical operators - and, or\n",
    "    * if-else \n",
    "    * print() function\n",
    "    * input() function\n",
    "    * int() function\n",
    "\n",
    "\n",
    "* Output\n",
    "    * number of outputs: 1\n",
    "    * possible number of outputs: 2\n",
    "    * data type: string\n",
    "\n",
    "\n",
    "\n",
    "**Step 4: Write down Pseudocode**\n",
    "\n",
    "\n",
    "1. Start\n",
    "2. Get input from user and store in year \n",
    "3. if (year%400 == 0) or (year%4 == 0 and year%100 !=0)\n",
    "4.   Print \"leap year\"  \n",
    "5. else:\n",
    "6.  Print \"not a leap year\"\n",
    "7.  End\n",
    "\n",
    "**Step 5: Draw Flowchart (if needed)**\n",
    "\n",
    "\n",
    "\n",
    "**Step 6: Select Most Suitable Programming Language, IDE, and Machine**\n",
    "\n",
    "\n",
    "* Programming language: Python\n",
    "* IDE: Jupyter Notebook\n",
    "* Machine: Any standard machine with Python and Jupyter Notebook installed can be used\n",
    "\n",
    "\n",
    "**Step 7: Write down Developer and System Information**\n",
    "\n",
    "\n",
    "* Developer: Maryam Naveed\n",
    "* System:\n",
    "    * 64-bit operating system\n",
    "    * Windows 10 Home, 22H2\n",
    "\n",
    "\n",
    "**Step 8: Transform Pseudocode (or Flowchart) into Code with Proper Comments**\n",
    "\n",
    "#getting side inputs from user and converting string to float \n",
    "\n",
    "year = int(input('Enter year: '))\n",
    "\n",
    "\n",
    "if (year%400 == 0) or (year%4 == 0 and year%100 !=0):\n",
    "\n",
    "   print (\"leap year\") \n",
    "   \n",
    "\n",
    "else:\n",
    "\n",
    "   print (\"not a leap year\")\n",
    "   \n",
    "   \n",
    "**Step 9: Test Your Code**"
   ]
  },
  {
   "cell_type": "code",
   "execution_count": 145,
   "id": "48979b87-fde1-4e3a-9659-1f069cef6da1",
   "metadata": {},
   "outputs": [
    {
     "name": "stdin",
     "output_type": "stream",
     "text": [
      "Enter year:  3000\n"
     ]
    },
    {
     "name": "stdout",
     "output_type": "stream",
     "text": [
      "not a leap year\n"
     ]
    }
   ],
   "source": [
    "year = int(input('Enter year: '))\n",
    "\n",
    "if (year%400 == 0) or (year%4 == 0 and year%100 !=0):\n",
    "\n",
    "    print (\"leap year\")\n",
    "\n",
    "else:\n",
    "\n",
    "    print (\"not a leap year\")"
   ]
  },
  {
   "cell_type": "markdown",
   "id": "d014851d-967b-46c1-bea5-501aa58eb9b7",
   "metadata": {},
   "source": [
    "## <center>Repitition structures\n",
    "\n",
    "### <center>While loop\n",
    "\n",
    "### Example 1\n",
    "\n",
    " Print the following Pattern on Output Screen \n",
    " \n",
    "1\n",
    "\n",
    "2 \n",
    "\n",
    "3 \n",
    "\n",
    "4 \n",
    "\n",
    "5"
   ]
  },
  {
   "attachments": {
    "ac6728e1-0e19-45cd-b6fa-646c6151570a.png": {
     "image/png": "[encoded data removed]"
    }
   },
   "cell_type": "markdown",
   "id": "14b6a421-46d4-4d4b-82c5-e45a8a489d05",
   "metadata": {},
   "source": [
    "**Step 1: Completely and Correctly Understand the Real-world Scenario**\n",
    "\n",
    "\n",
    "* The task is to print given pattern on screen\n",
    "\n",
    "\n",
    "**Step 2: Extract Client Requirements**\n",
    "\n",
    "\n",
    "* The client wants to the pattern to be displayed\n",
    "\n",
    "\n",
    "**Step 3: Extract Input-Processing-Output**\n",
    "\n",
    "\n",
    "* Input\n",
    "\n",
    "\n",
    "    * Data: \n",
    "    * Instruction:\n",
    "        * use while loop to iterate over numbers from 1 to 5 and display each on screen\n",
    "\n",
    "\n",
    "* Processing\n",
    "    * while loop \n",
    "    * print() function\n",
    "    * arithmetic operator(+)\n",
    "    * relational operator(<=)\n",
    "  \n",
    "* Output\n",
    "    * number of outputs: 5 \n",
    "    * data type: int\n",
    "\n",
    "\n",
    "\n",
    "**Step 4: Write down Pseudocode**\n",
    "\n",
    "\n",
    "1. Start\n",
    "2. set counter = 1 \n",
    "3. while (counter <= 5)\n",
    "4.   Print counter\n",
    "5.   counter = counter + 1  \n",
    "6. END while\n",
    "7. End\n",
    "\n",
    "**Step 5: Draw Flowchart (if needed)**\n",
    "\n",
    "![flow3.png](attachment:ac6728e1-0e19-45cd-b6fa-646c6151570a.png)\n",
    "\n",
    "**Step 6: Select Most Suitable Programming Language, IDE, and Machine**\n",
    "\n",
    "\n",
    "* Programming language: Python\n",
    "* IDE: Jupyter Notebook\n",
    "* Machine: Any standard machine with Python and Jupyter Notebook installed can be used\n",
    "\n",
    "\n",
    "**Step 7: Write down Developer and System Information**\n",
    "\n",
    "\n",
    "* Developer: Maryam Naveed\n",
    "* System:\n",
    "    * 64-bit operating system\n",
    "    * Windows 10 Home, 22H2\n",
    "\n",
    "\n",
    "**Step 8: Transform Pseudocode (or Flowchart) into Code with Proper Comments**\n",
    "\n",
    "#initialising loop control variable \n",
    "\n",
    "counter = 1\n",
    "\n",
    "while counter <= 5:\n",
    "\n",
    "   print (counter) \n",
    "   counter = counter+1\n",
    "\n",
    "\n",
    "**Step 9: Test Your Code**"
   ]
  },
  {
   "cell_type": "code",
   "execution_count": 146,
   "id": "312ff4f8-1f3b-4fa5-b1f8-7b251834ecd8",
   "metadata": {},
   "outputs": [
    {
     "name": "stdout",
     "output_type": "stream",
     "text": [
      "1\n",
      "2\n",
      "3\n",
      "4\n",
      "5\n"
     ]
    }
   ],
   "source": [
    "counter = 1\n",
    "\n",
    "while counter <= 5:\n",
    "\n",
    "   print (counter) \n",
    "   counter = counter+1"
   ]
  },
  {
   "cell_type": "markdown",
   "id": "0d31ee94-f7ea-4296-b148-2528776914c1",
   "metadata": {},
   "source": [
    "### Example 2\n",
    "\n",
    " Print the first five odd numbers on the Output Screen \n",
    "\n",
    "1 \n",
    "\n",
    "3 \n",
    "\n",
    "5 \n",
    "\n",
    "7 \n",
    "\n",
    "9"
   ]
  },
  {
   "cell_type": "code",
   "execution_count": 148,
   "id": "f492d3eb-7700-4abe-89ec-6f8836935964",
   "metadata": {},
   "outputs": [
    {
     "name": "stdout",
     "output_type": "stream",
     "text": [
      "1\n",
      "3\n",
      "5\n",
      "7\n",
      "9\n"
     ]
    }
   ],
   "source": [
    "counter = 1 \n",
    "while counter <= 9: \n",
    "    print(counter) \n",
    "    counter = counter + 2 "
   ]
  },
  {
   "cell_type": "markdown",
   "id": "1bc8a185-361f-4bd9-970b-0f6f880d17a0",
   "metadata": {},
   "source": [
    "### Example 3"
   ]
  },
  {
   "cell_type": "code",
   "execution_count": 150,
   "id": "01b57a0c-2869-45c1-af86-253e01ba3a55",
   "metadata": {},
   "outputs": [
    {
     "name": "stdout",
     "output_type": "stream",
     "text": [
      "Allah\n",
      "Allah\n",
      "Allah\n",
      "Allah\n",
      "Allah\n"
     ]
    }
   ],
   "source": [
    "counter = 1 \n",
    "while counter <= 5: \n",
    "    print('Allah') \n",
    "    counter = counter + 1"
   ]
  },
  {
   "cell_type": "markdown",
   "id": "dcdab447-6120-4488-9e0a-2f25a842fd6f",
   "metadata": {},
   "source": [
    "### Example 4"
   ]
  },
  {
   "cell_type": "code",
   "execution_count": 151,
   "id": "26e2a144-6136-4fcd-b45e-40dfee6eb50b",
   "metadata": {},
   "outputs": [
    {
     "name": "stdout",
     "output_type": "stream",
     "text": [
      "Allah\n",
      "Allah\n",
      "Allah\n"
     ]
    }
   ],
   "source": [
    "counter = 1 \n",
    "while counter <= 5: \n",
    "    print('Allah') \n",
    "    counter = counter + 2"
   ]
  },
  {
   "cell_type": "markdown",
   "id": "32d4a326-95e1-41b8-9a42-2706a84e710c",
   "metadata": {},
   "source": [
    "### Example 5\n",
    "\n",
    "Write a program to print table of 2. \n",
    "\n",
    "2 * 1 = 2 \n",
    "\n",
    "2 * 2 = 4 \n",
    "\n",
    "2 * 3 = 6 \n",
    "\n",
    "2 * 4 = 8 \n",
    "\n",
    "2 * 5 = 10 \n",
    "\n",
    "2 * 6 = 12 \n",
    "\n",
    "2 * 7 = 14 \n",
    "\n",
    "2 * 8 = 16 \n",
    "\n",
    "2 * 9 = 18 \n",
    "\n",
    "2 * 10 = 20"
   ]
  },
  {
   "attachments": {},
   "cell_type": "markdown",
   "id": "033dfa55-9a44-427c-a610-020fff30282a",
   "metadata": {},
   "source": [
    "**Step 1: Completely and Correctly Understand the Real-world Scenario**\n",
    "\n",
    "\n",
    "* The task is to print table of 2 \n",
    "\n",
    "\n",
    "**Step 2: Extract Client Requirements**\n",
    "\n",
    "\n",
    "* The client wants to display table of 2 on screen\n",
    "\n",
    "\n",
    "**Step 3: Extract Input-Processing-Output**\n",
    "\n",
    "\n",
    "* Input\n",
    "\n",
    "\n",
    "    * Data: \n",
    "    * Instruction:\n",
    "        * use while loop to iterate over table of 2 and display it\n",
    "\n",
    "\n",
    "* Processing\n",
    "    * while loop\n",
    "    * arithmetic operators(+, *) \n",
    "    * print() function \n",
    "\n",
    "* Output\n",
    "    * number of outputs: 10 \n",
    "    * data type: int\n",
    "\n",
    "\n",
    "\n",
    "**Step 4: Write down Pseudocode**\n",
    "\n",
    "\n",
    "1. Start\n",
    "2. set counter = 1\n",
    "3. while (counter <= 10)\n",
    "4.   Print \"2*\" counter \"=\" 2*counter\n",
    "5.   counter = counter + 1\n",
    "6. END while\n",
    "7. End\n",
    "\n",
    "**Step 5: Draw Flowchart (if needed)**\n",
    "\n",
    "\n",
    "\n",
    "**Step 6: Select Most Suitable Programming Language, IDE, and Machine**\n",
    "\n",
    "\n",
    "* Programming language: Python\n",
    "* IDE: Jupyter Notebook\n",
    "* Machine: Any standard machine with Python and Jupyter Notebook installed can be used\n",
    "\n",
    "\n",
    "**Step 7: Write down Developer and System Information**\n",
    "\n",
    "\n",
    "* Developer: Maryam Naveed\n",
    "* System:\n",
    "    * 64-bit operating system\n",
    "    * Windows 10 Home, 22H2\n",
    "\n",
    "\n",
    "**Step 8: Transform Pseudocode (or Flowchart) into Code with Proper Comments**\n",
    "\n",
    "#initialising loop control variable \n",
    "\n",
    "counter = 1\n",
    "\n",
    "while counter <= 10:\n",
    "\n",
    "   print ('2 * ', counter, ' = ', 2*counter) \n",
    "   counter = counter+1\n",
    "   \n",
    "   \n",
    "**Step 9: Test Your Code**"
   ]
  },
  {
   "cell_type": "code",
   "execution_count": 153,
   "id": "5ec8c538-3512-4953-8a28-17651a52080f",
   "metadata": {},
   "outputs": [
    {
     "name": "stdout",
     "output_type": "stream",
     "text": [
      "2 *  1  =  2\n",
      "2 *  2  =  4\n",
      "2 *  3  =  6\n",
      "2 *  4  =  8\n",
      "2 *  5  =  10\n",
      "2 *  6  =  12\n",
      "2 *  7  =  14\n",
      "2 *  8  =  16\n",
      "2 *  9  =  18\n",
      "2 *  10  =  20\n"
     ]
    }
   ],
   "source": [
    "counter = 1\n",
    "\n",
    "while counter <= 10:\n",
    "\n",
    "   print ('2 * ', counter, ' = ', 2*counter) \n",
    "   counter = counter+1"
   ]
  },
  {
   "cell_type": "markdown",
   "id": "4e7521d0-b373-42de-9497-52a6fd57c959",
   "metadata": {},
   "source": [
    "### Example 6"
   ]
  },
  {
   "cell_type": "code",
   "execution_count": 154,
   "id": "3a5d2ffa-5170-44e4-bb5d-e1c69969cfba",
   "metadata": {},
   "outputs": [
    {
     "name": "stdout",
     "output_type": "stream",
     "text": [
      "4 * 5 = 20\n",
      "4 * 6 = 24\n",
      "4 * 7 = 28\n",
      "4 * 8 = 32\n",
      "4 * 9 = 36\n",
      "4 * 10 = 40\n"
     ]
    }
   ],
   "source": [
    "num = 5 \n",
    "while num <= 10: \n",
    "    print(f'4 * {num} = {4 * num}') \n",
    "    num += 1 "
   ]
  },
  {
   "cell_type": "markdown",
   "id": "dacfca37-1314-4ea7-a408-d14f74517a5a",
   "metadata": {},
   "source": [
    "### TODO Task 1 \n",
    "\n",
    "Write a program which prints the first fifty even numbers on the output \n",
    "screen."
   ]
  },
  {
   "attachments": {},
   "cell_type": "markdown",
   "id": "b5bf3b52-4ff1-4308-8590-97ef1250ca76",
   "metadata": {},
   "source": [
    "**Step 1: Completely and Correctly Understand the Real-world Scenario**\n",
    "\n",
    "\n",
    "* The task is to print first fifty even numbers\n",
    "\n",
    "\n",
    "**Step 2: Extract Client Requirements**\n",
    "\n",
    "\n",
    "* The client wants first fifty even numbers to be displayed \n",
    "\n",
    "\n",
    "**Step 3: Extract Input-Processing-Output**\n",
    "\n",
    "\n",
    "* Input\n",
    "\n",
    "\n",
    "    * Data: \n",
    "    * Instruction:\n",
    "        * use while loop to iterate over first fifty even numbers and display them\n",
    "\n",
    "\n",
    "* Processing\n",
    "    * while loop\n",
    "    * arithmetic operators(+, %) \n",
    "    * print() function \n",
    "\n",
    "* Output\n",
    "    * number of outputs: 50 \n",
    "    * data type: int\n",
    "\n",
    "\n",
    "\n",
    "**Step 4: Write down Pseudocode**\n",
    "\n",
    "\n",
    "1. Start\n",
    "2. set counter = 2\n",
    "3. while (counter <= 100)\n",
    "4.   Print counter\n",
    "5.   counter = counter + 2\n",
    "6. END while\n",
    "7. End\n",
    "\n",
    "**Step 5: Draw Flowchart (if needed)**\n",
    "\n",
    "\n",
    "\n",
    "**Step 6: Select Most Suitable Programming Language, IDE, and Machine**\n",
    "\n",
    "\n",
    "* Programming language: Python\n",
    "* IDE: Jupyter Notebook\n",
    "* Machine: Any standard machine with Python and Jupyter Notebook installed can be used\n",
    "\n",
    "\n",
    "**Step 7: Write down Developer and System Information**\n",
    "\n",
    "\n",
    "* Developer: Maryam Naveed\n",
    "* System:\n",
    "    * 64-bit operating system\n",
    "    * Windows 10 Home, 22H2\n",
    "\n",
    "\n",
    "**Step 8: Transform Pseudocode (or Flowchart) into Code with Proper Comments**\n",
    "\n",
    "#initialising loop control variable \n",
    "\n",
    "counter = 2\n",
    "\n",
    "while counter <= 100:\n",
    "\n",
    "   print (counter) \n",
    "   counter = counter+2\n",
    "   \n",
    "   \n",
    "**Step 9: Test Your Code**"
   ]
  },
  {
   "cell_type": "code",
   "execution_count": 155,
   "id": "81804157-ef3d-4f6f-bd13-3045a664c3d6",
   "metadata": {},
   "outputs": [
    {
     "name": "stdout",
     "output_type": "stream",
     "text": [
      "2\n",
      "4\n",
      "6\n",
      "8\n",
      "10\n",
      "12\n",
      "14\n",
      "16\n",
      "18\n",
      "20\n",
      "22\n",
      "24\n",
      "26\n",
      "28\n",
      "30\n",
      "32\n",
      "34\n",
      "36\n",
      "38\n",
      "40\n",
      "42\n",
      "44\n",
      "46\n",
      "48\n",
      "50\n",
      "52\n",
      "54\n",
      "56\n",
      "58\n",
      "60\n",
      "62\n",
      "64\n",
      "66\n",
      "68\n",
      "70\n",
      "72\n",
      "74\n",
      "76\n",
      "78\n",
      "80\n",
      "82\n",
      "84\n",
      "86\n",
      "88\n",
      "90\n",
      "92\n",
      "94\n",
      "96\n",
      "98\n",
      "100\n"
     ]
    }
   ],
   "source": [
    "counter = 2\n",
    "\n",
    "while counter <= 100:\n",
    "\n",
    "   print (counter) \n",
    "   counter = counter+2"
   ]
  },
  {
   "cell_type": "markdown",
   "id": "712130f2-9aa0-466d-a973-1d0f187db55a",
   "metadata": {},
   "source": [
    "### TODO Task 2 \n",
    "\n",
    "Write a program which takes a number as input from user and prints its \n",
    "table on the output screen"
   ]
  },
  {
   "attachments": {},
   "cell_type": "markdown",
   "id": "2506a831-e472-488b-876a-725557bb4e0c",
   "metadata": {},
   "source": [
    "**Step 1: Completely and Correctly Understand the Real-world Scenario**\n",
    "\n",
    "\n",
    "* The task is to input number from user and print its table\n",
    "\n",
    "\n",
    "**Step 2: Extract Client Requirements**\n",
    "\n",
    "\n",
    "* The client wants a user input's table to be displayed \n",
    "\n",
    "\n",
    "**Step 3: Extract Input-Processing-Output**\n",
    "\n",
    "\n",
    "* Input\n",
    "\n",
    "\n",
    "    * Data:\n",
    "        * number of inputs: 1\n",
    "        * data type: int \n",
    "    * Instruction:\n",
    "        * take int input from user and use while loop to iterate over and display its table\n",
    "\n",
    "\n",
    "* Processing\n",
    "    * while loop\n",
    "    * arithmetic operators(+, *) \n",
    "    * print() function \n",
    "\n",
    "* Output\n",
    "    * number of outputs: 10 \n",
    "    * data type: int\n",
    "\n",
    "\n",
    "\n",
    "**Step 4: Write down Pseudocode**\n",
    "\n",
    "\n",
    "1. Start\n",
    "2. set counter = 1\n",
    "3. input num \n",
    "4. while (counter <= 10)\n",
    "5.   Print num \" * \" counter \"=\" num*counter\n",
    "6.   counter = counter + 1\n",
    "7. END while\n",
    "8. End\n",
    "\n",
    "**Step 5: Draw Flowchart (if needed)**\n",
    "\n",
    "\n",
    "\n",
    "**Step 6: Select Most Suitable Programming Language, IDE, and Machine**\n",
    "\n",
    "\n",
    "* Programming language: Python\n",
    "* IDE: Jupyter Notebook\n",
    "* Machine: Any standard machine with Python and Jupyter Notebook installed can be used\n",
    "\n",
    "\n",
    "**Step 7: Write down Developer and System Information**\n",
    "\n",
    "\n",
    "* Developer: Maryam Naveed\n",
    "* System:\n",
    "    * 64-bit operating system\n",
    "    * Windows 10 Home, 22H2\n",
    "\n",
    "\n",
    "**Step 8: Transform Pseudocode (or Flowchart) into Code with Proper Comments**\n",
    "\n",
    "#initialising loop control variable \n",
    "\n",
    "counter = 1\n",
    "\n",
    "#input num from user\n",
    "\n",
    "num = int(input('Enter number: '))\n",
    "\n",
    "while counter <= 10:\n",
    "\n",
    "   print (num, \" * \", counter, \"=\", num*counter) \n",
    "   counter = counter+1\n",
    "   \n",
    "   \n",
    "**Step 9: Test Your Code**"
   ]
  },
  {
   "cell_type": "code",
   "execution_count": 156,
   "id": "c01a5044-04cc-4474-b44a-43596190ab3b",
   "metadata": {},
   "outputs": [
    {
     "name": "stdin",
     "output_type": "stream",
     "text": [
      "Enter number:  5\n"
     ]
    },
    {
     "name": "stdout",
     "output_type": "stream",
     "text": [
      "5  *  1 = 5\n",
      "5  *  2 = 10\n",
      "5  *  3 = 15\n",
      "5  *  4 = 20\n",
      "5  *  5 = 25\n",
      "5  *  6 = 30\n",
      "5  *  7 = 35\n",
      "5  *  8 = 40\n",
      "5  *  9 = 45\n",
      "5  *  10 = 50\n"
     ]
    }
   ],
   "source": [
    "counter = 1\n",
    "num = int(input('Enter number: '))\n",
    "\n",
    "while counter <= 10:\n",
    "\n",
    "   print (num, \" * \", counter, \"=\", num*counter) \n",
    "   counter = counter+1"
   ]
  },
  {
   "cell_type": "markdown",
   "id": "34c067f3-fcdd-4f65-ba82-5a6d8685a40e",
   "metadata": {},
   "source": [
    "### TODO Task 3\n",
    "\n",
    "Write a program which takes a number, lower bound, and upper bound as \n",
    "input from user, and prints its table on the output screen according to \n",
    "lower bound and upper bound."
   ]
  },
  {
   "attachments": {},
   "cell_type": "markdown",
   "id": "9bf4d86c-b208-42e0-9093-27d514c59b0d",
   "metadata": {},
   "source": [
    "**Step 1: Completely and Correctly Understand the Real-world Scenario**\n",
    "\n",
    "\n",
    "* The task is to input number, lower bound and upper bound from user and print its table within bounds\n",
    "\n",
    "\n",
    "**Step 2: Extract Client Requirements**\n",
    "\n",
    "\n",
    "* The client wants a user input's table to be displayed within given bounds \n",
    "\n",
    "\n",
    "**Step 3: Extract Input-Processing-Output**\n",
    "\n",
    "\n",
    "* Input\n",
    "\n",
    "\n",
    "    * Data:\n",
    "        * number of inputs: 3\n",
    "        * data type: int \n",
    "    * Instruction:\n",
    "        * take 3 int inputs from user of number, lower and upper bounds, and use while loop to iterate over and display its table within given bounds\n",
    "\n",
    "\n",
    "* Processing\n",
    "    * while loop\n",
    "    * arithmetic operators(+, *) \n",
    "    * print() function \n",
    "\n",
    "* Output\n",
    "    * number of outputs: variable (depends on bounds) \n",
    "    * data type: int\n",
    "\n",
    "\n",
    "\n",
    "**Step 4: Write down Pseudocode**\n",
    "\n",
    "\n",
    "1. Start\n",
    "2. input num, lb and ub \n",
    "3. set counter = lb\n",
    "4. while (counter <= ub)\n",
    "5.   Print num \" * \" counter \"=\" num*counter\n",
    "6.   counter = counter + 1\n",
    "7. END while\n",
    "8. End\n",
    "\n",
    "**Step 5: Draw Flowchart (if needed)**\n",
    "\n",
    "\n",
    "\n",
    "**Step 6: Select Most Suitable Programming Language, IDE, and Machine**\n",
    "\n",
    "\n",
    "* Programming language: Python\n",
    "* IDE: Jupyter Notebook\n",
    "* Machine: Any standard machine with Python and Jupyter Notebook installed can be used\n",
    "\n",
    "\n",
    "**Step 7: Write down Developer and System Information**\n",
    "\n",
    "\n",
    "* Developer: Maryam Naveed\n",
    "* System:\n",
    "    * 64-bit operating system\n",
    "    * Windows 10 Home, 22H2\n",
    "\n",
    "\n",
    "**Step 8: Transform Pseudocode (or Flowchart) into Code with Proper Comments**\n",
    "\n",
    "#input num, lb and ub from user\n",
    "\n",
    "num = int(input('Enter number: '))\n",
    "\n",
    "lb = int(input('Enter lower bound(start point of table): ')) \n",
    "\n",
    "ub = int(input('Enter upper bound(end point of table): '))\n",
    "\n",
    "#initialising loop control variable \n",
    "\n",
    "counter = lb\n",
    "\n",
    "\n",
    "\n",
    "while counter <= ub:\n",
    "\n",
    "   print (num, \" * \", counter, \"=\", num*counter) \n",
    "   counter = counter+1\n",
    "   \n",
    "   \n",
    "**Step 9: Test Your Code**"
   ]
  },
  {
   "cell_type": "code",
   "execution_count": 157,
   "id": "8c5ef39d-b4f5-46a2-b286-1e51a9028b70",
   "metadata": {},
   "outputs": [
    {
     "name": "stdin",
     "output_type": "stream",
     "text": [
      "Enter number:  3\n",
      "Enter lower bound(start point of table):  4\n",
      "Enter upper bound(end point of table):  12\n"
     ]
    },
    {
     "name": "stdout",
     "output_type": "stream",
     "text": [
      "3  *  4 = 12\n",
      "3  *  5 = 15\n",
      "3  *  6 = 18\n",
      "3  *  7 = 21\n",
      "3  *  8 = 24\n",
      "3  *  9 = 27\n",
      "3  *  10 = 30\n",
      "3  *  11 = 33\n",
      "3  *  12 = 36\n"
     ]
    }
   ],
   "source": [
    "#input num, lb and ub from user\n",
    "\n",
    "num = int(input('Enter number: '))\n",
    "\n",
    "lb = int(input('Enter lower bound(start point of table): ')) \n",
    "\n",
    "ub = int(input('Enter upper bound(end point of table): '))\n",
    "\n",
    "#initialising loop control variable \n",
    "\n",
    "counter = lb\n",
    "\n",
    "\n",
    "\n",
    "while counter <= ub:\n",
    "\n",
    "   print (num, \" * \", counter, \"=\", num*counter) \n",
    "   counter = counter+1"
   ]
  },
  {
   "cell_type": "markdown",
   "id": "20d82763-f90f-4069-a581-1dbba06e7b49",
   "metadata": {},
   "source": [
    "### TODO Task 4\n",
    "\n",
    "Make at least two programs: User Driven Programs, that you have \n",
    "previously done in Selection Structures.\n",
    "\n",
    "1. even/odd\n",
    "2. vowel/consonant"
   ]
  },
  {
   "cell_type": "code",
   "execution_count": 158,
   "id": "27ed27e0-9cd3-4ead-b9ab-106f20e9d202",
   "metadata": {},
   "outputs": [
    {
     "name": "stdin",
     "output_type": "stream",
     "text": [
      "Enter a number:  3\n"
     ]
    },
    {
     "name": "stdout",
     "output_type": "stream",
     "text": [
      "odd\n"
     ]
    },
    {
     "name": "stdin",
     "output_type": "stream",
     "text": [
      "would you like to check another number? (yes/no) yes\n",
      "Enter a number:  4\n"
     ]
    },
    {
     "name": "stdout",
     "output_type": "stream",
     "text": [
      "even\n"
     ]
    },
    {
     "name": "stdin",
     "output_type": "stream",
     "text": [
      "would you like to check another number? (yes/no) no\n"
     ]
    }
   ],
   "source": [
    "choice = 'yes'\n",
    "while choice.lower() == 'yes':\n",
    "    num = int (input('Enter a number: '))\n",
    "    if num % 2 == 0:\n",
    "        print('even')\n",
    "    else: \n",
    "        print('odd')\n",
    "    choice = input('would you like to check another number? (yes/no)')\n"
   ]
  },
  {
   "cell_type": "code",
   "execution_count": 159,
   "id": "08b1f7c1-c97a-419f-a1e6-0cccb14d440b",
   "metadata": {},
   "outputs": [
    {
     "name": "stdin",
     "output_type": "stream",
     "text": [
      "Enter a letter:  p\n"
     ]
    },
    {
     "name": "stdout",
     "output_type": "stream",
     "text": [
      "consonant\n"
     ]
    },
    {
     "name": "stdin",
     "output_type": "stream",
     "text": [
      "would you like to check another letter? (yes/no) yes\n",
      "Enter a letter:  E\n"
     ]
    },
    {
     "name": "stdout",
     "output_type": "stream",
     "text": [
      "vowel\n"
     ]
    },
    {
     "name": "stdin",
     "output_type": "stream",
     "text": [
      "would you like to check another letter? (yes/no) no\n"
     ]
    }
   ],
   "source": [
    "choice = 'yes'\n",
    "while choice.lower() == 'yes':\n",
    "    letter = input('Enter a letter: ') \n",
    "    letter = letter.lower()\n",
    "    if letter == 'a' or letter == 'e' or letter == 'i' or letter == 'o' or letter == 'u' :\n",
    "        print('vowel')\n",
    "    else: \n",
    "        print('consonant')\n",
    "    choice = input('would you like to check another letter? (yes/no)')"
   ]
  },
  {
   "cell_type": "markdown",
   "id": "f2e1b1d0-22b4-47f9-b9b0-773015a9f2c3",
   "metadata": {},
   "source": [
    "## <center>for Loop\n",
    "\n",
    "### TODO Task 1 \n",
    "\n",
    "Write a program which prints the first fifty even numbers on the output \n",
    "screen. "
   ]
  },
  {
   "cell_type": "code",
   "execution_count": 162,
   "id": "839f6462-af50-4c9d-8a74-3a85881af794",
   "metadata": {},
   "outputs": [
    {
     "name": "stdout",
     "output_type": "stream",
     "text": [
      "2\n",
      "4\n",
      "6\n",
      "8\n",
      "10\n",
      "12\n",
      "14\n",
      "16\n",
      "18\n",
      "20\n",
      "22\n",
      "24\n",
      "26\n",
      "28\n",
      "30\n",
      "32\n",
      "34\n",
      "36\n",
      "38\n",
      "40\n",
      "42\n",
      "44\n",
      "46\n",
      "48\n",
      "50\n",
      "52\n",
      "54\n",
      "56\n",
      "58\n",
      "60\n",
      "62\n",
      "64\n",
      "66\n",
      "68\n",
      "70\n",
      "72\n",
      "74\n",
      "76\n",
      "78\n",
      "80\n",
      "82\n",
      "84\n",
      "86\n",
      "88\n",
      "90\n",
      "92\n",
      "94\n",
      "96\n",
      "98\n",
      "100\n"
     ]
    }
   ],
   "source": [
    "for num in range (2, 101, 2):\n",
    "    print(num)\n"
   ]
  },
  {
   "cell_type": "markdown",
   "id": "ce9e53d6-db54-4a41-b692-d96ad3936afb",
   "metadata": {},
   "source": [
    "### TODO Task 2 \n",
    "\n",
    "Write a program which takes a number as input from user and prints its \n",
    "table on the output screen "
   ]
  },
  {
   "cell_type": "code",
   "execution_count": 163,
   "id": "752e9a63-8d54-4e73-9668-b6c7596cd4ae",
   "metadata": {},
   "outputs": [
    {
     "name": "stdin",
     "output_type": "stream",
     "text": [
      "Enter a number:  3\n"
     ]
    },
    {
     "name": "stdout",
     "output_type": "stream",
     "text": [
      "3  *  1  =  3\n",
      "3  *  2  =  6\n",
      "3  *  3  =  9\n",
      "3  *  4  =  12\n",
      "3  *  5  =  15\n",
      "3  *  6  =  18\n",
      "3  *  7  =  21\n",
      "3  *  8  =  24\n",
      "3  *  9  =  27\n",
      "3  *  10  =  30\n"
     ]
    }
   ],
   "source": [
    "num = int(input('Enter a number: '))\n",
    "\n",
    "for x in range(1, 11, 1):\n",
    "    print (num, ' * ', x, ' = ', num*x)\n",
    "    "
   ]
  },
  {
   "cell_type": "markdown",
   "id": "735ad276-7297-425c-bca1-2863ce6f493d",
   "metadata": {},
   "source": [
    "### TODO Task 3 \n",
    "\n",
    "Write a program which takes a number, lower bound, and upper bound as \n",
    "input from user, and prints its table on the output screen according to \n",
    "lower bound and upper bound. "
   ]
  },
  {
   "cell_type": "code",
   "execution_count": 164,
   "id": "dbe89067-6e84-405c-848f-55007c45326c",
   "metadata": {},
   "outputs": [
    {
     "name": "stdin",
     "output_type": "stream",
     "text": [
      "Enter a number:  2\n",
      "Enter lower bound:  5\n",
      "Enter upper bound:  9\n"
     ]
    },
    {
     "name": "stdout",
     "output_type": "stream",
     "text": [
      "2  *  5  =  10\n",
      "2  *  6  =  12\n",
      "2  *  7  =  14\n",
      "2  *  8  =  16\n",
      "2  *  9  =  18\n"
     ]
    }
   ],
   "source": [
    "num = int(input('Enter a number: '))\n",
    "lb = int(input('Enter lower bound: '))\n",
    "ub = int(input('Enter upper bound: '))\n",
    "\n",
    "for x in range(lb, ub+1, 1):\n",
    "    print (num, ' * ', x, ' = ', num*x)"
   ]
  },
  {
   "cell_type": "markdown",
   "id": "cbd580ff-242e-4d6e-bc32-354bf8b469c4",
   "metadata": {},
   "source": [
    "### TODO Task 4 \n",
    "\n",
    "User Driven Programs, that you have \n",
    "previously done in Loops. (to understand the concept of User Driven \n",
    "Programs + Nested Loops)\n",
    "\n",
    "1. table of user entered number "
   ]
  },
  {
   "cell_type": "code",
   "execution_count": 165,
   "id": "b5b42060-5868-4093-964e-993eb357a392",
   "metadata": {},
   "outputs": [
    {
     "name": "stdin",
     "output_type": "stream",
     "text": [
      "Enter a number:  3\n"
     ]
    },
    {
     "name": "stdout",
     "output_type": "stream",
     "text": [
      "3  *  1  =  3\n",
      "3  *  2  =  6\n",
      "3  *  3  =  9\n",
      "3  *  4  =  12\n",
      "3  *  5  =  15\n",
      "3  *  6  =  18\n",
      "3  *  7  =  21\n",
      "3  *  8  =  24\n",
      "3  *  9  =  27\n",
      "3  *  10  =  30\n"
     ]
    },
    {
     "name": "stdin",
     "output_type": "stream",
     "text": [
      "would you like to enter another number? (yes/no) yes\n",
      "Enter a number:  8\n"
     ]
    },
    {
     "name": "stdout",
     "output_type": "stream",
     "text": [
      "8  *  1  =  8\n",
      "8  *  2  =  16\n",
      "8  *  3  =  24\n",
      "8  *  4  =  32\n",
      "8  *  5  =  40\n",
      "8  *  6  =  48\n",
      "8  *  7  =  56\n",
      "8  *  8  =  64\n",
      "8  *  9  =  72\n",
      "8  *  10  =  80\n"
     ]
    },
    {
     "name": "stdin",
     "output_type": "stream",
     "text": [
      "would you like to enter another number? (yes/no) yes\n",
      "Enter a number:  2\n"
     ]
    },
    {
     "name": "stdout",
     "output_type": "stream",
     "text": [
      "2  *  1  =  2\n",
      "2  *  2  =  4\n",
      "2  *  3  =  6\n",
      "2  *  4  =  8\n",
      "2  *  5  =  10\n",
      "2  *  6  =  12\n",
      "2  *  7  =  14\n",
      "2  *  8  =  16\n",
      "2  *  9  =  18\n",
      "2  *  10  =  20\n"
     ]
    },
    {
     "name": "stdin",
     "output_type": "stream",
     "text": [
      "would you like to enter another number? (yes/no) yes\n",
      "Enter a number:  13\n"
     ]
    },
    {
     "name": "stdout",
     "output_type": "stream",
     "text": [
      "13  *  1  =  13\n",
      "13  *  2  =  26\n",
      "13  *  3  =  39\n",
      "13  *  4  =  52\n",
      "13  *  5  =  65\n",
      "13  *  6  =  78\n",
      "13  *  7  =  91\n",
      "13  *  8  =  104\n",
      "13  *  9  =  117\n",
      "13  *  10  =  130\n"
     ]
    },
    {
     "name": "stdin",
     "output_type": "stream",
     "text": [
      "would you like to enter another number? (yes/no) no\n"
     ]
    }
   ],
   "source": [
    "choice = 'yes'\n",
    "while choice.lower() == 'yes':\n",
    "    num = int (input('Enter a number: '))\n",
    "    for x in range(1, 11, 1):\n",
    "        print (num, ' * ', x, ' = ', num*x)\n",
    "    choice = input('would you like to enter another number? (yes/no)')"
   ]
  },
  {
   "cell_type": "markdown",
   "id": "c08f12cf-233b-4ff2-a70e-d2491bf45052",
   "metadata": {},
   "source": [
    "## <center>Nested loops\n",
    "\n",
    "### TODO Task 1\n",
    "\n",
    "Printing the following Pattern on Output Screen. \n",
    "\n",
    "* \n",
    "\n",
    "** \n",
    "\n",
    "\\*** \n",
    "\n",
    "\\**** \n",
    "\n",
    "\\***** "
   ]
  },
  {
   "cell_type": "code",
   "execution_count": 168,
   "id": "79fef5d2-4308-481e-907f-2b07f1924f40",
   "metadata": {},
   "outputs": [
    {
     "name": "stdout",
     "output_type": "stream",
     "text": [
      "*\n",
      "**\n",
      "***\n",
      "****\n",
      "*****\n"
     ]
    }
   ],
   "source": [
    "for i in range(1, 6, 1):\n",
    "    for j in range(1, i+1, 1):\n",
    "        print('*', end='')\n",
    "    print()"
   ]
  },
  {
   "cell_type": "markdown",
   "id": "98f2917d-5468-4490-b5b4-c5c55fb175a1",
   "metadata": {},
   "source": [
    "### TODO Task 2\n",
    "\n",
    "Printing the following Pattern on Output Screen. \n",
    "\n",
    "\\***** \n",
    "\n",
    "\\**** \n",
    "\n",
    "\\*** \n",
    "\n",
    "** \n",
    "\n",
    "* "
   ]
  },
  {
   "cell_type": "code",
   "execution_count": 170,
   "id": "466d2ed1-91ac-4997-a104-0683ea8aa125",
   "metadata": {},
   "outputs": [
    {
     "name": "stdout",
     "output_type": "stream",
     "text": [
      "*****\n",
      "****\n",
      "***\n",
      "**\n",
      "*\n"
     ]
    }
   ],
   "source": [
    "for i in range(5, 0, -1):\n",
    "    for j in range(1, i+1, 1):\n",
    "        print('*', end='')\n",
    "    print()"
   ]
  },
  {
   "cell_type": "markdown",
   "id": "3c56f2ba-18e6-41cf-8088-3e12374202e3",
   "metadata": {},
   "source": [
    "### TODO Task 3\n",
    "\n",
    "Write a program which prints the following pattern on the output screen. \n",
    "\n",
    "1 \n",
    "\n",
    "1 2 \n",
    "\n",
    "1 2 3 \n",
    "\n",
    "1 2 3 4 \n",
    "\n",
    "1 2 3 4 5"
   ]
  },
  {
   "cell_type": "code",
   "execution_count": 171,
   "id": "254737fa-945a-4b93-8ac7-6e14ff87ccdd",
   "metadata": {},
   "outputs": [
    {
     "name": "stdout",
     "output_type": "stream",
     "text": [
      "1\n",
      "12\n",
      "123\n",
      "1234\n",
      "12345\n"
     ]
    }
   ],
   "source": [
    "for i in range(1, 6, 1):\n",
    "    for j in range(1, i+1, 1):\n",
    "        print(j, end='')\n",
    "    print()"
   ]
  },
  {
   "cell_type": "markdown",
   "id": "013b5053-87c2-4c99-ab61-cca04c3faac5",
   "metadata": {},
   "source": [
    "## <center>Control statements(break and continue)\n",
    "\n",
    "### Break statement - Example"
   ]
  },
  {
   "cell_type": "code",
   "execution_count": 173,
   "id": "e99b1444-15a2-4172-8ec1-677c30fb80e5",
   "metadata": {},
   "outputs": [
    {
     "name": "stdout",
     "output_type": "stream",
     "text": [
      "First even number: 6\n"
     ]
    }
   ],
   "source": [
    "numbers = [1, 3, 6, 7, 9] \n",
    "for num in numbers: \n",
    "    if num % 2 == 0: \n",
    "        print(\"First even number:\", num) \n",
    "        break "
   ]
  },
  {
   "cell_type": "markdown",
   "id": "da7fb8b8-3485-44b6-98e0-98b949319269",
   "metadata": {},
   "source": [
    "### Continue statement - Example"
   ]
  },
  {
   "cell_type": "code",
   "execution_count": 175,
   "id": "b32ae007-24a3-4eff-b981-a90a34f603ac",
   "metadata": {},
   "outputs": [
    {
     "name": "stdout",
     "output_type": "stream",
     "text": [
      "1\n",
      "3\n",
      "5\n"
     ]
    }
   ],
   "source": [
    "for num in range(6): \n",
    "    if num % 2 == 0: \n",
    "        continue \n",
    "    print(num) "
   ]
  },
  {
   "cell_type": "markdown",
   "id": "f6aa1044-0fbf-4ccf-9d04-f347340d46ba",
   "metadata": {},
   "source": [
    "## <center>Functions\n",
    " "
   ]
  },
  {
   "cell_type": "code",
   "execution_count": 2,
   "id": "9349561f-8671-4487-a7d1-d12cf7ee7c28",
   "metadata": {},
   "outputs": [
    {
     "name": "stdout",
     "output_type": "stream",
     "text": [
      "I am in Main()\n",
      "I am in Madina()\n",
      "I am in Pakistan()\n",
      "I am in India()\n",
      "I am in Saudia Arabia()\n",
      "Back in Main()\n"
     ]
    }
   ],
   "source": [
    "# Function Definition  \n",
    "# include <stdio.h> \n",
    "# void pakistan();        Function Prototype  \n",
    "# void india();           Function Prototype  \n",
    "# void saudi_arabia();    Function Prototype  \n",
    " \n",
    "# Function Definition  \n",
    "def india(): # india() Function Header  \n",
    "    # Body of india() Function  \n",
    "    print(\"I am in India()\") \n",
    "    saudi_arabia() # Function Call \n",
    " \n",
    "# Function Definition  \n",
    "def saudi_arabia(): # saudi_arabia() Function Header \n",
    "    # Body of saudi_arabia() Function  \n",
    "    print(\"I am in Saudia Arabia()\")     \n",
    " \n",
    "# Function Definition  \n",
    "def pakistan(): # pakistan() Function Header  \n",
    "    # Body of pakistan() Function  \n",
    "    print(\"I am in Pakistan()\") \n",
    " \n",
    "# Function Definition  \n",
    "def madina(): # pakistan() Function Header  \n",
    "    # Body of pakistan() Function  \n",
    "    print(\"I am in Madina()\") \n",
    "    pakistan() \n",
    "    india() \n",
    "     \n",
    "# Function Definition  \n",
    "if __name__ == \"__main__\": # main() Function Header \n",
    "    # Body of main() Function  \n",
    "    print(\"I am in Main()\") \n",
    "    madina(); # Function Call  \n",
    "    print(\"Back in Main()\") "
   ]
  },
  {
   "cell_type": "markdown",
   "id": "016594c5-232b-4e82-aa29-1ebf58f6d349",
   "metadata": {},
   "source": [
    "## <center>Assignment 2\n",
    "\n",
    "## <center>Functions\n",
    "### First Variation - No Return Type, No Arguments / Parameters \n",
    "\n",
    "### Task : \n",
    "Write a program using functions, which calculates the grade of a student in \n",
    "a subject. The grading scheme is as follows: \n",
    "* Condition for A Grade – marks >= 80 and marks <= 100\n",
    "* Condition for B Grade – marks >= 70 and marks < 80\n",
    "* Condition for C Grade – marks >= 60 and marks < 70\n",
    "* Condition for D Grade – marks >= 50 and marks < 60\n",
    "* Condition for F Grade – marks >= 0 and marks < 50 "
   ]
  },
  {
   "attachments": {},
   "cell_type": "markdown",
   "id": "e078e943-0337-472d-8ef0-adc16fb3dee1",
   "metadata": {},
   "source": [
    "**Step 1: Completely and Correctly Understand the Real-world Scenario**\n",
    "\n",
    "\n",
    "* The task is to calculate grade of a student \n",
    "\n",
    "\n",
    "**Step 2: Extract Client Requirements**\n",
    "\n",
    "\n",
    "* The client wants to calculate the grade of a student based on the grading scheme provided\n",
    "\n",
    "\n",
    "**Step 3: Extract Input-Processing-Output**\n",
    "\n",
    "\n",
    "* Input\n",
    "\n",
    "\n",
    "    * Data:\n",
    "        * number of inputs: 1\n",
    "        * type of input(s): float\n",
    "    * Instruction:\n",
    "        * input marks from user and use if statements to find appropriate grade according to marks and display it\n",
    "\n",
    "\n",
    "* Processing\n",
    "    * if-elif-else\n",
    "    * input() function\n",
    "    * print() function \n",
    "\n",
    "* Output\n",
    "    * number of outputs: 1 \n",
    "    * data type: string\n",
    "\n",
    "\n",
    "\n",
    "**Step 4: Write down Pseudocode**\n",
    "\n",
    "\n",
    "1. Start\n",
    "2. Declare variable 'marks'\n",
    "3. input marks from user \n",
    "4. IF marks > 100 or marks < 0\n",
    "5.     print \"Error: Enter valid marks(0-100)\"\n",
    "6. Else IF  marks >= 80\n",
    "7.     print \"Grade: A\"\n",
    "8. Else IF  marks >= 70\n",
    "9.     print \"Grade: B\"\n",
    "10. Else IF  marks >= 60\n",
    "11.     print \"Grade: C\"\n",
    "12. Else IF  marks >= 50\n",
    "13.     print \"Grade: D\"\n",
    "14. Else\n",
    "15.     print \"Grade: F\"\n",
    "16. End\n",
    "\n",
    "**Step 5: Draw Flowchart (if needed)**\n",
    "\n",
    "\n",
    "\n",
    "**Step 6: Select Most Suitable Programming Language, IDE, and Machine**\n",
    "\n",
    "\n",
    "* Programming language: Python\n",
    "* IDE: Jupyter Notebook\n",
    "* Machine: Any standard machine with Python and Jupyter Notebook installed can be used\n",
    "\n",
    "\n",
    "**Step 7: Write down Developer and System Information**\n",
    "\n",
    "\n",
    "* Developer: Maryam Naveed\n",
    "* System:\n",
    "    * 64-bit operating system\n",
    "    * Windows 10 Home, 22H2\n",
    "\n",
    "\n",
    "**Step 8: Transform Pseudocode (or Flowchart) into Code with Proper Comments**\n",
    "\n",
    "#Function Prototype \n",
    "\n",
    "\n",
    "#void grade_calculation() \n",
    "\n",
    "\n",
    "def grade_calculation(): \n",
    "\n",
    "\n",
    "    try: \n",
    "        #Variable to store Input - marks  \n",
    "        marks = float(input(\"Enter marks: \")) \n",
    "        #Processing \n",
    "        if marks < 0 or marks > 100:\n",
    "            print(\"Error: Enter valid marks(0-100).\")\n",
    "        if marks >= 80: \n",
    "            print(\"Grade: A\") \n",
    "        elif marks >= 70: \n",
    "            print(\"Grade: B\")\n",
    "        elif marks >= 60: \n",
    "            print(\"Grade: C\") \n",
    "        elif marks >= 50: \n",
    "            print(\"Grade: D\")\n",
    "        else:\n",
    "            print(\"Grade: F\")\n",
    "    \n",
    " \n",
    "    except ValueError: \n",
    "        print(\"Error! Enter Integer/Float Value\")   \n",
    "if __name__ == \"__main__\":  #main() Function  \n",
    "    \n",
    "    grade_calculation() #Function Call \n",
    "   \n",
    "   \n",
    "**Step 9: Test Your Code**"
   ]
  },
  {
   "cell_type": "code",
   "execution_count": 6,
   "id": "b888b556-d748-4263-acee-180ce69d29e2",
   "metadata": {},
   "outputs": [
    {
     "name": "stdin",
     "output_type": "stream",
     "text": [
      "Enter marks:  75\n"
     ]
    },
    {
     "name": "stdout",
     "output_type": "stream",
     "text": [
      "Grade: B\n"
     ]
    }
   ],
   "source": [
    "#Function Prototype\n",
    "\n",
    "#void grade_calculation()\n",
    "\n",
    "def grade_calculation():\n",
    "\n",
    "    try: \n",
    "        #Variable to store Input - marks  \n",
    "        marks = float(input(\"Enter marks: \")) \n",
    "        #Processing \n",
    "        if marks < 0 or marks > 100:\n",
    "            print(\"Error: Enter valid marks(0-100).\")\n",
    "        if marks >= 80: \n",
    "            print(\"Grade: A\") \n",
    "        elif marks >= 70: \n",
    "            print(\"Grade: B\")\n",
    "        elif marks >= 60: \n",
    "            print(\"Grade: C\") \n",
    "        elif marks >= 50: \n",
    "            print(\"Grade: D\")\n",
    "        else:\n",
    "            print(\"Grade: F\")\n",
    "\n",
    "\n",
    "    except ValueError: \n",
    "        print(\"Error! Enter Integer/Float Value\")   \n",
    " \n",
    "grade_calculation() #Function Call \n"
   ]
  },
  {
   "cell_type": "markdown",
   "id": "5f7c3004-d210-47cc-a5d0-a39c9e3cedc7",
   "metadata": {},
   "source": [
    "### Second Variation - No Return Type, Arguments / Parameters \n",
    "\n",
    "### Task:\n",
    "Write a program using functions, which calculates the grade of a student in \n",
    "a subject. The grading scheme is as follows: \n",
    "* Condition for A Grade – marks >= 80 and marks <= 100\n",
    "* Condition for B Grade – marks >= 70 and marks < 80\n",
    "* Condition for C Grade – marks >= 60 and marks < 70\n",
    "* Condition for D Grade – marks >= 50 and marks < 60\n",
    "* Condition for F Grade – marks >= 0 and marks < 50 "
   ]
  },
  {
   "cell_type": "code",
   "execution_count": 7,
   "id": "774bc0bf-a6d2-4426-857b-8ecb74127c9e",
   "metadata": {},
   "outputs": [
    {
     "name": "stdin",
     "output_type": "stream",
     "text": [
      "Enter your marks in Math:  67\n"
     ]
    },
    {
     "name": "stdout",
     "output_type": "stream",
     "text": [
      "Your Marks in Math are:  67.0\n",
      "You Grade in Math is:  C\n"
     ]
    }
   ],
   "source": [
    "# Function Prototype \n",
    "# void grade_calculation2(marks) \n",
    "def grade_calculation2(marks):  \n",
    "    if marks >= 80 and marks <= 100: \n",
    "        grade = 'A' \n",
    "    elif marks >= 70 and marks < 80: \n",
    "        grade = 'B' \n",
    "    elif marks >= 60 and marks < 70: \n",
    "        grade = 'C' \n",
    "    elif marks >= 50 and marks < 60: \n",
    "        grade = 'D' \n",
    "    elif marks >= 0 and marks < 50: \n",
    "        grade = 'F' \n",
    " \n",
    "    # Display Input and Output \n",
    "    print(\"Your Marks in Math are: \",marks) \n",
    "    print(\"You Grade in Math is: \", grade) \n",
    "    \n",
    "if __name__ == \"__main__\":  # main() Function \n",
    "    try:  \n",
    "        # Variable to store Input - marks  \n",
    "        marks = float(input(\"Enter your marks in Math: \")) \n",
    "        grade_calculation2(marks) # Function Call   \n",
    "    except ValueError: \n",
    "        print(\"Error! Enter Integer/Float Value\")   "
   ]
  },
  {
   "cell_type": "markdown",
   "id": "616e4277-f376-44ec-a447-973455bfd3fb",
   "metadata": {},
   "source": [
    "### TODO Tasks\n",
    "Consider the following two variation of Function Prototype \n",
    "* No Return Type, No Arguments / Parameters \n",
    "* No Return Type, Arguments / Parameters\n",
    "\n",
    "\n",
    "Write functions for the following Tasks using the above-mentioned \n",
    "variations \n",
    "* Write a program to find square of a number \n",
    "* Write a program to add two float number \n",
    "* Write a program to check if it is an even number or odd number?\n",
    "\n",
    "\n",
    "### Square of a number"
   ]
  },
  {
   "attachments": {},
   "cell_type": "markdown",
   "id": "5c2b9567-3935-4e7f-8cf7-d382fb046cce",
   "metadata": {},
   "source": [
    "**Step 1: Completely and Correctly Understand the Real-world Scenario**\n",
    "\n",
    "\n",
    "* The task is to calculate square of a number \n",
    "\n",
    "\n",
    "**Step 2: Extract Client Requirements**\n",
    "\n",
    "\n",
    "* The client wants to find the square of a number\n",
    "\n",
    "\n",
    "**Step 3: Extract Input-Processing-Output**\n",
    "\n",
    "\n",
    "* Input\n",
    "\n",
    "\n",
    "    * Data:\n",
    "        * number of inputs: 1\n",
    "        * type of input(s): float\n",
    "    * Instruction:\n",
    "        * input number from user, calculate its square and display it\n",
    "\n",
    "\n",
    "* Processing \n",
    "    * input() function\n",
    "    * '*' operator\n",
    "    * print() function \n",
    "\n",
    "* Output\n",
    "    * number of outputs: 1 \n",
    "    * data type: float\n",
    "\n",
    "\n",
    "\n",
    "**Step 4: Write down Pseudocode**\n",
    "\n",
    "\n",
    "1. Start\n",
    "2. Declare variable 'num'\n",
    "3. Input num from user\n",
    "4. sq = num*num\n",
    "5. Display sq\n",
    "6. End\n",
    "\n",
    "**Step 5: Draw Flowchart (if needed)**\n",
    "\n",
    "\n",
    "\n",
    "**Step 6: Select Most Suitable Programming Language, IDE, and Machine**\n",
    "\n",
    "\n",
    "* Programming language: Python\n",
    "* IDE: Jupyter Notebook\n",
    "* Machine: Any standard machine with Python and Jupyter Notebook installed can be used\n",
    "\n",
    "\n",
    "**Step 7: Write down Developer and System Information**\n",
    "\n",
    "\n",
    "* Developer: Maryam Naveed\n",
    "* System:\n",
    "    * 64-bit operating system\n",
    "    * Windows 10 Home, 22H2\n",
    "\n",
    "\n",
    "**Step 8: Transform Pseudocode (or Flowchart) into Code with Proper Comments**\n",
    "\n",
    "#### Variation 1: no return type, no parameters\n",
    "\n",
    "#Function prototype\n",
    "#void square_number()\n",
    "\n",
    "def square_number(): \n",
    "\n",
    "\n",
    "    try: \n",
    "        #Variable to store Input - num \n",
    "        num = float(input(\"Enter number: \")) \n",
    "        \n",
    "        #Processing-calculating square\n",
    "        \n",
    "        sq = num*num\n",
    "        #display square of number\n",
    "        print(sq)\n",
    "    \n",
    " \n",
    "    except ValueError: \n",
    "        print(\"Error! Enter Float Value\")   \n",
    "\n",
    "square_number() #Function Call \n",
    "\n",
    "\n",
    "#### Variation 2: no return type, parameters\n",
    "\n",
    "#Function prototype\n",
    "#void square_number(float num)\n",
    "\n",
    "def square_number(num): \n",
    " \n",
    "        #Processing-calculating square\n",
    "        sq = num*num\n",
    "        \n",
    "        #display square of number\n",
    "        print(sq)\n",
    "    \n",
    " \n",
    "     \n",
    "\n",
    "\n",
    "try: \n",
    "\n",
    "    #Variable to store Input - num \n",
    "    num = float(input(\"Enter number: \")) \n",
    "        \n",
    "except ValueError: \n",
    " \n",
    "    print(\"Error! Enter Float Value\") \n",
    "\n",
    "square_number(num) #Function Call \n",
    "   \n",
    "   \n",
    "**Step 9: Test Your Code**"
   ]
  },
  {
   "cell_type": "code",
   "execution_count": 8,
   "id": "ded819ce-2986-4856-8cc5-c87d12e9c221",
   "metadata": {},
   "outputs": [
    {
     "name": "stdin",
     "output_type": "stream",
     "text": [
      "Enter number:  5\n"
     ]
    },
    {
     "name": "stdout",
     "output_type": "stream",
     "text": [
      "25.0\n"
     ]
    }
   ],
   "source": [
    "#Function prototype\n",
    "#void square_number()\n",
    "\n",
    "def square_number(): \n",
    "\n",
    "\n",
    "    try: \n",
    "        #Variable to store Input - num \n",
    "        num = float(input(\"Enter number: \")) \n",
    "        \n",
    "        #Processing-calculating square\n",
    "        \n",
    "        sq = num*num\n",
    "        #display square of number\n",
    "        print(sq)\n",
    "    \n",
    " \n",
    "    except ValueError: \n",
    "        print(\"Error! Enter Float Value\")   \n",
    "\n",
    "square_number() #Function Call"
   ]
  },
  {
   "cell_type": "code",
   "execution_count": 10,
   "id": "6bf11ae1-af71-4d62-8914-46f2ae28da6a",
   "metadata": {},
   "outputs": [
    {
     "name": "stdin",
     "output_type": "stream",
     "text": [
      "Enter number:  3\n"
     ]
    },
    {
     "name": "stdout",
     "output_type": "stream",
     "text": [
      "9.0\n"
     ]
    }
   ],
   "source": [
    "#Function prototype\n",
    "#void square_number(float num)\n",
    "\n",
    "def square_number(num): \n",
    " \n",
    "        #Processing-calculating square\n",
    "        sq = num*num\n",
    "        \n",
    "        #display square of number\n",
    "        print(sq)\n",
    "    \n",
    " \n",
    "     \n",
    "\n",
    "\n",
    "try: \n",
    "\n",
    "    #Variable to store Input - num \n",
    "    num = float(input(\"Enter number: \")) \n",
    "        \n",
    "\n",
    "except ValueError: \n",
    " \n",
    "    print(\"Error! Enter Float Value\") \n",
    "square_number(num) #Function Call \n",
    "   "
   ]
  },
  {
   "cell_type": "markdown",
   "id": "4f26c5ff-634e-479a-8c4d-e928f962563b",
   "metadata": {},
   "source": [
    "### Add two float numbers"
   ]
  },
  {
   "attachments": {},
   "cell_type": "markdown",
   "id": "66a9ea09-d988-4f07-b246-f7ab24c4606c",
   "metadata": {},
   "source": [
    "**Step 1: Completely and Correctly Understand the Real-world Scenario**\n",
    "\n",
    "\n",
    "* The task is to input two float numbers and add them \n",
    "\n",
    "\n",
    "**Step 2: Extract Client Requirements**\n",
    "\n",
    "\n",
    "* The client wants the sum of two float numbers\n",
    "\n",
    "\n",
    "**Step 3: Extract Input-Processing-Output**\n",
    "\n",
    "\n",
    "* Input\n",
    "\n",
    "\n",
    "    * Data:\n",
    "        * number od inputs: 2\n",
    "        * type: float\n",
    "         \n",
    "    * Instruction:\n",
    "        * input two float numbers from user using input() function\n",
    "\n",
    "\n",
    "* Processing\n",
    "    * input() function\n",
    "    * arithmetic operator(+) \n",
    "    * print() function \n",
    "\n",
    "* Output\n",
    "    * number of outputs: 1\n",
    "    * data type: float\n",
    "\n",
    "\n",
    "\n",
    "**Step 4: Write down Pseudocode**\n",
    "\n",
    "\n",
    "1. Start\n",
    "2. input num1\n",
    "3. input num2\n",
    "4. sum = num1 + num2\n",
    "5. Display sum\n",
    "6. End\n",
    "\n",
    "**Step 5: Draw Flowchart (if needed)**\n",
    "\n",
    "\n",
    "\n",
    "**Step 6: Select Most Suitable Programming Language, IDE, and Machine**\n",
    "\n",
    "\n",
    "* Programming language: Python\n",
    "* IDE: Jupyter Notebook\n",
    "* Machine: Any standard machine with Python and Jupyter Notebook installed can be used\n",
    "\n",
    "\n",
    "**Step 7: Write down Developer and System Information**\n",
    "\n",
    "\n",
    "* Developer: Maryam Naveed\n",
    "* System:\n",
    "    * 64-bit operating system\n",
    "    * Windows 10 Home, 22H2\n",
    "\n",
    "\n",
    "**Step 8: Transform Pseudocode (or Flowchart) into Code with Proper Comments**\n",
    "\n",
    "### Variation 1: no return type, no parameters\n",
    "\n",
    "#Function prototype\n",
    "#void sum1()\n",
    "\n",
    "def sum1():\n",
    "\n",
    "    try:\n",
    "\n",
    "        #input numbers from user, convert to float type and store in variables\n",
    "        num1 = float(input(\"Enter first number: \"))\n",
    "        num2 = float(input(\"Enter second number: \"))\n",
    "\n",
    "        #calculate sum of numbers\n",
    "        sum = num1 + num2\n",
    "\n",
    "        #display calculated sum \n",
    "        print (sum)\n",
    "        \n",
    "    except ValueError: \n",
    "        print(\"Error! Enter Float Value\") \n",
    "\n",
    "sum1() #Function Call \n",
    "        \n",
    "\n",
    "### Variation 2: no return type, parameters\n",
    "\n",
    "#Function prototype\n",
    "#void sum1(float num1, float num2)\n",
    "\n",
    "def sum1(num1, num2):\n",
    "\n",
    "    \n",
    "        #calculate sum of numbers\n",
    "        sum = num1 + num2\n",
    "\n",
    "        #display calculated sum \n",
    "        print (sum)\n",
    "        \n",
    "   \n",
    "\n",
    "\n",
    "try:\n",
    "\n",
    "    #input numbers from user, convert to float type and store in variables\n",
    "    num1 = float(input(\"Enter first number: \"))\n",
    "    num2 = float(input(\"Enter second number: \"))\n",
    "\n",
    "except ValueError: \n",
    "\n",
    "    print(\"Error! Enter Float Value\")     \n",
    "\n",
    "sum1(num1, num2) #Function Call \n",
    " \n",
    "   \n",
    "   \n",
    "**Step 9: Test Your Code**"
   ]
  },
  {
   "cell_type": "code",
   "execution_count": 11,
   "id": "d6646684-489d-4ee7-9725-5f6c9321555f",
   "metadata": {},
   "outputs": [
    {
     "name": "stdin",
     "output_type": "stream",
     "text": [
      "Enter first number:  65\n",
      "Enter second number:  3\n"
     ]
    },
    {
     "name": "stdout",
     "output_type": "stream",
     "text": [
      "68.0\n"
     ]
    }
   ],
   "source": [
    "#Function prototype\n",
    "#void sum1()\n",
    "\n",
    "def sum1():\n",
    "\n",
    "    try:\n",
    "\n",
    "        #input numbers from user, convert to float type and store in variables\n",
    "        num1 = float(input(\"Enter first number: \"))\n",
    "        num2 = float(input(\"Enter second number: \"))\n",
    "\n",
    "        #calculate sum of numbers\n",
    "        sum = num1 + num2\n",
    "\n",
    "        #display calculated sum \n",
    "        print (sum)\n",
    "        \n",
    "    except ValueError: \n",
    "        print(\"Error! Enter Float Value\") \n",
    "\n",
    "sum1() #Function Call "
   ]
  },
  {
   "cell_type": "code",
   "execution_count": 12,
   "id": "952a79bf-a496-43ee-8f4e-f9d92b95d701",
   "metadata": {},
   "outputs": [
    {
     "name": "stdin",
     "output_type": "stream",
     "text": [
      "Enter first number:  77\n",
      "Enter second number:  1\n"
     ]
    },
    {
     "name": "stdout",
     "output_type": "stream",
     "text": [
      "78.0\n"
     ]
    }
   ],
   "source": [
    "#Function prototype\n",
    "#void sum1(float num1, float num2)\n",
    "\n",
    "def sum1(num1, num2):\n",
    "\n",
    "    \n",
    "        #calculate sum of numbers\n",
    "        sum = num1 + num2\n",
    "\n",
    "        #display calculated sum \n",
    "        print (sum)\n",
    "        \n",
    "   \n",
    "\n",
    "\n",
    "try:\n",
    "\n",
    "    #input numbers from user, convert to float type and store in variables\n",
    "    num1 = float(input(\"Enter first number: \"))\n",
    "    num2 = float(input(\"Enter second number: \"))\n",
    "\n",
    "except ValueError: \n",
    "\n",
    "    print(\"Error! Enter Float Value\")     \n",
    "\n",
    "sum1(num1, num2) #Function Call "
   ]
  },
  {
   "cell_type": "markdown",
   "id": "e42b7f6d-f1f6-4d7f-9103-a1dd04c8b8fc",
   "metadata": {},
   "source": [
    "### Check if it is an even number or odd number"
   ]
  },
  {
   "attachments": {},
   "cell_type": "markdown",
   "id": "f68304d4-5c2c-4b18-9c59-70194d8ec381",
   "metadata": {},
   "source": [
    "**Step 1: Completely and Correctly Understand the Real-world Scenario**\n",
    "\n",
    "\n",
    "* The task is to input a number and check if it is even or odd \n",
    "\n",
    "\n",
    "**Step 2: Extract Client Requirements**\n",
    "\n",
    "\n",
    "* The client wants to determine whether a number is even or odd\n",
    "\n",
    "\n",
    "**Step 3: Extract Input-Processing-Output**\n",
    "\n",
    "\n",
    "* Input\n",
    "\n",
    "\n",
    "    * Data:\n",
    "        * number of inputs: 1\n",
    "        * type: int\n",
    "    * Instruction:\n",
    "        * input number and use if else to determine even/odd\n",
    "\n",
    "\n",
    "* Processing\n",
    "    * if-else\n",
    "    * input() function\n",
    "    * operators(%, ==) \n",
    "    * print() function \n",
    "\n",
    "* Output\n",
    "    * number of outputs: 1 \n",
    "    * data type: string\n",
    "\n",
    "\n",
    "\n",
    "**Step 4: Write down Pseudocode**\n",
    "\n",
    "\n",
    "1. Start\n",
    "2. input num \n",
    "3. IF (num%2 == 0)\n",
    "4.   Display \"Number is even\"\n",
    "5. ELSE\n",
    "6.   Display \"Number is odd\"\n",
    "7. END \n",
    "\n",
    "**Step 5: Draw Flowchart (if needed)**\n",
    "\n",
    "\n",
    "\n",
    "**Step 6: Select Most Suitable Programming Language, IDE, and Machine**\n",
    "\n",
    "\n",
    "* Programming language: Python\n",
    "* IDE: Jupyter Notebook\n",
    "* Machine: Any standard machine with Python and Jupyter Notebook installed can be used\n",
    "\n",
    "\n",
    "**Step 7: Write down Developer and System Information**\n",
    "\n",
    "\n",
    "* Developer: Maryam Naveed\n",
    "* System:\n",
    "    * 64-bit operating system\n",
    "    * Windows 10 Home, 22H2\n",
    "\n",
    "\n",
    "**Step 8: Transform Pseudocode (or Flowchart) into Code with Proper Comments**\n",
    "\n",
    "### Variation 1: no return type, no parameters\n",
    "\n",
    "#Function prototype\n",
    "#void even_odd()\n",
    "\n",
    "\n",
    "def even_odd():\n",
    "\n",
    "    try:\n",
    "        #input num\n",
    "        num = int(input(\"Enter number: \"))\n",
    "\n",
    "        #check condition for even\n",
    "        if num%2 == 0:\n",
    "            print(\"Number is even\")\n",
    "        else:\n",
    "            print(\"Number is odd\")\n",
    "    except ValueError: \n",
    " \n",
    "        print(\"Error! Enter Int Value\") \n",
    "\n",
    "\n",
    "even_odd() #Function Call         \n",
    " \n",
    "### Variation 2: no return type, parameters\n",
    "\n",
    "#Function prototype\n",
    "#void even_odd(int num)\n",
    "\n",
    "\n",
    "def even_odd(num): \n",
    "\n",
    "        #check condition for even\n",
    "        if num%2 == 0:\n",
    "            print(\"Number is even\")\n",
    "        else:\n",
    "            print(\"Number is odd\")\n",
    "    \n",
    "\n",
    "try:\n",
    "   \n",
    "    #input num\n",
    "    num = int(input(\"Enter number: \"))\n",
    "\n",
    "except ValueError: \n",
    " \n",
    "    print(\"Error! Enter Int Value\") \n",
    "    \n",
    "even_odd(num) #Function Call   \n",
    "   \n",
    "**Step 9: Test Your Code**"
   ]
  },
  {
   "cell_type": "code",
   "execution_count": 13,
   "id": "711117a8-a128-4f3e-ada7-aa71af7a621f",
   "metadata": {},
   "outputs": [
    {
     "name": "stdin",
     "output_type": "stream",
     "text": [
      "Enter number:  5\n"
     ]
    },
    {
     "name": "stdout",
     "output_type": "stream",
     "text": [
      "Number is odd\n"
     ]
    }
   ],
   "source": [
    "### Variation 1: no return type, no parameters\n",
    "\n",
    "#Function prototype\n",
    "#void even_odd()\n",
    "\n",
    "\n",
    "def even_odd():\n",
    "\n",
    "    try:\n",
    "        #input num\n",
    "        num = int(input(\"Enter number: \"))\n",
    "\n",
    "        #check condition for even\n",
    "        if num%2 == 0:\n",
    "            print(\"Number is even\")\n",
    "        else:\n",
    "            print(\"Number is odd\")\n",
    "    except ValueError: \n",
    " \n",
    "        print(\"Error! Enter Float Value\") \n",
    "\n",
    "\n",
    "even_odd() #Function Call  "
   ]
  },
  {
   "cell_type": "code",
   "execution_count": 14,
   "id": "98b0e034-b868-4012-9051-0afa736ec0b7",
   "metadata": {},
   "outputs": [
    {
     "name": "stdin",
     "output_type": "stream",
     "text": [
      "Enter number:  8\n"
     ]
    },
    {
     "name": "stdout",
     "output_type": "stream",
     "text": [
      "Number is even\n"
     ]
    }
   ],
   "source": [
    "#Function prototype\n",
    "#void even_odd(int num)\n",
    "\n",
    "\n",
    "def even_odd(num): \n",
    "\n",
    "        #check condition for even\n",
    "        if num%2 == 0:\n",
    "            print(\"Number is even\")\n",
    "        else:\n",
    "            print(\"Number is odd\")\n",
    "    \n",
    "\n",
    "try:\n",
    "   \n",
    "    #input num\n",
    "    num = int(input(\"Enter number: \"))\n",
    "\n",
    "except ValueError: \n",
    " \n",
    "    print(\"Error! Enter Int Value\") \n",
    "    \n",
    "even_odd(num) #Function Call"
   ]
  },
  {
   "cell_type": "markdown",
   "id": "86d50846-c668-4be6-bbdf-217dd629b5af",
   "metadata": {},
   "source": [
    "### Third Variation - Return Type, No Arguments / Parameters  \n",
    "\n",
    "### Task:\n",
    "Write a program using functions, which calculates the grade of a student in \n",
    "a subject. The grading scheme is as follows: \n",
    "* Condition for A Grade – marks >= 80 and marks <= 100\n",
    "* Condition for B Grade – marks >= 70 and marks < 80\n",
    "* Condition for C Grade – marks >= 60 and marks < 70\n",
    "* Condition for D Grade – marks >= 50 and marks < 60\n",
    "* Condition for F Grade – marks >= 0 and marks < 50 "
   ]
  },
  {
   "cell_type": "code",
   "execution_count": 16,
   "id": "ea42e705-6c78-43b2-bad1-8bda0163d589",
   "metadata": {},
   "outputs": [
    {
     "name": "stdin",
     "output_type": "stream",
     "text": [
      "Enter marks:  88\n"
     ]
    },
    {
     "name": "stdout",
     "output_type": "stream",
     "text": [
      "Your Marks:  88.0\n",
      "You Grade:  A\n"
     ]
    }
   ],
   "source": [
    "# Function Prototype \n",
    "# string grade_calculation() \n",
    "def grade_calculation(): \n",
    "    try: \n",
    "        # Input marks  \n",
    "        marks = float(input(\"Enter marks: \")) \n",
    "        # Processing \n",
    "        if marks >= 80 and marks <= 100: \n",
    "            grade = 'A'\n",
    "        elif marks >= 70 and marks < 80: \n",
    "            grade = 'B' \n",
    "        elif marks >= 60 and marks < 70: \n",
    "            grade = 'C' \n",
    "        elif marks >= 50 and marks < 60: \n",
    "            grade = 'D' \n",
    "        elif marks >= 0 and marks < 50: \n",
    "            grade = 'F' \n",
    " \n",
    "        # Display Input and Output \n",
    "        print(\"Your Marks: \",marks) \n",
    "        print(\"You Grade: \", grade) \n",
    " \n",
    "    except ValueError: \n",
    "        print(\"Error! Enter Integer/Float Value\")   \n",
    "    \n",
    "if __name__ == \"__main__\":  # main() Function\n",
    "    grade_calculation() # Function Call    "
   ]
  },
  {
   "cell_type": "markdown",
   "id": "632f5456-88a4-409c-ab11-f74b34c5d4a0",
   "metadata": {},
   "source": [
    "### Forth Variation - Return Type, Arguments / Parameters "
   ]
  },
  {
   "cell_type": "code",
   "execution_count": 18,
   "id": "d38be2cc-a9aa-4e2f-95a6-8497e697240e",
   "metadata": {},
   "outputs": [
    {
     "name": "stdin",
     "output_type": "stream",
     "text": [
      "Enter marks:  45\n"
     ]
    },
    {
     "name": "stdout",
     "output_type": "stream",
     "text": [
      "Your Marks in Math are:  45.0\n",
      "You Grade in Math is:  F\n"
     ]
    }
   ],
   "source": [
    "# Function Prototype \n",
    "# string grade_calculation(marks) \n",
    "def grade_calculation(marks): \n",
    "    # Processing  \n",
    "    if marks >= 80 and marks <= 100: \n",
    "        grade = 'A' \n",
    "    elif marks >= 70 and marks < 80: \n",
    "        grade = 'B' \n",
    "    elif marks >= 60 and marks < 70: \n",
    "        grade = 'C' \n",
    "    elif marks >= 50 and marks < 60: \n",
    "        grade = 'D' \n",
    "    elif marks >= 0 and marks < 50: \n",
    "        grade = 'F' \n",
    "    # RETRUN Value to the Calling Function \n",
    "    return grade \n",
    "\n",
    "if __name__ == \"__main__\":  # main() Function \n",
    "    try: \n",
    "        # Input marks  \n",
    "        marks = float(input(\"Enter marks: \")) \n",
    "        result = grade_calculation(marks) # Function Call \n",
    " \n",
    "        # Display Input and Output \n",
    "        print(\"Your Marks in Math are: \",marks) \n",
    "        print(\"You Grade in Math is: \", result) \n",
    "\n",
    "    except ValueError: \n",
    "        print(\"Error! Enter Integer/Float Value\")   "
   ]
  },
  {
   "cell_type": "markdown",
   "id": "a89729d4-4b7a-48d2-8cf2-49c9bf93d450",
   "metadata": {},
   "source": [
    "### TODO Tasks \n",
    "Consider the following two variation of Function Prototype \n",
    "* Return Type, No Arguments / Parameters \n",
    "* Return Type, Arguments / Parameters \n",
    "\n",
    "\n",
    "Write functions for the following Tasks using the above-mentioned \n",
    "variations \n",
    "* Write a program to find square of a number \n",
    "* Write a program to add two float number \n",
    "* Write a program to check if it is an even number or odd number?\n",
    "\n",
    "\n",
    "### Square of a number"
   ]
  },
  {
   "cell_type": "markdown",
   "id": "44e9adc6-ed5c-47a4-b494-49c47253c024",
   "metadata": {},
   "source": [
    "#### Variation 3: return type, no parameters\n",
    "\n",
    "#Function prototype\n",
    "#float square_number()\n",
    "\n",
    "def square_number(): \n",
    "\n",
    "\n",
    "    try: \n",
    "        #Variable to store Input - num \n",
    "        num = float(input(\"Enter number: \")) \n",
    "        \n",
    "        #Processing-calculating square\n",
    "        \n",
    "        sq = num*num \n",
    "        \n",
    "    except ValueError: \n",
    "        print(\"Error! Enter Float Value\")   \n",
    "\n",
    "\n",
    "    return sq\n",
    "\n",
    "    \n",
    "result = square_number() #Function Call\n",
    "\n",
    "#display square of number(result)\n",
    "print(result)\n",
    "\n",
    "\n",
    "#### Variation 4: return type, parameters\n",
    "\n",
    "#Function prototype\n",
    "#float square_number(float num)\n",
    "\n",
    "def square_number(num): \n",
    " \n",
    "        #Processing-calculating square\n",
    "        sq = num*num\n",
    "        return sq\n",
    "       \n",
    "\n",
    "try: \n",
    "\n",
    "    #Variable to store Input - num \n",
    "    num = float(input(\"Enter number: \")) \n",
    "        \n",
    "except ValueError: \n",
    " \n",
    "    print(\"Error! Enter Float Value\") \n",
    "\n",
    "result = square_number(num) #Function Call\n",
    "\n",
    "#display square of number(result)\n",
    "print(result)"
   ]
  },
  {
   "cell_type": "code",
   "execution_count": 19,
   "id": "8f2b2da8-b313-4d83-bb7b-1c1d9eb9f896",
   "metadata": {},
   "outputs": [
    {
     "name": "stdin",
     "output_type": "stream",
     "text": [
      "Enter number:  11\n"
     ]
    },
    {
     "name": "stdout",
     "output_type": "stream",
     "text": [
      "121.0\n"
     ]
    }
   ],
   "source": [
    "#Function prototype\n",
    "#float square_number()\n",
    "\n",
    "def square_number(): \n",
    "\n",
    "\n",
    "    try: \n",
    "        #Variable to store Input - num \n",
    "        num = float(input(\"Enter number: \")) \n",
    "        \n",
    "        #Processing-calculating square\n",
    "        \n",
    "        sq = num*num \n",
    "        \n",
    "    except ValueError: \n",
    "        print(\"Error! Enter Float Value\")   \n",
    "\n",
    "\n",
    "    return sq\n",
    "\n",
    "    \n",
    "result = square_number() #Function Call\n",
    "\n",
    "#display square of number(result)\n",
    "print(result)"
   ]
  },
  {
   "cell_type": "code",
   "execution_count": 20,
   "id": "d9b65465-a938-4ace-a32c-f38dc4a6b5e5",
   "metadata": {},
   "outputs": [
    {
     "name": "stdin",
     "output_type": "stream",
     "text": [
      "Enter number:  9\n"
     ]
    },
    {
     "name": "stdout",
     "output_type": "stream",
     "text": [
      "81.0\n"
     ]
    }
   ],
   "source": [
    "#Function prototype\n",
    "#float square_number(float num)\n",
    "\n",
    "def square_number(num): \n",
    " \n",
    "        #Processing-calculating square\n",
    "        sq = num*num\n",
    "        return sq\n",
    "       \n",
    "\n",
    "try: \n",
    "\n",
    "    #Variable to store Input - num \n",
    "    num = float(input(\"Enter number: \")) \n",
    "        \n",
    "except ValueError: \n",
    " \n",
    "    print(\"Error! Enter Float Value\") \n",
    "\n",
    "result = square_number(num) #Function Call\n",
    "\n",
    "#display square of number(result)\n",
    "print(result)"
   ]
  },
  {
   "cell_type": "markdown",
   "id": "0d79a150-7254-4041-a42e-f78c0aca52dc",
   "metadata": {},
   "source": [
    "### Add two float numbers"
   ]
  },
  {
   "cell_type": "markdown",
   "id": "f70e7668-8c51-4674-8f71-b4c05b5a6947",
   "metadata": {},
   "source": [
    "### Variation 3: return type, no parameters\n",
    "\n",
    "#Function prototype\n",
    "#float sum3()\n",
    "\n",
    "def sum3():\n",
    "\n",
    "    try:\n",
    "\n",
    "        #input numbers from user, convert to float type and store in variables\n",
    "        num1 = float(input(\"Enter first number: \"))\n",
    "        num2 = float(input(\"Enter second number: \"))\n",
    "\n",
    "        #calculate sum of numbers\n",
    "        summ = num1 + num2\n",
    " \n",
    "    except ValueError: \n",
    "        print(\"Error! Enter Float Value\") \n",
    "    return summ\n",
    "\n",
    "\n",
    "result = sum3() #Function Call \n",
    "#display calculated sum(result) \n",
    "print (result)\n",
    "        \n",
    "\n",
    "### Variation 4: return type, parameters\n",
    "\n",
    "#Function prototype\n",
    "#float sum4(float num1, float num2)\n",
    "\n",
    "def sum4(num1, num2):\n",
    "\n",
    "    \n",
    "        #calculate sum of numbers\n",
    "        summ = num1 + num2\n",
    "        return summ\n",
    " \n",
    "try:\n",
    "\n",
    "    #input numbers from user, convert to float type and store in variables\n",
    "    num1 = float(input(\"Enter first number: \"))\n",
    "    num2 = float(input(\"Enter second number: \"))\n",
    "\n",
    "except ValueError: \n",
    "\n",
    "    print(\"Error! Enter Float Value\")     \n",
    "\n",
    "result = sum4(num1, num2) #Function Call\n",
    "#display calculated sum(result) \n",
    "print (result)"
   ]
  },
  {
   "cell_type": "code",
   "execution_count": 21,
   "id": "cc5ade29-b9ea-421e-a5b7-841a6f6bb18d",
   "metadata": {},
   "outputs": [
    {
     "name": "stdin",
     "output_type": "stream",
     "text": [
      "Enter first number:  19\n",
      "Enter second number:  23\n"
     ]
    },
    {
     "name": "stdout",
     "output_type": "stream",
     "text": [
      "42.0\n"
     ]
    }
   ],
   "source": [
    "#Function prototype\n",
    "#float sum3()\n",
    "\n",
    "def sum3():\n",
    "\n",
    "    try:\n",
    "\n",
    "        #input numbers from user, convert to float type and store in variables\n",
    "        num1 = float(input(\"Enter first number: \"))\n",
    "        num2 = float(input(\"Enter second number: \"))\n",
    "\n",
    "        #calculate sum of numbers\n",
    "        summ = num1 + num2\n",
    " \n",
    "    except ValueError: \n",
    "        print(\"Error! Enter Float Value\") \n",
    "    return summ\n",
    "\n",
    "\n",
    "result = sum3() #Function Call \n",
    "#display calculated sum(result) \n",
    "print (result)"
   ]
  },
  {
   "cell_type": "code",
   "execution_count": 22,
   "id": "54abf2bd-b67d-4d5b-a823-76669f18a7b9",
   "metadata": {},
   "outputs": [
    {
     "name": "stdin",
     "output_type": "stream",
     "text": [
      "Enter first number:  7\n",
      "Enter second number:  16\n"
     ]
    },
    {
     "name": "stdout",
     "output_type": "stream",
     "text": [
      "23.0\n"
     ]
    }
   ],
   "source": [
    "#Function prototype\n",
    "#float sum4(float num1, float num2)\n",
    "\n",
    "def sum4(num1, num2):\n",
    "\n",
    "    \n",
    "        #calculate sum of numbers\n",
    "        summ = num1 + num2\n",
    "        return summ\n",
    " \n",
    "try:\n",
    "\n",
    "    #input numbers from user, convert to float type and store in variables\n",
    "    num1 = float(input(\"Enter first number: \"))\n",
    "    num2 = float(input(\"Enter second number: \"))\n",
    "\n",
    "except ValueError: \n",
    "\n",
    "    print(\"Error! Enter Float Value\")     \n",
    "\n",
    "result = sum4(num1, num2) #Function Call\n",
    "#display calculated sum(result) \n",
    "print (result)"
   ]
  },
  {
   "cell_type": "markdown",
   "id": "1f21d243-f1a5-49fc-b0bd-2bd7fd4b7228",
   "metadata": {},
   "source": [
    "### Check if it is an even number or odd number\n",
    "\n",
    "### Variation 3: return type, no parameters\n",
    "\n",
    "#Function prototype\n",
    "\n",
    "\n",
    "#int even_odd()\n",
    "\n",
    "\n",
    "def even_odd():\n",
    "\n",
    "    try:\n",
    "        #input num\n",
    "        num = int(input(\"Enter number: \"))\n",
    "\n",
    "        #check condition for even\n",
    "        if num%2 == 0:\n",
    "        \n",
    "            return 1 \n",
    "        else:\n",
    "        \n",
    "            return 0\n",
    "    except ValueError: \n",
    " \n",
    "        print(\"Error! Enter Int Value\") \n",
    "\n",
    "status = even_odd() #Function Call\n",
    "\n",
    "if (status):\n",
    "\n",
    "    print(\"Number is even\")\n",
    "else:\n",
    "\n",
    "    print(\"Number is odd\")\n",
    "### Variation 4: return type, parameters\n",
    "\n",
    "#Function prototype\n",
    "\n",
    "\n",
    "#int even_odd(int num)\n",
    "\n",
    "\n",
    "def even_odd(num): \n",
    "\n",
    "        #check condition for even\n",
    "        if num%2 == 0:\n",
    "            return 1\n",
    "        else:\n",
    "            return 0\n",
    "    \n",
    "\n",
    "try:\n",
    "   \n",
    "    #input num\n",
    "    num = int(input(\"Enter number: \"))\n",
    "\n",
    "except ValueError: \n",
    " \n",
    "    print(\"Error! Enter Int Value\") \n",
    "    \n",
    "status = even_odd(num) #Function Call\n",
    "\n",
    "if status:\n",
    "    print(\"Number is even\")\n",
    "else:\n",
    "    print(\"Number is odd\")"
   ]
  },
  {
   "cell_type": "code",
   "execution_count": 23,
   "id": "9a33b092-eb71-4595-a84f-3ec2c52a352f",
   "metadata": {},
   "outputs": [
    {
     "name": "stdin",
     "output_type": "stream",
     "text": [
      "Enter number:  9\n"
     ]
    },
    {
     "name": "stdout",
     "output_type": "stream",
     "text": [
      "Number is odd\n"
     ]
    }
   ],
   "source": [
    "#Function prototype\n",
    "\n",
    "\n",
    "#int even_odd()\n",
    "\n",
    "\n",
    "def even_odd():\n",
    "\n",
    "    try:\n",
    "        #input num\n",
    "        num = int(input(\"Enter number: \"))\n",
    "\n",
    "        #check condition for even\n",
    "        if num%2 == 0:\n",
    "        \n",
    "            return 1 \n",
    "        else:\n",
    "        \n",
    "            return 0\n",
    "    except ValueError: \n",
    " \n",
    "        print(\"Error! Enter Int Value\") \n",
    "\n",
    "status = even_odd() #Function Call\n",
    "\n",
    "if (status):\n",
    "\n",
    "    print(\"Number is even\")\n",
    "else:\n",
    "\n",
    "    print(\"Number is odd\")"
   ]
  },
  {
   "cell_type": "code",
   "execution_count": 24,
   "id": "b75d3bac-808a-444b-a648-d5a0cd4f7ae9",
   "metadata": {},
   "outputs": [
    {
     "name": "stdin",
     "output_type": "stream",
     "text": [
      "Enter number:  2\n"
     ]
    },
    {
     "name": "stdout",
     "output_type": "stream",
     "text": [
      "Number is even\n"
     ]
    }
   ],
   "source": [
    "#Function prototype\n",
    "\n",
    "\n",
    "#int even_odd(int num)\n",
    "\n",
    "\n",
    "def even_odd(num): \n",
    "\n",
    "        #check condition for even\n",
    "        if num%2 == 0:\n",
    "            return 1\n",
    "        else:\n",
    "            return 0\n",
    "    \n",
    "\n",
    "try:\n",
    "   \n",
    "    #input num\n",
    "    num = int(input(\"Enter number: \"))\n",
    "\n",
    "except ValueError: \n",
    " \n",
    "    print(\"Error! Enter Int Value\") \n",
    "    \n",
    "status = even_odd(num) #Function Call\n",
    "\n",
    "if status:\n",
    "    print(\"Number is even\")\n",
    "else:\n",
    "    print(\"Number is odd\")"
   ]
  },
  {
   "cell_type": "markdown",
   "id": "32dde8c1-6b07-4318-b89d-a8ca113c0cbf",
   "metadata": {},
   "source": [
    "## <center>Data Structures in Python\n",
    "### TODO Task 1 \n",
    "\n",
    "Write down at least 2 Linear and 2 Non-linear Data Structures not \n",
    "mentioned in this Lecture? \n",
    "\n",
    "\n",
    "linear Data Structures: \n",
    "* Deques (Double-Ended Queues): Deques allow insertion and deletion of elements from both ends.\n",
    "* OrderedDict: This is a dictionary that maintains the order of keys as they are added.\n",
    "\n",
    "\n",
    "Non linear:\n",
    "* Heaps: A heap is a versatile and efficient data structure for managing ordered data, particularly when you need fast access to the minimum or maximum element.\n",
    "* Tries: A trie is a tree-like data structure used to store a dynamic set or associative array where the keys are usually strings."
   ]
  },
  {
   "cell_type": "markdown",
   "id": "9842df43-7d31-448b-804b-7e8aa42abf4b",
   "metadata": {},
   "source": [
    "### Your Turn Task 1 \n",
    "Search and write down Linear and Non-linear Data Structures for the \n",
    "following Programming Languages \n",
    "* C \n",
    "* Java \n",
    "* React JS \n",
    "* Ruby on Rail\n",
    "\n",
    "\n",
    "#### C \n",
    "* linear\n",
    "    * Arrays\n",
    "    * Linked Lists\n",
    "    * Stacks\n",
    "    * Queues\n",
    "\n",
    "* Non linear\n",
    "    * Trees\n",
    "    * Graphs\n",
    "    * Heaps\n",
    "    * Tries\n",
    "\n",
    "#### Java\n",
    "* linear\n",
    "    * Arrays\n",
    "    * Linked Lists\n",
    "    * Stacks\n",
    "    * Queues\n",
    "\n",
    "* Non linear\n",
    "    * Trees\n",
    "    * Graphs\n",
    "    * Heaps\n",
    "    * Tries\n",
    "\n",
    "#### React JS\n",
    "* Arrays\n",
    "* Lists and Keys \n",
    "* Objects\n",
    "* Maps and Sets\n",
    " \n",
    "#### Ruby on Rail\n",
    "* Arrays \n",
    "* Hashes\n",
    "* Sets\n",
    "* Ranges "
   ]
  },
  {
   "cell_type": "markdown",
   "id": "c95ce2f9-e6d0-4db6-9cfb-d5f2a9fc3ad4",
   "metadata": {},
   "source": [
    "## <center>Arrays\n",
    "\n",
    "### TODO Task 1\n",
    "Consider the following Float Array and perform all the Tasks that I have \n",
    "performed in this Lecture on Integer Array ages, to access array elements \n",
    "and store values in an array. Assume that Float takes 8 Bytes in the Memory \n",
    "\n",
    "\n",
    "marks = [88.5, 60.2, 70.8, 90.3, 20.6] \n",
    "\n",
    "\n",
    "**1.  Printing Values of Individual Array Elements on Output Screen** "
   ]
  },
  {
   "attachments": {},
   "cell_type": "markdown",
   "id": "cc200921-8f2d-4890-b237-9cadc6d59f74",
   "metadata": {},
   "source": [
    "**Step 1: Completely and Correctly Understand the Real-world Scenario**\n",
    "\n",
    "\n",
    "* The task is to access individual array elements and print them on output screen\n",
    "\n",
    "\n",
    "**Step 2: Extract Client Requirements**\n",
    "\n",
    "\n",
    "* The client wants to print each array element on output screen\n",
    "\n",
    "\n",
    "**Step 3: Extract Input-Processing-Output**\n",
    "\n",
    "\n",
    "* Input\n",
    "\n",
    "\n",
    "    * Data: 88.5, 60.2, 70.8, 90.3, 20.6\n",
    "    * Instruction:\n",
    "        * print on output screen\n",
    "\n",
    "\n",
    "* Processing \n",
    "    * print() function\n",
    "    * try-except\n",
    "\n",
    "* Output\n",
    "    * number of outputs: 5 \n",
    "    * data type: string\n",
    "\n",
    "\n",
    "\n",
    "**Step 4: Write down Pseudocode**\n",
    "\n",
    "\n",
    "1. Start \n",
    "2. Declare and initialise marks = [88.5, 60.2, 70.8, 90.3, 20.6]\n",
    "3. Display first element of array\n",
    "4. Display second element of array\n",
    "5. Display third element of array\n",
    "6. Display fourth element of array\n",
    "7. Display fifth element of array\n",
    "8. END \n",
    "\n",
    "**Step 5: Draw Flowchart (if needed)**\n",
    "\n",
    "\n",
    "\n",
    "**Step 6: Select Most Suitable Programming Language, IDE, and Machine**\n",
    "\n",
    "\n",
    "* Programming language: Python\n",
    "* IDE: Jupyter Notebook\n",
    "* Machine: Any standard machine with Python and Jupyter Notebook installed can be used\n",
    "\n",
    "\n",
    "**Step 7: Write down Developer and System Information**\n",
    "\n",
    "\n",
    "* Developer: Maryam Naveed\n",
    "* System:\n",
    "    * 64-bit operating system\n",
    "    * Windows 10 Home, 22H2\n",
    "\n",
    "\n",
    "**Step 8: Transform Pseudocode (or Flowchart) into Code with Proper Comments**\n",
    "\n",
    "#try block to execute error-free program\n",
    "try: \n",
    "\n",
    "    #initialise marks array with float values\n",
    "    marks = [88.5, 60.2, 70.8, 90.3, 20.6]\n",
    "    #display array elements using indexing\n",
    "    print(\"Value of First Array Element is: \\n\", marks[0]) \n",
    "    print(\"Value of Second Array Element is: \\n\", marks[1]) \n",
    "    print(\"Value of Third Array Element is: \\n\", marks[2]) \n",
    "    print(\"Value of Fourth Array Element is: \\n\", marks[3]) \n",
    "    print(\"Value of Fifth Array Element is: \\n\", marks[4]) \n",
    "\n",
    "\n",
    "#except block to handl errors arising in try block\n",
    "except: \n",
    "\n",
    "    print(\"Error Occurred\") \n",
    "   \n",
    "**Step 9: Test Your Code**"
   ]
  },
  {
   "cell_type": "code",
   "execution_count": 36,
   "id": "5a4d4725-5780-4764-8fab-c165afb4a409",
   "metadata": {},
   "outputs": [
    {
     "name": "stdout",
     "output_type": "stream",
     "text": [
      "Value of First Array Element is: \n",
      " 88.5\n",
      "Value of Second Array Element is: \n",
      " 60.2\n",
      "Value of Third Array Element is: \n",
      " 70.8\n",
      "Value of Fourth Array Element is: \n",
      " 90.3\n",
      "Value of Fifth Array Element is: \n",
      " 20.6\n"
     ]
    }
   ],
   "source": [
    "#try block to execute error-free program\n",
    "try: \n",
    "\n",
    "    #initialise marks array with float values\n",
    "    marks = [88.5, 60.2, 70.8, 90.3, 20.6]\n",
    "    #display array elements using indexing\n",
    "    print(\"Value of First Array Element is: \\n\", marks[0]) \n",
    "    print(\"Value of Second Array Element is: \\n\", marks[1]) \n",
    "    print(\"Value of Third Array Element is: \\n\", marks[2]) \n",
    "    print(\"Value of Fourth Array Element is: \\n\", marks[3]) \n",
    "    print(\"Value of Fifth Array Element is: \\n\", marks[4]) \n",
    "\n",
    "\n",
    "#except block to handl errors arising in try block\n",
    "except: \n",
    "\n",
    "    print(\"Error Occurred\") "
   ]
  },
  {
   "cell_type": "markdown",
   "id": "7edb5784-fce3-4401-91cd-842ca11ade56",
   "metadata": {},
   "source": [
    "**2.  Modifying Values of Individual Array Elements**"
   ]
  },
  {
   "attachments": {},
   "cell_type": "markdown",
   "id": "81da6d49-86bf-4ede-b5ae-0c25c761a5e8",
   "metadata": {},
   "source": [
    "**Step 1: Completely and Correctly Understand the Real-world Scenario**\n",
    "\n",
    "\n",
    "* The task is to access individual array elements and modify them \n",
    "\n",
    "\n",
    "**Step 2: Extract Client Requirements**\n",
    "\n",
    "\n",
    "* The client wants to modify array elements individually\n",
    "\n",
    "\n",
    "**Step 3: Extract Input-Processing-Output**\n",
    "\n",
    "\n",
    "* Input\n",
    " \n",
    "\n",
    "* Processing \n",
    "    * assignment operator(=)\n",
    "    * try-except\n",
    "\n",
    "* Output\n",
    "\n",
    "     \n",
    "**Step 4: Write down Pseudocode**\n",
    "\n",
    "\n",
    "1. Start \n",
    "2. Declare and initialise marks = [88.5, 60.2, 70.8, 90.3, 20.6]\n",
    "3. marks[3] = 17.1\n",
    "4. marks[1] = marks[0] + marks[3]\n",
    "5. marks[4] = marks[2] - marks[3]\n",
    "6. marks[0] = marks[0] - 15\n",
    "7. END \n",
    "\n",
    "**Step 5: Draw Flowchart (if needed)**\n",
    "\n",
    "\n",
    "\n",
    "**Step 6: Select Most Suitable Programming Language, IDE, and Machine**\n",
    "\n",
    "\n",
    "* Programming language: Python\n",
    "* IDE: Jupyter Notebook\n",
    "* Machine: Any standard machine with Python and Jupyter Notebook installed can be used\n",
    "\n",
    "\n",
    "**Step 7: Write down Developer and System Information**\n",
    "\n",
    "\n",
    "* Developer: Maryam Naveed\n",
    "* System:\n",
    "    * 64-bit operating system\n",
    "    * Windows 10 Home, 22H2\n",
    "\n",
    "\n",
    "**Step 8: Transform Pseudocode (or Flowchart) into Code with Proper Comments**\n",
    "\n",
    "#try block to execute error-free program\n",
    "try: \n",
    "\n",
    "    #initialise marks array with float values\n",
    "    marks = [88.5, 60.2, 70.8, 90.3, 20.6]\n",
    "    #modify array elements using indexing\n",
    "    marks[3] = 17.1\n",
    "    marks[1] = marks[0] + marks[3]\n",
    "    marks[4] = marks[2] - marks[3]\n",
    "    marks[0] = marks[0] - 15\n",
    "\n",
    "\n",
    "#except block to handle errors arising in try block\n",
    "except: \n",
    "\n",
    "    print(\"Error Occurred\") \n",
    "   \n",
    "**Step 9: Test Your Code**"
   ]
  },
  {
   "cell_type": "code",
   "execution_count": 28,
   "id": "7cd87909-c3fd-4939-949a-4918863eb744",
   "metadata": {},
   "outputs": [],
   "source": [
    "#try block to execute error-free program\n",
    "try: \n",
    "\n",
    "    #initialise marks array with float values\n",
    "    marks = [88.5, 60.2, 70.8, 90.3, 20.6]\n",
    "    #modify array elements using indexing\n",
    "    marks[3] = 17.1\n",
    "    marks[1] = marks[0] + marks[3]\n",
    "    marks[4] = marks[2] - marks[3]\n",
    "    marks[0] = marks[0] - 15\n",
    "     \n",
    "    \n",
    "\n",
    "#except block to handle errors arising in try block\n",
    "except: \n",
    "\n",
    "    print(\"Error Occurred\") "
   ]
  },
  {
   "cell_type": "markdown",
   "id": "cfe8abe4-a4cd-48e0-828e-d17f8fd181a6",
   "metadata": {},
   "source": [
    "**3. Methods to Store Values in an Array**\n",
    "* Method 1: Array Initialization\n",
    "\n",
    "marks = [88.5, 60.2, 70.8, 90.3, 20.6]\n",
    "\n",
    "\n",
    "* Method 2: Store Values Element by Element at Code Time\n",
    "\n",
    "try: \n",
    "   \n",
    "    # Five elements will be stored in marks array \n",
    "    # Create Array of Size = 5 and assign 0 to all indexes \n",
    "    marks = [0] * 5  \n",
    "    marks[0] = 88.5 \n",
    "    marks[1] = 60.2 \n",
    "    marks[2] = 70.8 \n",
    "    marks[3] = 90.3\n",
    "    marks[4] = 20.6\n",
    "    \n",
    "except: \n",
    "    \n",
    "    print(\"Error!!! Index out of Range\")  \n",
    "\n",
    "    \n",
    "* Method 3: Store Values Element by Element at Run Time\n",
    "\n",
    "\n",
    "try:   \n",
    "    \n",
    "    marks = [] \n",
    "    for counter in range(0,5):  \n",
    "        mark = float(input(f\"Enter marks {counter+1}: \")) \n",
    "        marks += [mark] \n",
    "    \n",
    "    print(\"Values of Marks Inserted in an Empty Array are: \",marks) \n",
    "except: \n",
    "\n",
    "    print(\"Error Occurred\") "
   ]
  },
  {
   "cell_type": "code",
   "execution_count": 29,
   "id": "4a97956f-98e0-44a8-b9a7-ee1888c75707",
   "metadata": {},
   "outputs": [],
   "source": [
    "marks = [88.5, 60.2, 70.8, 90.3, 20.6]"
   ]
  },
  {
   "cell_type": "code",
   "execution_count": 39,
   "id": "61046f9d-c3e9-42f6-8ed6-965ec9f9465f",
   "metadata": {},
   "outputs": [],
   "source": [
    "\n",
    "try: \n",
    "   \n",
    "    # Five elements will be stored in marks array \n",
    "    # Create Array of Size = 5 and assign 0 to all indexes \n",
    "    marks = [0] * 5  \n",
    "    marks[0] = 88.5 \n",
    "    marks[1] = 60.2 \n",
    "    marks[2] = 70.8 \n",
    "    marks[3] = 90.3\n",
    "    marks[4] = 20.6\n",
    "    \n",
    "except: \n",
    "    \n",
    "    print(\"Error!!! Index out of Range\")  \n"
   ]
  },
  {
   "cell_type": "code",
   "execution_count": 32,
   "id": "bc895370-0af1-4706-a4a1-27dbb0e71484",
   "metadata": {},
   "outputs": [
    {
     "name": "stdin",
     "output_type": "stream",
     "text": [
      "Enter marks 1:  43.4\n",
      "Enter marks 2:  89.9\n",
      "Enter marks 3:  78.7\n",
      "Enter marks 4:  45.5\n",
      "Enter marks 5:  93.1\n"
     ]
    },
    {
     "name": "stdout",
     "output_type": "stream",
     "text": [
      "Values of Marks Inserted in an Empty Array are:  [43.4, 89.9, 78.7, 45.5, 93.1]\n"
     ]
    }
   ],
   "source": [
    "try:   \n",
    "    \n",
    "    marks = [] \n",
    "    for counter in range(0,5):  \n",
    "        mark = float(input(f\"Enter marks {counter+1}: \")) \n",
    "        marks += [mark] \n",
    "    \n",
    "    print(\"Values of Marks Inserted in an Empty Array are: \",marks) \n",
    "except: \n",
    "\n",
    "    print(\"Error Occurred\") "
   ]
  },
  {
   "cell_type": "markdown",
   "id": "fbc9ccb0-d0e3-4b16-9c25-747767c67c66",
   "metadata": {},
   "source": [
    "**4. Methods to Display Values Stored in an Array**\n",
    "\n",
    "* Method 1: Display Values Stored in an Array without Loop\n",
    "\n",
    "try:   \n",
    "   \n",
    "    marks = [88.5, 60.2, 70.8, 90.3, 20.6] \n",
    "    print(\"Value of First Array Element is: \\n\", marks[0]) \n",
    "    print(\"Value of Second Array Element is: \\n\", marks[1]) \n",
    "    print(\"Value of Third Array Element is: \\n\", marks[2]) \n",
    "    print(\"Value of Fourth Array Element is: \\n\", marks[3]) \n",
    "    print(\"Value of Fifth Array Element is: \\n\", marks[4]) \n",
    "\n",
    "except: \n",
    "\n",
    "    print(\"Error Occurred\") \n",
    "\n",
    "* Method 2: Display Values Stored in an Array with Loop\n",
    "\n",
    "try:   \n",
    "    \n",
    "    marks = [88.5, 60.2, 70.8, 90.3, 20.6]\n",
    "    \n",
    "    for mark in marks: \n",
    "        print(mark) \n",
    "        \n",
    "except: \n",
    "    \n",
    "    print(\"Error Occurred\")\n",
    "\n",
    "* Methods 3: Display Entire Array at Once\n",
    "\n",
    "try:   \n",
    "    \n",
    "    marks = [88.5, 60.2, 70.8, 90.3, 20.6]\n",
    "    print(marks) \n",
    "    \n",
    "except: \n",
    "    \n",
    "    print(\"Error Occurred\")     "
   ]
  },
  {
   "cell_type": "code",
   "execution_count": 34,
   "id": "1ba6f300-e421-477e-9790-19a43cbc2762",
   "metadata": {},
   "outputs": [
    {
     "name": "stdout",
     "output_type": "stream",
     "text": [
      "Value of First Array Element is: \n",
      " 88.5\n",
      "Value of Second Array Element is: \n",
      " 60.2\n",
      "Value of Third Array Element is: \n",
      " 70.8\n",
      "Value of Fourth Array Element is: \n",
      " 90.3\n",
      "Value of Fifth Array Element is: \n",
      " 20.6\n"
     ]
    }
   ],
   "source": [
    "try:   \n",
    "   \n",
    "    marks = [88.5, 60.2, 70.8, 90.3, 20.6] \n",
    "    print(\"Value of First Array Element is: \\n\", marks[0]) \n",
    "    print(\"Value of Second Array Element is: \\n\", marks[1]) \n",
    "    print(\"Value of Third Array Element is: \\n\", marks[2]) \n",
    "    print(\"Value of Fourth Array Element is: \\n\", marks[3]) \n",
    "    print(\"Value of Fifth Array Element is: \\n\", marks[4]) \n",
    "\n",
    "except: \n",
    "\n",
    "    print(\"Error Occurred\") "
   ]
  },
  {
   "cell_type": "code",
   "execution_count": 35,
   "id": "877c2613-044e-4588-b110-706351bfff91",
   "metadata": {},
   "outputs": [
    {
     "name": "stdout",
     "output_type": "stream",
     "text": [
      "88.5\n",
      "60.2\n",
      "70.8\n",
      "90.3\n",
      "20.6\n"
     ]
    }
   ],
   "source": [
    "try:   \n",
    "    \n",
    "    marks = [88.5, 60.2, 70.8, 90.3, 20.6]\n",
    "    \n",
    "    for mark in marks: \n",
    "        print(mark) \n",
    "        \n",
    "except: \n",
    "    \n",
    "    print(\"Error Occurred\")"
   ]
  },
  {
   "cell_type": "code",
   "execution_count": 33,
   "id": "7b79df92-e760-4085-bac0-8dfd16f4d605",
   "metadata": {},
   "outputs": [
    {
     "name": "stdout",
     "output_type": "stream",
     "text": [
      "[88.5, 60.2, 70.8, 90.3, 20.6]\n"
     ]
    }
   ],
   "source": [
    "try:   \n",
    "    \n",
    "    marks = [88.5, 60.2, 70.8, 90.3, 20.6]\n",
    "    print(marks) \n",
    "    \n",
    "except: \n",
    "    \n",
    "    print(\"Error Occurred\") "
   ]
  },
  {
   "cell_type": "markdown",
   "id": "5d5e7692-69c5-4d67-81c1-be9d139fa628",
   "metadata": {},
   "source": [
    "### Your Turn Task 1 \n",
    "Consider an array (similar to the one given in TODO Task) and perform all \n",
    "the tasks (shown in this Lecture) to access array elements and store values \n",
    "in an array?\n",
    "\n",
    "\n",
    "salaries = [125000, 127950, 170500, 113900, 345700]\n",
    "\n",
    "\n",
    "**1.  Printing Values of Individual Array Elements on Output Screen** "
   ]
  },
  {
   "cell_type": "code",
   "execution_count": 37,
   "id": "a162dade-2c5f-49d1-af50-a232d1bb96c2",
   "metadata": {},
   "outputs": [
    {
     "name": "stdout",
     "output_type": "stream",
     "text": [
      "Value of First Array Element is: \n",
      " 125000\n",
      "Value of Second Array Element is: \n",
      " 127950\n",
      "Value of Third Array Element is: \n",
      " 170500\n",
      "Value of Fourth Array Element is: \n",
      " 113900\n",
      "Value of Fifth Array Element is: \n",
      " 345700\n"
     ]
    }
   ],
   "source": [
    "#try block to execute error-free program\n",
    "try: \n",
    "\n",
    "    #initialise salaries array \n",
    "    salaries = [125000, 127950, 170500, 113900, 345700]\n",
    "    #display array elements using indexing\n",
    "    print(\"Value of First Array Element is: \\n\", salaries[0]) \n",
    "    print(\"Value of Second Array Element is: \\n\", salaries[1]) \n",
    "    print(\"Value of Third Array Element is: \\n\", salaries[2]) \n",
    "    print(\"Value of Fourth Array Element is: \\n\", salaries[3]) \n",
    "    print(\"Value of Fifth Array Element is: \\n\", salaries[4]) \n",
    "\n",
    "\n",
    "#except block to handle errors arising in try block\n",
    "except: \n",
    "\n",
    "    print(\"Error Occurred\") "
   ]
  },
  {
   "cell_type": "markdown",
   "id": "62e23ca8-7eba-4ce9-b830-e02d86c4fc32",
   "metadata": {},
   "source": [
    "**2.  Modifying Values of Individual Array Elements**"
   ]
  },
  {
   "cell_type": "code",
   "execution_count": 38,
   "id": "3334f3e1-ce5c-44a9-a4af-6714da5c2507",
   "metadata": {},
   "outputs": [],
   "source": [
    "#try block to execute error-free program\n",
    "try: \n",
    "\n",
    "    #initialise salaries array  \n",
    "    salaries = [125000, 127950, 170500, 113900, 345700]\n",
    "    #modify array elements using indexing\n",
    "    salaries[2] = 175111\n",
    "    salaries[3] = salaries[0] + salaries[2]\n",
    "    salaries[4] = salaries[2] - salaries[3]\n",
    "    salaries[0] = salaries[0] + 15000\n",
    "     \n",
    "    \n",
    "\n",
    "#except block to handle errors arising in try block\n",
    "except: \n",
    "\n",
    "    print(\"Error Occurred\") "
   ]
  },
  {
   "cell_type": "markdown",
   "id": "feaa5507-e5d1-4496-8870-255dc3b44bec",
   "metadata": {},
   "source": [
    "**3. Methods to Store Values in an Array**\n",
    "* Method 1: Array Initialization\n",
    "\n",
    "salaries = [125000, 127950, 170500, 113900, 345700]\n",
    "\n",
    "\n",
    "* Method 2: Store Values Element by Element at Code Time\n",
    "\n",
    "try: \n",
    "\n",
    "   \n",
    "    # Create Array of Size = 5 and assign 0 to all indexes \n",
    "    salaries = [0] * 5  \n",
    "    salaries[0] = 125000 \n",
    "    salaries[1] = 127950 \n",
    "    salaries[2] = 170500 \n",
    "    salaries[3] = 113900\n",
    "    salaries[4] = 345700\n",
    "    \n",
    "except: \n",
    "    \n",
    "    print(\"Error!!! Index out of Range\")  \n",
    "\n",
    "    \n",
    "* Method 3: Store Values Element by Element at Run Time\n",
    "\n",
    "\n",
    "try:   \n",
    "    \n",
    "    salaries = [] \n",
    "    for counter in range(0,5):  \n",
    "        salary = float(input(f\"Enter salary {counter+1}: \")) \n",
    "        salaries += [salary] \n",
    "    \n",
    "    print(\"Values of Salaries Inserted in an Empty Array are: \",salaries) \n",
    "except: \n",
    "\n",
    "    print(\"Error Occurred\") "
   ]
  },
  {
   "cell_type": "code",
   "execution_count": 40,
   "id": "c1b0ce7f-38ae-47d4-b3a3-c55dacb1f390",
   "metadata": {},
   "outputs": [],
   "source": [
    "salaries = [125000, 127950, 170500, 113900, 345700]"
   ]
  },
  {
   "cell_type": "code",
   "execution_count": 41,
   "id": "4e139eda-363d-49cf-a642-1121e37db28c",
   "metadata": {},
   "outputs": [],
   "source": [
    "try: \n",
    "\n",
    "   \n",
    "    # Create Array of Size = 5 and assign 0 to all indexes \n",
    "    salaries = [0] * 5  \n",
    "    salaries[0] = 125000 \n",
    "    salaries[1] = 127950 \n",
    "    salaries[2] = 170500 \n",
    "    salaries[3] = 113900\n",
    "    salaries[4] = 345700\n",
    "    \n",
    "except: \n",
    "    \n",
    "    print(\"Error!!! Index out of Range\") "
   ]
  },
  {
   "cell_type": "code",
   "execution_count": 43,
   "id": "c9da5390-3002-4bd9-b9b5-d81bb14de938",
   "metadata": {},
   "outputs": [
    {
     "name": "stdin",
     "output_type": "stream",
     "text": [
      "Enter salary 1:  12345\n",
      "Enter salary 2:  1234567\n",
      "Enter salary 3:  12345\n",
      "Enter salary 4:  34567\n",
      "Enter salary 5:  345678\n"
     ]
    },
    {
     "name": "stdout",
     "output_type": "stream",
     "text": [
      "Values of Salaries Inserted in an Empty Array are:  [12345.0, 1234567.0, 12345.0, 34567.0, 345678.0]\n"
     ]
    }
   ],
   "source": [
    "try:   \n",
    "    \n",
    "    salaries = [] \n",
    "    for counter in range(0,5):  \n",
    "        salary = float(input(f\"Enter salary {counter+1}: \")) \n",
    "        salaries += [salary] \n",
    "    \n",
    "    print(\"Values of Salaries Inserted in an Empty Array are: \",salaries) \n",
    "except: \n",
    "\n",
    "    print(\"Error Occurred\") "
   ]
  },
  {
   "cell_type": "markdown",
   "id": "0075bf5d-c8cb-4f2c-8d64-7c29b4ea013d",
   "metadata": {},
   "source": [
    "**4. Methods to Display Values Stored in an Array**\n",
    "\n",
    "* Method 1: Display Values Stored in an Array without Loop\n",
    "\n",
    "try:   \n",
    "   \n",
    "    salaries = [125000, 127950, 170500, 113900, 345700] \n",
    "    print(\"Value of First Array Element is: \\n\", salaries[0]) \n",
    "    print(\"Value of Second Array Element is: \\n\", salaries[1]) \n",
    "    print(\"Value of Third Array Element is: \\n\", salaries[2]) \n",
    "    print(\"Value of Fourth Array Element is: \\n\", salaries[3]) \n",
    "    print(\"Value of Fifth Array Element is: \\n\", salaries[4]) \n",
    "\n",
    "except: \n",
    "\n",
    "    print(\"Error Occurred\") \n",
    "\n",
    "* Method 2: Display Values Stored in an Array with Loop\n",
    "\n",
    "try:   \n",
    "    \n",
    "    salaries = [125000, 127950, 170500, 113900, 345700] \n",
    "    \n",
    "    for salary in salaries: \n",
    "        print(salary) \n",
    "        \n",
    "except: \n",
    "    \n",
    "    print(\"Error Occurred\")\n",
    "\n",
    "* Methods 3: Display Entire Array at Once\n",
    "\n",
    "try:   \n",
    "    \n",
    "    salaries = [125000, 127950, 170500, 113900, 345700] \n",
    "    print(salaries) \n",
    "    \n",
    "except: \n",
    "    \n",
    "    print(\"Error Occurred\")     "
   ]
  },
  {
   "cell_type": "code",
   "execution_count": 46,
   "id": "6c6f034a-6e6a-472e-b4bb-cad8dc1ec7f0",
   "metadata": {},
   "outputs": [
    {
     "name": "stdout",
     "output_type": "stream",
     "text": [
      "Value of First Array Element is: \n",
      " 125000\n",
      "Value of Second Array Element is: \n",
      " 127950\n",
      "Value of Third Array Element is: \n",
      " 170500\n",
      "Value of Fourth Array Element is: \n",
      " 113900\n",
      "Value of Fifth Array Element is: \n",
      " 345700\n"
     ]
    }
   ],
   "source": [
    "try:   \n",
    "   \n",
    "    salaries = [125000, 127950, 170500, 113900, 345700] \n",
    "    print(\"Value of First Array Element is: \\n\", salaries[0]) \n",
    "    print(\"Value of Second Array Element is: \\n\", salaries[1]) \n",
    "    print(\"Value of Third Array Element is: \\n\", salaries[2]) \n",
    "    print(\"Value of Fourth Array Element is: \\n\", salaries[3]) \n",
    "    print(\"Value of Fifth Array Element is: \\n\", salaries[4]) \n",
    "\n",
    "except: \n",
    "\n",
    "    print(\"Error Occurred\") "
   ]
  },
  {
   "cell_type": "code",
   "execution_count": 47,
   "id": "b886ca92-eff7-409a-a902-57ec0fa0116d",
   "metadata": {},
   "outputs": [
    {
     "name": "stdout",
     "output_type": "stream",
     "text": [
      "125000\n",
      "127950\n",
      "170500\n",
      "113900\n",
      "345700\n"
     ]
    }
   ],
   "source": [
    "try:   \n",
    "    \n",
    "    salaries = [125000, 127950, 170500, 113900, 345700] \n",
    "    \n",
    "    for salary in salaries: \n",
    "        print(salary) \n",
    "        \n",
    "except: \n",
    "    \n",
    "    print(\"Error Occurred\")"
   ]
  },
  {
   "cell_type": "code",
   "execution_count": 48,
   "id": "81d001b4-8db0-43d8-9d8d-912fbefaa17c",
   "metadata": {},
   "outputs": [
    {
     "name": "stdout",
     "output_type": "stream",
     "text": [
      "[125000, 127950, 170500, 113900, 345700]\n"
     ]
    }
   ],
   "source": [
    "try:   \n",
    "    \n",
    "    salaries = [125000, 127950, 170500, 113900, 345700] \n",
    "    print(salaries) \n",
    "    \n",
    "except: \n",
    "    \n",
    "    print(\"Error Occurred\")   "
   ]
  },
  {
   "cell_type": "markdown",
   "id": "13919fdd-8a99-4f24-8e06-e9975d891cf2",
   "metadata": {},
   "source": []
  },
  {
   "cell_type": "markdown",
   "id": "02cf5bd7-bcee-407d-af6d-f4d31d4e712f",
   "metadata": {},
   "source": []
  }
 ],
 "metadata": {
  "kernelspec": {
   "display_name": "Python 3 (ipykernel)",
   "language": "python",
   "name": "python3"
  },
  "language_info": {
   "codemirror_mode": {
    "name": "ipython",
    "version": 3
   },
   "file_extension": ".py",
   "mimetype": "text/x-python",
   "name": "python",
   "nbconvert_exporter": "python",
   "pygments_lexer": "ipython3",
   "version": "3.12.4"
  }
 },
 "nbformat": 4,
 "nbformat_minor": 5
}
